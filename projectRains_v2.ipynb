{
  "cells": [
    {
      "cell_type": "markdown",
      "metadata": {
        "id": "view-in-github",
        "colab_type": "text"
      },
      "source": [
        "<a href=\"https://colab.research.google.com/github/mousDZ/DevOps-Guide/blob/master/projectRains_v2.ipynb\" target=\"_parent\"><img src=\"https://colab.research.google.com/assets/colab-badge.svg\" alt=\"Open In Colab\"/></a>"
      ]
    },
    {
      "cell_type": "markdown",
      "metadata": {
        "id": "WBuffXi9TWwg"
      },
      "source": [
        "# Import des lib standards"
      ]
    },
    {
      "cell_type": "code",
      "execution_count": 1,
      "metadata": {
        "id": "PqyfdWtVTWwi"
      },
      "outputs": [],
      "source": [
        "import pandas as pd\n",
        "import numpy as np\n",
        "import matplotlib.pyplot as plt"
      ]
    },
    {
      "cell_type": "markdown",
      "metadata": {
        "id": "rTuzypJ5TWwj"
      },
      "source": [
        "# Import de la raw data"
      ]
    },
    {
      "cell_type": "code",
      "execution_count": 2,
      "metadata": {
        "id": "8aQPbD_rTWwj"
      },
      "outputs": [],
      "source": [
        "link_to_data = \"https://assets-datascientest.s3-eu-west-1.amazonaws.com/de/total/rains.csv\""
      ]
    },
    {
      "cell_type": "code",
      "execution_count": 3,
      "metadata": {
        "id": "jUbb3ZyYTWwj"
      },
      "outputs": [],
      "source": [
        "df = pd.read_csv(link_to_data)\n",
        "\n",
        "# pour accéder facilement aux différents types de data après le stransformations\n",
        "num_data_columns = df.select_dtypes(include=np.number)\n",
        "cat_data_columns = df.select_dtypes(exclude=np.number)"
      ]
    },
    {
      "cell_type": "markdown",
      "metadata": {
        "id": "iDhum_RyTWwj"
      },
      "source": [
        "# Decouverte de la data"
      ]
    },
    {
      "cell_type": "code",
      "execution_count": 4,
      "metadata": {
        "id": "E04Pz3MwTWwk",
        "outputId": "62fadd17-4667-496b-961f-70a093a6a365",
        "colab": {
          "base_uri": "https://localhost:8080/",
          "height": 357
        }
      },
      "outputs": [
        {
          "output_type": "execute_result",
          "data": {
            "text/html": [
              "\n",
              "  <div id=\"df-9a1513c2-375c-4c66-b38d-cfcfe1461afc\">\n",
              "    <div class=\"colab-df-container\">\n",
              "      <div>\n",
              "<style scoped>\n",
              "    .dataframe tbody tr th:only-of-type {\n",
              "        vertical-align: middle;\n",
              "    }\n",
              "\n",
              "    .dataframe tbody tr th {\n",
              "        vertical-align: top;\n",
              "    }\n",
              "\n",
              "    .dataframe thead th {\n",
              "        text-align: right;\n",
              "    }\n",
              "</style>\n",
              "<table border=\"1\" class=\"dataframe\">\n",
              "  <thead>\n",
              "    <tr style=\"text-align: right;\">\n",
              "      <th></th>\n",
              "      <th>Date</th>\n",
              "      <th>Location</th>\n",
              "      <th>MinTemp</th>\n",
              "      <th>MaxTemp</th>\n",
              "      <th>Rainfall</th>\n",
              "      <th>Evaporation</th>\n",
              "      <th>Sunshine</th>\n",
              "      <th>WindGustDir</th>\n",
              "      <th>WindGustSpeed</th>\n",
              "      <th>WindDir9am</th>\n",
              "      <th>WindDir3pm</th>\n",
              "      <th>WindSpeed9am</th>\n",
              "      <th>WindSpeed3pm</th>\n",
              "      <th>Humidity9am</th>\n",
              "      <th>Humidity3pm</th>\n",
              "      <th>Pressure9am</th>\n",
              "      <th>Pressure3pm</th>\n",
              "      <th>Cloud9am</th>\n",
              "      <th>Cloud3pm</th>\n",
              "      <th>Temp9am</th>\n",
              "      <th>Temp3pm</th>\n",
              "      <th>RainToday</th>\n",
              "      <th>RainTomorrow</th>\n",
              "    </tr>\n",
              "  </thead>\n",
              "  <tbody>\n",
              "    <tr>\n",
              "      <th>0</th>\n",
              "      <td>2008-12-01</td>\n",
              "      <td>Newcastle</td>\n",
              "      <td>13.2</td>\n",
              "      <td>NaN</td>\n",
              "      <td>0.0</td>\n",
              "      <td>NaN</td>\n",
              "      <td>NaN</td>\n",
              "      <td>NaN</td>\n",
              "      <td>NaN</td>\n",
              "      <td>NW</td>\n",
              "      <td>NW</td>\n",
              "      <td>6.0</td>\n",
              "      <td>19.0</td>\n",
              "      <td>50.0</td>\n",
              "      <td>24.0</td>\n",
              "      <td>NaN</td>\n",
              "      <td>NaN</td>\n",
              "      <td>3.0</td>\n",
              "      <td>4.0</td>\n",
              "      <td>21.8</td>\n",
              "      <td>30.6</td>\n",
              "      <td>No</td>\n",
              "      <td>No</td>\n",
              "    </tr>\n",
              "    <tr>\n",
              "      <th>1</th>\n",
              "      <td>2008-12-02</td>\n",
              "      <td>Newcastle</td>\n",
              "      <td>NaN</td>\n",
              "      <td>32.2</td>\n",
              "      <td>0.0</td>\n",
              "      <td>NaN</td>\n",
              "      <td>NaN</td>\n",
              "      <td>NaN</td>\n",
              "      <td>NaN</td>\n",
              "      <td>NaN</td>\n",
              "      <td>NE</td>\n",
              "      <td>NaN</td>\n",
              "      <td>19.0</td>\n",
              "      <td>NaN</td>\n",
              "      <td>59.0</td>\n",
              "      <td>NaN</td>\n",
              "      <td>NaN</td>\n",
              "      <td>NaN</td>\n",
              "      <td>0.0</td>\n",
              "      <td>NaN</td>\n",
              "      <td>25.4</td>\n",
              "      <td>No</td>\n",
              "      <td>No</td>\n",
              "    </tr>\n",
              "    <tr>\n",
              "      <th>2</th>\n",
              "      <td>2008-12-03</td>\n",
              "      <td>Newcastle</td>\n",
              "      <td>16.2</td>\n",
              "      <td>32.2</td>\n",
              "      <td>0.0</td>\n",
              "      <td>NaN</td>\n",
              "      <td>NaN</td>\n",
              "      <td>NaN</td>\n",
              "      <td>NaN</td>\n",
              "      <td>N</td>\n",
              "      <td>SE</td>\n",
              "      <td>2.0</td>\n",
              "      <td>2.0</td>\n",
              "      <td>74.0</td>\n",
              "      <td>26.0</td>\n",
              "      <td>NaN</td>\n",
              "      <td>NaN</td>\n",
              "      <td>4.0</td>\n",
              "      <td>4.0</td>\n",
              "      <td>22.2</td>\n",
              "      <td>32.0</td>\n",
              "      <td>No</td>\n",
              "      <td>No</td>\n",
              "    </tr>\n",
              "    <tr>\n",
              "      <th>3</th>\n",
              "      <td>2008-12-04</td>\n",
              "      <td>Newcastle</td>\n",
              "      <td>19.2</td>\n",
              "      <td>24.0</td>\n",
              "      <td>0.0</td>\n",
              "      <td>NaN</td>\n",
              "      <td>NaN</td>\n",
              "      <td>NaN</td>\n",
              "      <td>NaN</td>\n",
              "      <td>SE</td>\n",
              "      <td>SE</td>\n",
              "      <td>22.0</td>\n",
              "      <td>22.0</td>\n",
              "      <td>66.0</td>\n",
              "      <td>61.0</td>\n",
              "      <td>NaN</td>\n",
              "      <td>NaN</td>\n",
              "      <td>7.0</td>\n",
              "      <td>5.0</td>\n",
              "      <td>20.4</td>\n",
              "      <td>23.0</td>\n",
              "      <td>No</td>\n",
              "      <td>No</td>\n",
              "    </tr>\n",
              "    <tr>\n",
              "      <th>4</th>\n",
              "      <td>2008-12-05</td>\n",
              "      <td>Newcastle</td>\n",
              "      <td>18.8</td>\n",
              "      <td>30.2</td>\n",
              "      <td>0.0</td>\n",
              "      <td>NaN</td>\n",
              "      <td>NaN</td>\n",
              "      <td>NaN</td>\n",
              "      <td>NaN</td>\n",
              "      <td>NE</td>\n",
              "      <td>NaN</td>\n",
              "      <td>4.0</td>\n",
              "      <td>NaN</td>\n",
              "      <td>85.0</td>\n",
              "      <td>NaN</td>\n",
              "      <td>NaN</td>\n",
              "      <td>NaN</td>\n",
              "      <td>8.0</td>\n",
              "      <td>NaN</td>\n",
              "      <td>20.0</td>\n",
              "      <td>NaN</td>\n",
              "      <td>No</td>\n",
              "      <td>No</td>\n",
              "    </tr>\n",
              "  </tbody>\n",
              "</table>\n",
              "</div>\n",
              "      <button class=\"colab-df-convert\" onclick=\"convertToInteractive('df-9a1513c2-375c-4c66-b38d-cfcfe1461afc')\"\n",
              "              title=\"Convert this dataframe to an interactive table.\"\n",
              "              style=\"display:none;\">\n",
              "        \n",
              "  <svg xmlns=\"http://www.w3.org/2000/svg\" height=\"24px\"viewBox=\"0 0 24 24\"\n",
              "       width=\"24px\">\n",
              "    <path d=\"M0 0h24v24H0V0z\" fill=\"none\"/>\n",
              "    <path d=\"M18.56 5.44l.94 2.06.94-2.06 2.06-.94-2.06-.94-.94-2.06-.94 2.06-2.06.94zm-11 1L8.5 8.5l.94-2.06 2.06-.94-2.06-.94L8.5 2.5l-.94 2.06-2.06.94zm10 10l.94 2.06.94-2.06 2.06-.94-2.06-.94-.94-2.06-.94 2.06-2.06.94z\"/><path d=\"M17.41 7.96l-1.37-1.37c-.4-.4-.92-.59-1.43-.59-.52 0-1.04.2-1.43.59L10.3 9.45l-7.72 7.72c-.78.78-.78 2.05 0 2.83L4 21.41c.39.39.9.59 1.41.59.51 0 1.02-.2 1.41-.59l7.78-7.78 2.81-2.81c.8-.78.8-2.07 0-2.86zM5.41 20L4 18.59l7.72-7.72 1.47 1.35L5.41 20z\"/>\n",
              "  </svg>\n",
              "      </button>\n",
              "      \n",
              "  <style>\n",
              "    .colab-df-container {\n",
              "      display:flex;\n",
              "      flex-wrap:wrap;\n",
              "      gap: 12px;\n",
              "    }\n",
              "\n",
              "    .colab-df-convert {\n",
              "      background-color: #E8F0FE;\n",
              "      border: none;\n",
              "      border-radius: 50%;\n",
              "      cursor: pointer;\n",
              "      display: none;\n",
              "      fill: #1967D2;\n",
              "      height: 32px;\n",
              "      padding: 0 0 0 0;\n",
              "      width: 32px;\n",
              "    }\n",
              "\n",
              "    .colab-df-convert:hover {\n",
              "      background-color: #E2EBFA;\n",
              "      box-shadow: 0px 1px 2px rgba(60, 64, 67, 0.3), 0px 1px 3px 1px rgba(60, 64, 67, 0.15);\n",
              "      fill: #174EA6;\n",
              "    }\n",
              "\n",
              "    [theme=dark] .colab-df-convert {\n",
              "      background-color: #3B4455;\n",
              "      fill: #D2E3FC;\n",
              "    }\n",
              "\n",
              "    [theme=dark] .colab-df-convert:hover {\n",
              "      background-color: #434B5C;\n",
              "      box-shadow: 0px 1px 3px 1px rgba(0, 0, 0, 0.15);\n",
              "      filter: drop-shadow(0px 1px 2px rgba(0, 0, 0, 0.3));\n",
              "      fill: #FFFFFF;\n",
              "    }\n",
              "  </style>\n",
              "\n",
              "      <script>\n",
              "        const buttonEl =\n",
              "          document.querySelector('#df-9a1513c2-375c-4c66-b38d-cfcfe1461afc button.colab-df-convert');\n",
              "        buttonEl.style.display =\n",
              "          google.colab.kernel.accessAllowed ? 'block' : 'none';\n",
              "\n",
              "        async function convertToInteractive(key) {\n",
              "          const element = document.querySelector('#df-9a1513c2-375c-4c66-b38d-cfcfe1461afc');\n",
              "          const dataTable =\n",
              "            await google.colab.kernel.invokeFunction('convertToInteractive',\n",
              "                                                     [key], {});\n",
              "          if (!dataTable) return;\n",
              "\n",
              "          const docLinkHtml = 'Like what you see? Visit the ' +\n",
              "            '<a target=\"_blank\" href=https://colab.research.google.com/notebooks/data_table.ipynb>data table notebook</a>'\n",
              "            + ' to learn more about interactive tables.';\n",
              "          element.innerHTML = '';\n",
              "          dataTable['output_type'] = 'display_data';\n",
              "          await google.colab.output.renderOutput(dataTable, element);\n",
              "          const docLink = document.createElement('div');\n",
              "          docLink.innerHTML = docLinkHtml;\n",
              "          element.appendChild(docLink);\n",
              "        }\n",
              "      </script>\n",
              "    </div>\n",
              "  </div>\n",
              "  "
            ],
            "text/plain": [
              "         Date   Location  MinTemp  ...  Temp3pm  RainToday  RainTomorrow\n",
              "0  2008-12-01  Newcastle     13.2  ...     30.6         No            No\n",
              "1  2008-12-02  Newcastle      NaN  ...     25.4         No            No\n",
              "2  2008-12-03  Newcastle     16.2  ...     32.0         No            No\n",
              "3  2008-12-04  Newcastle     19.2  ...     23.0         No            No\n",
              "4  2008-12-05  Newcastle     18.8  ...      NaN         No            No\n",
              "\n",
              "[5 rows x 23 columns]"
            ]
          },
          "metadata": {},
          "execution_count": 4
        }
      ],
      "source": [
        "df.head()"
      ]
    },
    {
      "cell_type": "markdown",
      "source": [
        "A premiere vue, on voit qu'il y a beaucoup de colonnes et des valeurs Nan"
      ],
      "metadata": {
        "id": "Mhc4GIXBT5I5"
      }
    },
    {
      "cell_type": "markdown",
      "source": [
        "## description des variables"
      ],
      "metadata": {
        "id": "52ACVjVVUC5E"
      }
    },
    {
      "cell_type": "code",
      "source": [
        "df.describe()"
      ],
      "metadata": {
        "id": "fXt3HSg2UKBy",
        "outputId": "6eb066bf-91a2-4ab7-9bba-f9eff778b422",
        "colab": {
          "base_uri": "https://localhost:8080/",
          "height": 364
        }
      },
      "execution_count": 5,
      "outputs": [
        {
          "output_type": "execute_result",
          "data": {
            "text/html": [
              "\n",
              "  <div id=\"df-3c78cf37-46d8-4000-a467-c98c0c996de9\">\n",
              "    <div class=\"colab-df-container\">\n",
              "      <div>\n",
              "<style scoped>\n",
              "    .dataframe tbody tr th:only-of-type {\n",
              "        vertical-align: middle;\n",
              "    }\n",
              "\n",
              "    .dataframe tbody tr th {\n",
              "        vertical-align: top;\n",
              "    }\n",
              "\n",
              "    .dataframe thead th {\n",
              "        text-align: right;\n",
              "    }\n",
              "</style>\n",
              "<table border=\"1\" class=\"dataframe\">\n",
              "  <thead>\n",
              "    <tr style=\"text-align: right;\">\n",
              "      <th></th>\n",
              "      <th>MinTemp</th>\n",
              "      <th>MaxTemp</th>\n",
              "      <th>Rainfall</th>\n",
              "      <th>Evaporation</th>\n",
              "      <th>Sunshine</th>\n",
              "      <th>WindGustSpeed</th>\n",
              "      <th>WindSpeed9am</th>\n",
              "      <th>WindSpeed3pm</th>\n",
              "      <th>Humidity9am</th>\n",
              "      <th>Humidity3pm</th>\n",
              "      <th>Pressure9am</th>\n",
              "      <th>Pressure3pm</th>\n",
              "      <th>Cloud9am</th>\n",
              "      <th>Cloud3pm</th>\n",
              "      <th>Temp9am</th>\n",
              "      <th>Temp3pm</th>\n",
              "    </tr>\n",
              "  </thead>\n",
              "  <tbody>\n",
              "    <tr>\n",
              "      <th>count</th>\n",
              "      <td>24781.000000</td>\n",
              "      <td>24885.000000</td>\n",
              "      <td>24570.000000</td>\n",
              "      <td>16385.000000</td>\n",
              "      <td>16142.000000</td>\n",
              "      <td>21011.000000</td>\n",
              "      <td>25073.000000</td>\n",
              "      <td>24389.000000</td>\n",
              "      <td>24800.000000</td>\n",
              "      <td>24141.000000</td>\n",
              "      <td>21854.000000</td>\n",
              "      <td>21852.000000</td>\n",
              "      <td>16480.000000</td>\n",
              "      <td>15527.000000</td>\n",
              "      <td>24883.000000</td>\n",
              "      <td>24183.000000</td>\n",
              "    </tr>\n",
              "    <tr>\n",
              "      <th>mean</th>\n",
              "      <td>13.255958</td>\n",
              "      <td>23.627928</td>\n",
              "      <td>2.568637</td>\n",
              "      <td>5.180128</td>\n",
              "      <td>7.598346</td>\n",
              "      <td>38.323021</td>\n",
              "      <td>12.250668</td>\n",
              "      <td>17.501989</td>\n",
              "      <td>66.912621</td>\n",
              "      <td>51.880742</td>\n",
              "      <td>1018.254873</td>\n",
              "      <td>1015.802009</td>\n",
              "      <td>4.214078</td>\n",
              "      <td>4.237264</td>\n",
              "      <td>17.850520</td>\n",
              "      <td>22.018224</td>\n",
              "    </tr>\n",
              "    <tr>\n",
              "      <th>std</th>\n",
              "      <td>5.828184</td>\n",
              "      <td>5.911984</td>\n",
              "      <td>8.955230</td>\n",
              "      <td>3.421251</td>\n",
              "      <td>3.796346</td>\n",
              "      <td>13.483681</td>\n",
              "      <td>9.282323</td>\n",
              "      <td>9.349560</td>\n",
              "      <td>16.448132</td>\n",
              "      <td>17.757020</td>\n",
              "      <td>6.786389</td>\n",
              "      <td>6.637024</td>\n",
              "      <td>2.858866</td>\n",
              "      <td>2.699229</td>\n",
              "      <td>5.931133</td>\n",
              "      <td>5.722596</td>\n",
              "    </tr>\n",
              "    <tr>\n",
              "      <th>min</th>\n",
              "      <td>-8.000000</td>\n",
              "      <td>4.100000</td>\n",
              "      <td>0.000000</td>\n",
              "      <td>0.000000</td>\n",
              "      <td>0.000000</td>\n",
              "      <td>9.000000</td>\n",
              "      <td>0.000000</td>\n",
              "      <td>0.000000</td>\n",
              "      <td>3.000000</td>\n",
              "      <td>4.000000</td>\n",
              "      <td>982.300000</td>\n",
              "      <td>985.500000</td>\n",
              "      <td>0.000000</td>\n",
              "      <td>0.000000</td>\n",
              "      <td>-1.300000</td>\n",
              "      <td>3.700000</td>\n",
              "    </tr>\n",
              "    <tr>\n",
              "      <th>25%</th>\n",
              "      <td>9.500000</td>\n",
              "      <td>19.400000</td>\n",
              "      <td>0.000000</td>\n",
              "      <td>2.600000</td>\n",
              "      <td>4.800000</td>\n",
              "      <td>30.000000</td>\n",
              "      <td>6.000000</td>\n",
              "      <td>11.000000</td>\n",
              "      <td>56.000000</td>\n",
              "      <td>40.000000</td>\n",
              "      <td>1013.700000</td>\n",
              "      <td>1011.300000</td>\n",
              "      <td>1.000000</td>\n",
              "      <td>1.000000</td>\n",
              "      <td>13.600000</td>\n",
              "      <td>18.000000</td>\n",
              "    </tr>\n",
              "    <tr>\n",
              "      <th>50%</th>\n",
              "      <td>13.500000</td>\n",
              "      <td>23.500000</td>\n",
              "      <td>0.000000</td>\n",
              "      <td>4.600000</td>\n",
              "      <td>8.500000</td>\n",
              "      <td>37.000000</td>\n",
              "      <td>11.000000</td>\n",
              "      <td>17.000000</td>\n",
              "      <td>67.000000</td>\n",
              "      <td>52.000000</td>\n",
              "      <td>1018.200000</td>\n",
              "      <td>1015.800000</td>\n",
              "      <td>5.000000</td>\n",
              "      <td>5.000000</td>\n",
              "      <td>17.800000</td>\n",
              "      <td>21.900000</td>\n",
              "    </tr>\n",
              "    <tr>\n",
              "      <th>75%</th>\n",
              "      <td>17.600000</td>\n",
              "      <td>27.700000</td>\n",
              "      <td>0.800000</td>\n",
              "      <td>7.200000</td>\n",
              "      <td>10.500000</td>\n",
              "      <td>46.000000</td>\n",
              "      <td>17.000000</td>\n",
              "      <td>22.000000</td>\n",
              "      <td>78.000000</td>\n",
              "      <td>63.000000</td>\n",
              "      <td>1022.800000</td>\n",
              "      <td>1020.300000</td>\n",
              "      <td>7.000000</td>\n",
              "      <td>7.000000</td>\n",
              "      <td>22.300000</td>\n",
              "      <td>25.900000</td>\n",
              "    </tr>\n",
              "    <tr>\n",
              "      <th>max</th>\n",
              "      <td>33.900000</td>\n",
              "      <td>46.400000</td>\n",
              "      <td>240.000000</td>\n",
              "      <td>44.000000</td>\n",
              "      <td>13.900000</td>\n",
              "      <td>122.000000</td>\n",
              "      <td>130.000000</td>\n",
              "      <td>87.000000</td>\n",
              "      <td>100.000000</td>\n",
              "      <td>100.000000</td>\n",
              "      <td>1040.600000</td>\n",
              "      <td>1037.900000</td>\n",
              "      <td>9.000000</td>\n",
              "      <td>8.000000</td>\n",
              "      <td>39.000000</td>\n",
              "      <td>45.400000</td>\n",
              "    </tr>\n",
              "  </tbody>\n",
              "</table>\n",
              "</div>\n",
              "      <button class=\"colab-df-convert\" onclick=\"convertToInteractive('df-3c78cf37-46d8-4000-a467-c98c0c996de9')\"\n",
              "              title=\"Convert this dataframe to an interactive table.\"\n",
              "              style=\"display:none;\">\n",
              "        \n",
              "  <svg xmlns=\"http://www.w3.org/2000/svg\" height=\"24px\"viewBox=\"0 0 24 24\"\n",
              "       width=\"24px\">\n",
              "    <path d=\"M0 0h24v24H0V0z\" fill=\"none\"/>\n",
              "    <path d=\"M18.56 5.44l.94 2.06.94-2.06 2.06-.94-2.06-.94-.94-2.06-.94 2.06-2.06.94zm-11 1L8.5 8.5l.94-2.06 2.06-.94-2.06-.94L8.5 2.5l-.94 2.06-2.06.94zm10 10l.94 2.06.94-2.06 2.06-.94-2.06-.94-.94-2.06-.94 2.06-2.06.94z\"/><path d=\"M17.41 7.96l-1.37-1.37c-.4-.4-.92-.59-1.43-.59-.52 0-1.04.2-1.43.59L10.3 9.45l-7.72 7.72c-.78.78-.78 2.05 0 2.83L4 21.41c.39.39.9.59 1.41.59.51 0 1.02-.2 1.41-.59l7.78-7.78 2.81-2.81c.8-.78.8-2.07 0-2.86zM5.41 20L4 18.59l7.72-7.72 1.47 1.35L5.41 20z\"/>\n",
              "  </svg>\n",
              "      </button>\n",
              "      \n",
              "  <style>\n",
              "    .colab-df-container {\n",
              "      display:flex;\n",
              "      flex-wrap:wrap;\n",
              "      gap: 12px;\n",
              "    }\n",
              "\n",
              "    .colab-df-convert {\n",
              "      background-color: #E8F0FE;\n",
              "      border: none;\n",
              "      border-radius: 50%;\n",
              "      cursor: pointer;\n",
              "      display: none;\n",
              "      fill: #1967D2;\n",
              "      height: 32px;\n",
              "      padding: 0 0 0 0;\n",
              "      width: 32px;\n",
              "    }\n",
              "\n",
              "    .colab-df-convert:hover {\n",
              "      background-color: #E2EBFA;\n",
              "      box-shadow: 0px 1px 2px rgba(60, 64, 67, 0.3), 0px 1px 3px 1px rgba(60, 64, 67, 0.15);\n",
              "      fill: #174EA6;\n",
              "    }\n",
              "\n",
              "    [theme=dark] .colab-df-convert {\n",
              "      background-color: #3B4455;\n",
              "      fill: #D2E3FC;\n",
              "    }\n",
              "\n",
              "    [theme=dark] .colab-df-convert:hover {\n",
              "      background-color: #434B5C;\n",
              "      box-shadow: 0px 1px 3px 1px rgba(0, 0, 0, 0.15);\n",
              "      filter: drop-shadow(0px 1px 2px rgba(0, 0, 0, 0.3));\n",
              "      fill: #FFFFFF;\n",
              "    }\n",
              "  </style>\n",
              "\n",
              "      <script>\n",
              "        const buttonEl =\n",
              "          document.querySelector('#df-3c78cf37-46d8-4000-a467-c98c0c996de9 button.colab-df-convert');\n",
              "        buttonEl.style.display =\n",
              "          google.colab.kernel.accessAllowed ? 'block' : 'none';\n",
              "\n",
              "        async function convertToInteractive(key) {\n",
              "          const element = document.querySelector('#df-3c78cf37-46d8-4000-a467-c98c0c996de9');\n",
              "          const dataTable =\n",
              "            await google.colab.kernel.invokeFunction('convertToInteractive',\n",
              "                                                     [key], {});\n",
              "          if (!dataTable) return;\n",
              "\n",
              "          const docLinkHtml = 'Like what you see? Visit the ' +\n",
              "            '<a target=\"_blank\" href=https://colab.research.google.com/notebooks/data_table.ipynb>data table notebook</a>'\n",
              "            + ' to learn more about interactive tables.';\n",
              "          element.innerHTML = '';\n",
              "          dataTable['output_type'] = 'display_data';\n",
              "          await google.colab.output.renderOutput(dataTable, element);\n",
              "          const docLink = document.createElement('div');\n",
              "          docLink.innerHTML = docLinkHtml;\n",
              "          element.appendChild(docLink);\n",
              "        }\n",
              "      </script>\n",
              "    </div>\n",
              "  </div>\n",
              "  "
            ],
            "text/plain": [
              "            MinTemp       MaxTemp  ...       Temp9am       Temp3pm\n",
              "count  24781.000000  24885.000000  ...  24883.000000  24183.000000\n",
              "mean      13.255958     23.627928  ...     17.850520     22.018224\n",
              "std        5.828184      5.911984  ...      5.931133      5.722596\n",
              "min       -8.000000      4.100000  ...     -1.300000      3.700000\n",
              "25%        9.500000     19.400000  ...     13.600000     18.000000\n",
              "50%       13.500000     23.500000  ...     17.800000     21.900000\n",
              "75%       17.600000     27.700000  ...     22.300000     25.900000\n",
              "max       33.900000     46.400000  ...     39.000000     45.400000\n",
              "\n",
              "[8 rows x 16 columns]"
            ]
          },
          "metadata": {},
          "execution_count": 5
        }
      ]
    },
    {
      "cell_type": "markdown",
      "source": [
        "## séparation des variables (numerique et categorielle)"
      ],
      "metadata": {
        "id": "b9_slpXZUOIo"
      }
    },
    {
      "cell_type": "code",
      "source": [
        "df.info()"
      ],
      "metadata": {
        "id": "uSL6s8DsVUka",
        "outputId": "55a38982-0030-4d48-95a9-44f3247b408b",
        "colab": {
          "base_uri": "https://localhost:8080/"
        }
      },
      "execution_count": 10,
      "outputs": [
        {
          "output_type": "stream",
          "name": "stdout",
          "text": [
            "<class 'pandas.core.frame.DataFrame'>\n",
            "RangeIndex: 25631 entries, 0 to 25630\n",
            "Data columns (total 23 columns):\n",
            " #   Column         Non-Null Count  Dtype  \n",
            "---  ------         --------------  -----  \n",
            " 0   Date           25631 non-null  object \n",
            " 1   Location       25631 non-null  object \n",
            " 2   MinTemp        24781 non-null  float64\n",
            " 3   MaxTemp        24885 non-null  float64\n",
            " 4   Rainfall       24570 non-null  float64\n",
            " 5   Evaporation    16385 non-null  float64\n",
            " 6   Sunshine       16142 non-null  float64\n",
            " 7   WindGustDir    21009 non-null  object \n",
            " 8   WindGustSpeed  21011 non-null  float64\n",
            " 9   WindDir9am     23020 non-null  object \n",
            " 10  WindDir3pm     23947 non-null  object \n",
            " 11  WindSpeed9am   25073 non-null  float64\n",
            " 12  WindSpeed3pm   24389 non-null  float64\n",
            " 13  Humidity9am    24800 non-null  float64\n",
            " 14  Humidity3pm    24141 non-null  float64\n",
            " 15  Pressure9am    21854 non-null  float64\n",
            " 16  Pressure3pm    21852 non-null  float64\n",
            " 17  Cloud9am       16480 non-null  float64\n",
            " 18  Cloud3pm       15527 non-null  float64\n",
            " 19  Temp9am        24883 non-null  float64\n",
            " 20  Temp3pm        24183 non-null  float64\n",
            " 21  RainToday      24570 non-null  object \n",
            " 22  RainTomorrow   24569 non-null  object \n",
            "dtypes: float64(16), object(7)\n",
            "memory usage: 4.5+ MB\n"
          ]
        }
      ]
    },
    {
      "cell_type": "code",
      "source": [
        "df.columns"
      ],
      "metadata": {
        "id": "NztsNYHDUTSp",
        "outputId": "1b25239c-249e-4d02-f1be-abed7baef113",
        "colab": {
          "base_uri": "https://localhost:8080/"
        }
      },
      "execution_count": 6,
      "outputs": [
        {
          "output_type": "execute_result",
          "data": {
            "text/plain": [
              "Index(['Date', 'Location', 'MinTemp', 'MaxTemp', 'Rainfall', 'Evaporation',\n",
              "       'Sunshine', 'WindGustDir', 'WindGustSpeed', 'WindDir9am', 'WindDir3pm',\n",
              "       'WindSpeed9am', 'WindSpeed3pm', 'Humidity9am', 'Humidity3pm',\n",
              "       'Pressure9am', 'Pressure3pm', 'Cloud9am', 'Cloud3pm', 'Temp9am',\n",
              "       'Temp3pm', 'RainToday', 'RainTomorrow'],\n",
              "      dtype='object')"
            ]
          },
          "metadata": {},
          "execution_count": 6
        }
      ]
    },
    {
      "cell_type": "code",
      "source": [
        "categorical_features = [column_name for column_name in df.columns if df[column_name].dtype == 'O']\n",
        "print(\"nombre de variables categorielles: {}\".format(len(categorical_features)))\n",
        "print(\"variables categorielles: \",categorical_features)\n",
        "numerical_features = [column_name for column_name in df.columns if df[column_name].dtype != 'O']\n",
        "print(\"nombre de variable numerique: {}\".format(len(numerical_features)))\n",
        "print(\"variables numeriques : \",numerical_features)"
      ],
      "metadata": {
        "id": "jmRDqmLZUYMi",
        "outputId": "d2b2ef25-2eac-4d1f-b94e-4105007af84a",
        "colab": {
          "base_uri": "https://localhost:8080/"
        }
      },
      "execution_count": 7,
      "outputs": [
        {
          "output_type": "stream",
          "name": "stdout",
          "text": [
            "nombre de variables categorielles: 7\n",
            "variables categorielles:  ['Date', 'Location', 'WindGustDir', 'WindDir9am', 'WindDir3pm', 'RainToday', 'RainTomorrow']\n",
            "nombre de variable numerique: 16\n",
            "variables numeriques :  ['MinTemp', 'MaxTemp', 'Rainfall', 'Evaporation', 'Sunshine', 'WindGustSpeed', 'WindSpeed9am', 'WindSpeed3pm', 'Humidity9am', 'Humidity3pm', 'Pressure9am', 'Pressure3pm', 'Cloud9am', 'Cloud3pm', 'Temp9am', 'Temp3pm']\n"
          ]
        }
      ]
    },
    {
      "cell_type": "code",
      "source": [
        "df.describe(include=[np.number])"
      ],
      "metadata": {
        "id": "RNgWzw28UedT",
        "outputId": "bb852c3d-1a6c-4cfe-f183-490c662567e7",
        "colab": {
          "base_uri": "https://localhost:8080/",
          "height": 364
        }
      },
      "execution_count": 8,
      "outputs": [
        {
          "output_type": "execute_result",
          "data": {
            "text/html": [
              "\n",
              "  <div id=\"df-bea39a93-e9a9-41bf-89ca-d6c2c3af0a88\">\n",
              "    <div class=\"colab-df-container\">\n",
              "      <div>\n",
              "<style scoped>\n",
              "    .dataframe tbody tr th:only-of-type {\n",
              "        vertical-align: middle;\n",
              "    }\n",
              "\n",
              "    .dataframe tbody tr th {\n",
              "        vertical-align: top;\n",
              "    }\n",
              "\n",
              "    .dataframe thead th {\n",
              "        text-align: right;\n",
              "    }\n",
              "</style>\n",
              "<table border=\"1\" class=\"dataframe\">\n",
              "  <thead>\n",
              "    <tr style=\"text-align: right;\">\n",
              "      <th></th>\n",
              "      <th>MinTemp</th>\n",
              "      <th>MaxTemp</th>\n",
              "      <th>Rainfall</th>\n",
              "      <th>Evaporation</th>\n",
              "      <th>Sunshine</th>\n",
              "      <th>WindGustSpeed</th>\n",
              "      <th>WindSpeed9am</th>\n",
              "      <th>WindSpeed3pm</th>\n",
              "      <th>Humidity9am</th>\n",
              "      <th>Humidity3pm</th>\n",
              "      <th>Pressure9am</th>\n",
              "      <th>Pressure3pm</th>\n",
              "      <th>Cloud9am</th>\n",
              "      <th>Cloud3pm</th>\n",
              "      <th>Temp9am</th>\n",
              "      <th>Temp3pm</th>\n",
              "    </tr>\n",
              "  </thead>\n",
              "  <tbody>\n",
              "    <tr>\n",
              "      <th>count</th>\n",
              "      <td>24781.000000</td>\n",
              "      <td>24885.000000</td>\n",
              "      <td>24570.000000</td>\n",
              "      <td>16385.000000</td>\n",
              "      <td>16142.000000</td>\n",
              "      <td>21011.000000</td>\n",
              "      <td>25073.000000</td>\n",
              "      <td>24389.000000</td>\n",
              "      <td>24800.000000</td>\n",
              "      <td>24141.000000</td>\n",
              "      <td>21854.000000</td>\n",
              "      <td>21852.000000</td>\n",
              "      <td>16480.000000</td>\n",
              "      <td>15527.000000</td>\n",
              "      <td>24883.000000</td>\n",
              "      <td>24183.000000</td>\n",
              "    </tr>\n",
              "    <tr>\n",
              "      <th>mean</th>\n",
              "      <td>13.255958</td>\n",
              "      <td>23.627928</td>\n",
              "      <td>2.568637</td>\n",
              "      <td>5.180128</td>\n",
              "      <td>7.598346</td>\n",
              "      <td>38.323021</td>\n",
              "      <td>12.250668</td>\n",
              "      <td>17.501989</td>\n",
              "      <td>66.912621</td>\n",
              "      <td>51.880742</td>\n",
              "      <td>1018.254873</td>\n",
              "      <td>1015.802009</td>\n",
              "      <td>4.214078</td>\n",
              "      <td>4.237264</td>\n",
              "      <td>17.850520</td>\n",
              "      <td>22.018224</td>\n",
              "    </tr>\n",
              "    <tr>\n",
              "      <th>std</th>\n",
              "      <td>5.828184</td>\n",
              "      <td>5.911984</td>\n",
              "      <td>8.955230</td>\n",
              "      <td>3.421251</td>\n",
              "      <td>3.796346</td>\n",
              "      <td>13.483681</td>\n",
              "      <td>9.282323</td>\n",
              "      <td>9.349560</td>\n",
              "      <td>16.448132</td>\n",
              "      <td>17.757020</td>\n",
              "      <td>6.786389</td>\n",
              "      <td>6.637024</td>\n",
              "      <td>2.858866</td>\n",
              "      <td>2.699229</td>\n",
              "      <td>5.931133</td>\n",
              "      <td>5.722596</td>\n",
              "    </tr>\n",
              "    <tr>\n",
              "      <th>min</th>\n",
              "      <td>-8.000000</td>\n",
              "      <td>4.100000</td>\n",
              "      <td>0.000000</td>\n",
              "      <td>0.000000</td>\n",
              "      <td>0.000000</td>\n",
              "      <td>9.000000</td>\n",
              "      <td>0.000000</td>\n",
              "      <td>0.000000</td>\n",
              "      <td>3.000000</td>\n",
              "      <td>4.000000</td>\n",
              "      <td>982.300000</td>\n",
              "      <td>985.500000</td>\n",
              "      <td>0.000000</td>\n",
              "      <td>0.000000</td>\n",
              "      <td>-1.300000</td>\n",
              "      <td>3.700000</td>\n",
              "    </tr>\n",
              "    <tr>\n",
              "      <th>25%</th>\n",
              "      <td>9.500000</td>\n",
              "      <td>19.400000</td>\n",
              "      <td>0.000000</td>\n",
              "      <td>2.600000</td>\n",
              "      <td>4.800000</td>\n",
              "      <td>30.000000</td>\n",
              "      <td>6.000000</td>\n",
              "      <td>11.000000</td>\n",
              "      <td>56.000000</td>\n",
              "      <td>40.000000</td>\n",
              "      <td>1013.700000</td>\n",
              "      <td>1011.300000</td>\n",
              "      <td>1.000000</td>\n",
              "      <td>1.000000</td>\n",
              "      <td>13.600000</td>\n",
              "      <td>18.000000</td>\n",
              "    </tr>\n",
              "    <tr>\n",
              "      <th>50%</th>\n",
              "      <td>13.500000</td>\n",
              "      <td>23.500000</td>\n",
              "      <td>0.000000</td>\n",
              "      <td>4.600000</td>\n",
              "      <td>8.500000</td>\n",
              "      <td>37.000000</td>\n",
              "      <td>11.000000</td>\n",
              "      <td>17.000000</td>\n",
              "      <td>67.000000</td>\n",
              "      <td>52.000000</td>\n",
              "      <td>1018.200000</td>\n",
              "      <td>1015.800000</td>\n",
              "      <td>5.000000</td>\n",
              "      <td>5.000000</td>\n",
              "      <td>17.800000</td>\n",
              "      <td>21.900000</td>\n",
              "    </tr>\n",
              "    <tr>\n",
              "      <th>75%</th>\n",
              "      <td>17.600000</td>\n",
              "      <td>27.700000</td>\n",
              "      <td>0.800000</td>\n",
              "      <td>7.200000</td>\n",
              "      <td>10.500000</td>\n",
              "      <td>46.000000</td>\n",
              "      <td>17.000000</td>\n",
              "      <td>22.000000</td>\n",
              "      <td>78.000000</td>\n",
              "      <td>63.000000</td>\n",
              "      <td>1022.800000</td>\n",
              "      <td>1020.300000</td>\n",
              "      <td>7.000000</td>\n",
              "      <td>7.000000</td>\n",
              "      <td>22.300000</td>\n",
              "      <td>25.900000</td>\n",
              "    </tr>\n",
              "    <tr>\n",
              "      <th>max</th>\n",
              "      <td>33.900000</td>\n",
              "      <td>46.400000</td>\n",
              "      <td>240.000000</td>\n",
              "      <td>44.000000</td>\n",
              "      <td>13.900000</td>\n",
              "      <td>122.000000</td>\n",
              "      <td>130.000000</td>\n",
              "      <td>87.000000</td>\n",
              "      <td>100.000000</td>\n",
              "      <td>100.000000</td>\n",
              "      <td>1040.600000</td>\n",
              "      <td>1037.900000</td>\n",
              "      <td>9.000000</td>\n",
              "      <td>8.000000</td>\n",
              "      <td>39.000000</td>\n",
              "      <td>45.400000</td>\n",
              "    </tr>\n",
              "  </tbody>\n",
              "</table>\n",
              "</div>\n",
              "      <button class=\"colab-df-convert\" onclick=\"convertToInteractive('df-bea39a93-e9a9-41bf-89ca-d6c2c3af0a88')\"\n",
              "              title=\"Convert this dataframe to an interactive table.\"\n",
              "              style=\"display:none;\">\n",
              "        \n",
              "  <svg xmlns=\"http://www.w3.org/2000/svg\" height=\"24px\"viewBox=\"0 0 24 24\"\n",
              "       width=\"24px\">\n",
              "    <path d=\"M0 0h24v24H0V0z\" fill=\"none\"/>\n",
              "    <path d=\"M18.56 5.44l.94 2.06.94-2.06 2.06-.94-2.06-.94-.94-2.06-.94 2.06-2.06.94zm-11 1L8.5 8.5l.94-2.06 2.06-.94-2.06-.94L8.5 2.5l-.94 2.06-2.06.94zm10 10l.94 2.06.94-2.06 2.06-.94-2.06-.94-.94-2.06-.94 2.06-2.06.94z\"/><path d=\"M17.41 7.96l-1.37-1.37c-.4-.4-.92-.59-1.43-.59-.52 0-1.04.2-1.43.59L10.3 9.45l-7.72 7.72c-.78.78-.78 2.05 0 2.83L4 21.41c.39.39.9.59 1.41.59.51 0 1.02-.2 1.41-.59l7.78-7.78 2.81-2.81c.8-.78.8-2.07 0-2.86zM5.41 20L4 18.59l7.72-7.72 1.47 1.35L5.41 20z\"/>\n",
              "  </svg>\n",
              "      </button>\n",
              "      \n",
              "  <style>\n",
              "    .colab-df-container {\n",
              "      display:flex;\n",
              "      flex-wrap:wrap;\n",
              "      gap: 12px;\n",
              "    }\n",
              "\n",
              "    .colab-df-convert {\n",
              "      background-color: #E8F0FE;\n",
              "      border: none;\n",
              "      border-radius: 50%;\n",
              "      cursor: pointer;\n",
              "      display: none;\n",
              "      fill: #1967D2;\n",
              "      height: 32px;\n",
              "      padding: 0 0 0 0;\n",
              "      width: 32px;\n",
              "    }\n",
              "\n",
              "    .colab-df-convert:hover {\n",
              "      background-color: #E2EBFA;\n",
              "      box-shadow: 0px 1px 2px rgba(60, 64, 67, 0.3), 0px 1px 3px 1px rgba(60, 64, 67, 0.15);\n",
              "      fill: #174EA6;\n",
              "    }\n",
              "\n",
              "    [theme=dark] .colab-df-convert {\n",
              "      background-color: #3B4455;\n",
              "      fill: #D2E3FC;\n",
              "    }\n",
              "\n",
              "    [theme=dark] .colab-df-convert:hover {\n",
              "      background-color: #434B5C;\n",
              "      box-shadow: 0px 1px 3px 1px rgba(0, 0, 0, 0.15);\n",
              "      filter: drop-shadow(0px 1px 2px rgba(0, 0, 0, 0.3));\n",
              "      fill: #FFFFFF;\n",
              "    }\n",
              "  </style>\n",
              "\n",
              "      <script>\n",
              "        const buttonEl =\n",
              "          document.querySelector('#df-bea39a93-e9a9-41bf-89ca-d6c2c3af0a88 button.colab-df-convert');\n",
              "        buttonEl.style.display =\n",
              "          google.colab.kernel.accessAllowed ? 'block' : 'none';\n",
              "\n",
              "        async function convertToInteractive(key) {\n",
              "          const element = document.querySelector('#df-bea39a93-e9a9-41bf-89ca-d6c2c3af0a88');\n",
              "          const dataTable =\n",
              "            await google.colab.kernel.invokeFunction('convertToInteractive',\n",
              "                                                     [key], {});\n",
              "          if (!dataTable) return;\n",
              "\n",
              "          const docLinkHtml = 'Like what you see? Visit the ' +\n",
              "            '<a target=\"_blank\" href=https://colab.research.google.com/notebooks/data_table.ipynb>data table notebook</a>'\n",
              "            + ' to learn more about interactive tables.';\n",
              "          element.innerHTML = '';\n",
              "          dataTable['output_type'] = 'display_data';\n",
              "          await google.colab.output.renderOutput(dataTable, element);\n",
              "          const docLink = document.createElement('div');\n",
              "          docLink.innerHTML = docLinkHtml;\n",
              "          element.appendChild(docLink);\n",
              "        }\n",
              "      </script>\n",
              "    </div>\n",
              "  </div>\n",
              "  "
            ],
            "text/plain": [
              "            MinTemp       MaxTemp  ...       Temp9am       Temp3pm\n",
              "count  24781.000000  24885.000000  ...  24883.000000  24183.000000\n",
              "mean      13.255958     23.627928  ...     17.850520     22.018224\n",
              "std        5.828184      5.911984  ...      5.931133      5.722596\n",
              "min       -8.000000      4.100000  ...     -1.300000      3.700000\n",
              "25%        9.500000     19.400000  ...     13.600000     18.000000\n",
              "50%       13.500000     23.500000  ...     17.800000     21.900000\n",
              "75%       17.600000     27.700000  ...     22.300000     25.900000\n",
              "max       33.900000     46.400000  ...     39.000000     45.400000\n",
              "\n",
              "[8 rows x 16 columns]"
            ]
          },
          "metadata": {},
          "execution_count": 8
        }
      ]
    },
    {
      "cell_type": "code",
      "source": [
        "df.describe(exclude=[np.number])"
      ],
      "metadata": {
        "id": "ogpsi0RzUvNb",
        "outputId": "7b531ecd-a093-4fee-ba4b-c38a575bf35b",
        "colab": {
          "base_uri": "https://localhost:8080/",
          "height": 175
        }
      },
      "execution_count": 9,
      "outputs": [
        {
          "output_type": "execute_result",
          "data": {
            "text/html": [
              "\n",
              "  <div id=\"df-ddb2b425-3f5b-414c-a4a6-92ae461ac3ea\">\n",
              "    <div class=\"colab-df-container\">\n",
              "      <div>\n",
              "<style scoped>\n",
              "    .dataframe tbody tr th:only-of-type {\n",
              "        vertical-align: middle;\n",
              "    }\n",
              "\n",
              "    .dataframe tbody tr th {\n",
              "        vertical-align: top;\n",
              "    }\n",
              "\n",
              "    .dataframe thead th {\n",
              "        text-align: right;\n",
              "    }\n",
              "</style>\n",
              "<table border=\"1\" class=\"dataframe\">\n",
              "  <thead>\n",
              "    <tr style=\"text-align: right;\">\n",
              "      <th></th>\n",
              "      <th>Date</th>\n",
              "      <th>Location</th>\n",
              "      <th>WindGustDir</th>\n",
              "      <th>WindDir9am</th>\n",
              "      <th>WindDir3pm</th>\n",
              "      <th>RainToday</th>\n",
              "      <th>RainTomorrow</th>\n",
              "    </tr>\n",
              "  </thead>\n",
              "  <tbody>\n",
              "    <tr>\n",
              "      <th>count</th>\n",
              "      <td>25631</td>\n",
              "      <td>25631</td>\n",
              "      <td>21009</td>\n",
              "      <td>23020</td>\n",
              "      <td>23947</td>\n",
              "      <td>24570</td>\n",
              "      <td>24569</td>\n",
              "    </tr>\n",
              "    <tr>\n",
              "      <th>unique</th>\n",
              "      <td>3436</td>\n",
              "      <td>8</td>\n",
              "      <td>16</td>\n",
              "      <td>16</td>\n",
              "      <td>16</td>\n",
              "      <td>2</td>\n",
              "      <td>2</td>\n",
              "    </tr>\n",
              "    <tr>\n",
              "      <th>top</th>\n",
              "      <td>2012-04-03</td>\n",
              "      <td>Canberra</td>\n",
              "      <td>SSE</td>\n",
              "      <td>N</td>\n",
              "      <td>SE</td>\n",
              "      <td>No</td>\n",
              "      <td>No</td>\n",
              "    </tr>\n",
              "    <tr>\n",
              "      <th>freq</th>\n",
              "      <td>8</td>\n",
              "      <td>3436</td>\n",
              "      <td>1833</td>\n",
              "      <td>2196</td>\n",
              "      <td>2357</td>\n",
              "      <td>18890</td>\n",
              "      <td>18891</td>\n",
              "    </tr>\n",
              "  </tbody>\n",
              "</table>\n",
              "</div>\n",
              "      <button class=\"colab-df-convert\" onclick=\"convertToInteractive('df-ddb2b425-3f5b-414c-a4a6-92ae461ac3ea')\"\n",
              "              title=\"Convert this dataframe to an interactive table.\"\n",
              "              style=\"display:none;\">\n",
              "        \n",
              "  <svg xmlns=\"http://www.w3.org/2000/svg\" height=\"24px\"viewBox=\"0 0 24 24\"\n",
              "       width=\"24px\">\n",
              "    <path d=\"M0 0h24v24H0V0z\" fill=\"none\"/>\n",
              "    <path d=\"M18.56 5.44l.94 2.06.94-2.06 2.06-.94-2.06-.94-.94-2.06-.94 2.06-2.06.94zm-11 1L8.5 8.5l.94-2.06 2.06-.94-2.06-.94L8.5 2.5l-.94 2.06-2.06.94zm10 10l.94 2.06.94-2.06 2.06-.94-2.06-.94-.94-2.06-.94 2.06-2.06.94z\"/><path d=\"M17.41 7.96l-1.37-1.37c-.4-.4-.92-.59-1.43-.59-.52 0-1.04.2-1.43.59L10.3 9.45l-7.72 7.72c-.78.78-.78 2.05 0 2.83L4 21.41c.39.39.9.59 1.41.59.51 0 1.02-.2 1.41-.59l7.78-7.78 2.81-2.81c.8-.78.8-2.07 0-2.86zM5.41 20L4 18.59l7.72-7.72 1.47 1.35L5.41 20z\"/>\n",
              "  </svg>\n",
              "      </button>\n",
              "      \n",
              "  <style>\n",
              "    .colab-df-container {\n",
              "      display:flex;\n",
              "      flex-wrap:wrap;\n",
              "      gap: 12px;\n",
              "    }\n",
              "\n",
              "    .colab-df-convert {\n",
              "      background-color: #E8F0FE;\n",
              "      border: none;\n",
              "      border-radius: 50%;\n",
              "      cursor: pointer;\n",
              "      display: none;\n",
              "      fill: #1967D2;\n",
              "      height: 32px;\n",
              "      padding: 0 0 0 0;\n",
              "      width: 32px;\n",
              "    }\n",
              "\n",
              "    .colab-df-convert:hover {\n",
              "      background-color: #E2EBFA;\n",
              "      box-shadow: 0px 1px 2px rgba(60, 64, 67, 0.3), 0px 1px 3px 1px rgba(60, 64, 67, 0.15);\n",
              "      fill: #174EA6;\n",
              "    }\n",
              "\n",
              "    [theme=dark] .colab-df-convert {\n",
              "      background-color: #3B4455;\n",
              "      fill: #D2E3FC;\n",
              "    }\n",
              "\n",
              "    [theme=dark] .colab-df-convert:hover {\n",
              "      background-color: #434B5C;\n",
              "      box-shadow: 0px 1px 3px 1px rgba(0, 0, 0, 0.15);\n",
              "      filter: drop-shadow(0px 1px 2px rgba(0, 0, 0, 0.3));\n",
              "      fill: #FFFFFF;\n",
              "    }\n",
              "  </style>\n",
              "\n",
              "      <script>\n",
              "        const buttonEl =\n",
              "          document.querySelector('#df-ddb2b425-3f5b-414c-a4a6-92ae461ac3ea button.colab-df-convert');\n",
              "        buttonEl.style.display =\n",
              "          google.colab.kernel.accessAllowed ? 'block' : 'none';\n",
              "\n",
              "        async function convertToInteractive(key) {\n",
              "          const element = document.querySelector('#df-ddb2b425-3f5b-414c-a4a6-92ae461ac3ea');\n",
              "          const dataTable =\n",
              "            await google.colab.kernel.invokeFunction('convertToInteractive',\n",
              "                                                     [key], {});\n",
              "          if (!dataTable) return;\n",
              "\n",
              "          const docLinkHtml = 'Like what you see? Visit the ' +\n",
              "            '<a target=\"_blank\" href=https://colab.research.google.com/notebooks/data_table.ipynb>data table notebook</a>'\n",
              "            + ' to learn more about interactive tables.';\n",
              "          element.innerHTML = '';\n",
              "          dataTable['output_type'] = 'display_data';\n",
              "          await google.colab.output.renderOutput(dataTable, element);\n",
              "          const docLink = document.createElement('div');\n",
              "          docLink.innerHTML = docLinkHtml;\n",
              "          element.appendChild(docLink);\n",
              "        }\n",
              "      </script>\n",
              "    </div>\n",
              "  </div>\n",
              "  "
            ],
            "text/plain": [
              "              Date  Location WindGustDir  ... WindDir3pm RainToday RainTomorrow\n",
              "count        25631     25631       21009  ...      23947     24570        24569\n",
              "unique        3436         8          16  ...         16         2            2\n",
              "top     2012-04-03  Canberra         SSE  ...         SE        No           No\n",
              "freq             8      3436        1833  ...       2357     18890        18891\n",
              "\n",
              "[4 rows x 7 columns]"
            ]
          },
          "metadata": {},
          "execution_count": 9
        }
      ]
    },
    {
      "cell_type": "markdown",
      "source": [
        "premier constat : la variable date a trop de valeurs uniques ( des Dates), une des transformations est la transformation de date en ( jours, mois, année)\n"
      ],
      "metadata": {
        "id": "Im2D3vfuU1-U"
      }
    },
    {
      "cell_type": "markdown",
      "source": [
        "## recherche des valeurs manquantes:"
      ],
      "metadata": {
        "id": "P-EUp-wXVhx5"
      }
    },
    {
      "cell_type": "code",
      "source": [
        "df.isna().sum()"
      ],
      "metadata": {
        "id": "TeoUBPN7Vo42",
        "outputId": "86dfc72d-df72-4d14-a9e6-226e2e9c24a6",
        "colab": {
          "base_uri": "https://localhost:8080/"
        }
      },
      "execution_count": 11,
      "outputs": [
        {
          "output_type": "execute_result",
          "data": {
            "text/plain": [
              "Date                 0\n",
              "Location             0\n",
              "MinTemp            850\n",
              "MaxTemp            746\n",
              "Rainfall          1061\n",
              "Evaporation       9246\n",
              "Sunshine          9489\n",
              "WindGustDir       4622\n",
              "WindGustSpeed     4620\n",
              "WindDir9am        2611\n",
              "WindDir3pm        1684\n",
              "WindSpeed9am       558\n",
              "WindSpeed3pm      1242\n",
              "Humidity9am        831\n",
              "Humidity3pm       1490\n",
              "Pressure9am       3777\n",
              "Pressure3pm       3779\n",
              "Cloud9am          9151\n",
              "Cloud3pm         10104\n",
              "Temp9am            748\n",
              "Temp3pm           1448\n",
              "RainToday         1061\n",
              "RainTomorrow      1062\n",
              "dtype: int64"
            ]
          },
          "metadata": {},
          "execution_count": 11
        }
      ]
    },
    {
      "cell_type": "markdown",
      "source": [
        "il y a une neccessité de remplacer des valeurs manquantes par la mediane pour les variables numeriques  et le mode pour les variables categorielles"
      ],
      "metadata": {
        "id": "CmWHHU9QVt1u"
      }
    },
    {
      "cell_type": "markdown",
      "metadata": {
        "id": "GJO_sIP1TWwk"
      },
      "source": [
        "# Nettoyage et normalisation de la data"
      ]
    },
    {
      "cell_type": "markdown",
      "metadata": {
        "pycharm": {
          "name": "#%% md\n"
        },
        "id": "XUT0bJUKTWwk"
      },
      "source": [
        "## Transformation de la date"
      ]
    },
    {
      "cell_type": "code",
      "execution_count": 5,
      "metadata": {
        "pycharm": {
          "name": "#%%\n"
        },
        "id": "hl5FIiN7TWwk"
      },
      "outputs": [],
      "source": [
        "from datetime import datetime\n",
        "\n",
        "df[\"year\"] = df[\"Date\"].apply(datetime.fromisoformat).apply(lambda d: d.year)\n",
        "df[\"month\"] = df[\"Date\"].apply(datetime.fromisoformat).apply(lambda d: d.month)\n",
        "df[\"day\"] = df[\"Date\"].apply(datetime.fromisoformat).apply(lambda d: d.day)\n",
        "df = df.drop(\"Date\", axis=1)"
      ]
    },
    {
      "cell_type": "markdown",
      "metadata": {
        "id": "IbEKWFeYTWwk"
      },
      "source": [
        "## Separation des valeurs numériques et catégorielles + completion des NA"
      ]
    },
    {
      "cell_type": "code",
      "execution_count": 6,
      "metadata": {
        "pycharm": {
          "name": "#%%\n"
        },
        "id": "QZpApTwJTWwk"
      },
      "outputs": [],
      "source": [
        "num_data = df.select_dtypes(include=np.number).fillna(df.select_dtypes(include=np.number).median())"
      ]
    },
    {
      "cell_type": "code",
      "execution_count": 7,
      "metadata": {
        "pycharm": {
          "name": "#%%\n"
        },
        "id": "svPXbWiaTWwl"
      },
      "outputs": [],
      "source": [
        "cat_data = df.select_dtypes(exclude=np.number).fillna(df.select_dtypes(exclude=np.number).mode().loc[0])"
      ]
    },
    {
      "cell_type": "code",
      "execution_count": 8,
      "metadata": {
        "pycharm": {
          "name": "#%%\n"
        },
        "id": "ZQA4CwGITWwl"
      },
      "outputs": [],
      "source": [
        "df = pd.concat([num_data, cat_data], axis=1)"
      ]
    },
    {
      "cell_type": "markdown",
      "metadata": {
        "pycharm": {
          "name": "#%% md\n"
        },
        "id": "7H1uLD2gTWwl"
      },
      "source": [
        "## Labelisation des strings et binarisation"
      ]
    },
    {
      "cell_type": "code",
      "execution_count": 9,
      "metadata": {
        "pycharm": {
          "name": "#%%\n"
        },
        "id": "VOnk3hNdTWwl"
      },
      "outputs": [],
      "source": [
        "from sklearn.preprocessing import LabelEncoder\n",
        "\n",
        "cat_columns = df.select_dtypes(exclude=np.number).columns\n",
        "\n",
        "# un moyen de garder en mémoire la labélisation des strings\n",
        "encoders = {c: LabelEncoder().fit(df[c]) for c in cat_columns}\n",
        "\n",
        "# on transforme toutes les variables catégroielles en numérique\n",
        "df[cat_columns] = df.select_dtypes(exclude=np.number).apply(LabelEncoder().fit_transform)"
      ]
    },
    {
      "cell_type": "markdown",
      "metadata": {
        "id": "V_XPVtKETWwl"
      },
      "source": [
        "## Obtenir facilement X et y"
      ]
    },
    {
      "cell_type": "code",
      "execution_count": 10,
      "metadata": {
        "pycharm": {
          "name": "#%%\n"
        },
        "id": "EjM-_zlaTWwl"
      },
      "outputs": [],
      "source": [
        "def get_x_y(my_dataset):\n",
        "\n",
        "    X = my_dataset.drop([\"RainTomorrow\"], axis=1)\n",
        "    y = my_dataset[\"RainTomorrow\"]\n",
        "    \n",
        "    return X, y"
      ]
    },
    {
      "cell_type": "markdown",
      "metadata": {
        "id": "CoWuu7oBTWwm"
      },
      "source": [
        "## Standarsiation de la donnée"
      ]
    },
    {
      "cell_type": "code",
      "execution_count": 11,
      "metadata": {
        "id": "CHruVw4eTWwm"
      },
      "outputs": [],
      "source": [
        "from sklearn.preprocessing import MinMaxScaler\n",
        "\n",
        "# on applique la standardisation sur X pour que la meme moyenne soit utilisée pour les prochains traitements\n",
        "scaler = MinMaxScaler()\n",
        "X, y = get_x_y(df)\n",
        "X_scaled = scaler.fit_transform(X)"
      ]
    },
    {
      "cell_type": "markdown",
      "metadata": {
        "id": "OpX25AoCTWwm"
      },
      "source": [
        "## Recherche des data abbérantes"
      ]
    },
    {
      "cell_type": "markdown",
      "metadata": {
        "id": "pPC88jWETWwm"
      },
      "source": [
        "On recherche les outliers"
      ]
    },
    {
      "cell_type": "code",
      "execution_count": 12,
      "metadata": {
        "id": "170SYrcnTWwm",
        "outputId": "5ac836ed-ab4b-45f3-99d5-7da44a524741",
        "colab": {
          "base_uri": "https://localhost:8080/",
          "height": 0
        }
      },
      "outputs": [
        {
          "output_type": "display_data",
          "data": {
            "image/png": "[encoded data removed]",
            "text/plain": [
              "<Figure size 576x576 with 1 Axes>"
            ]
          },
          "metadata": {
            "needs_background": "light"
          }
        }
      ],
      "source": [
        "df_explore = pd.DataFrame(X_scaled, columns=X.columns)\n",
        "df_explore.boxplot(figsize=(8, 8))\n",
        "plt.xticks(rotation=90);"
      ]
    },
    {
      "cell_type": "markdown",
      "metadata": {
        "id": "OEtg_6xQTWwn"
      },
      "source": [
        "On remarque qu'on a énormément d'outliers sur Rainfall"
      ]
    },
    {
      "cell_type": "code",
      "execution_count": 13,
      "metadata": {
        "id": "vSCWQzjxTWwn",
        "outputId": "8e2be700-b07c-4b64-b5be-3ebb44bcad6a",
        "colab": {
          "base_uri": "https://localhost:8080/",
          "height": 0
        }
      },
      "outputs": [
        {
          "output_type": "display_data",
          "data": {
            "image/png": "[encoded data removed]",
            "text/plain": [
              "<Figure size 432x288 with 1 Axes>"
            ]
          },
          "metadata": {
            "needs_background": "light"
          }
        }
      ],
      "source": [
        "plt.boxplot(df_explore[\"Rainfall\"]);"
      ]
    },
    {
      "cell_type": "markdown",
      "metadata": {
        "id": "oK_wUkcRTWwn"
      },
      "source": [
        "Ces outliers ne sont pas des valeurs irréalistes, elles peuvent correspondre à une tempête par exemple. Cependant ces valeurs risques de perturber le modèle. On retire donc les outliers de cette variable"
      ]
    },
    {
      "cell_type": "markdown",
      "metadata": {
        "id": "T_TZ7jnhTWwn"
      },
      "source": [
        "### utilisation de la méthode 1.5 IQR: Inter Quartile Range."
      ]
    },
    {
      "cell_type": "markdown",
      "metadata": {
        "id": "Ik18XpXITWwn"
      },
      "source": [
        "On va retirer tout ce qui est en dehors de 1.5 IQR par rapport à la médiane"
      ]
    },
    {
      "cell_type": "code",
      "execution_count": 14,
      "metadata": {
        "id": "qwActyfCTWwn"
      },
      "outputs": [],
      "source": [
        "rainfall = df_explore[\"Rainfall\"]\n",
        "q3 = np.quantile(rainfall, 0.75)\n",
        "q1 = np.quantile(rainfall, 0.25)\n",
        "\n",
        "iqr = q3 - q1\n",
        "\n",
        "upper_bound = q3 + 1.5 * iqr\n",
        "lower_bound = q1 - 1.5 * iqr\n",
        "\n",
        "rainfall_wo_outliers = df_explore[(rainfall <= lower_bound) | (rainfall >= upper_bound)][\"Rainfall\"]"
      ]
    },
    {
      "cell_type": "code",
      "execution_count": 15,
      "metadata": {
        "id": "IhwbpoleTWwo",
        "outputId": "34f0004d-24cb-4bb8-efcd-30abc8a9f22c",
        "colab": {
          "base_uri": "https://localhost:8080/",
          "height": 0
        }
      },
      "outputs": [
        {
          "output_type": "display_data",
          "data": {
            "image/png": "[encoded data removed]",
            "text/plain": [
              "<Figure size 432x288 with 1 Axes>"
            ]
          },
          "metadata": {
            "needs_background": "light"
          }
        }
      ],
      "source": [
        "plt.boxplot(rainfall_wo_outliers);"
      ]
    },
    {
      "cell_type": "markdown",
      "metadata": {
        "id": "rUlc4V7NTWwo"
      },
      "source": [
        "On recréé le dataframe sans les lignes des outliers de rainfall"
      ]
    },
    {
      "cell_type": "markdown",
      "metadata": {
        "pycharm": {
          "name": "#%% md\n"
        },
        "id": "850nCRUrTWwo"
      },
      "source": [
        "# Premiere regression logistique"
      ]
    },
    {
      "cell_type": "code",
      "execution_count": 16,
      "metadata": {
        "id": "MG7WlUg0TWwo",
        "outputId": "fba4169b-3f87-4ea3-be67-afa9bccc9c11",
        "colab": {
          "base_uri": "https://localhost:8080/"
        }
      },
      "outputs": [
        {
          "output_type": "execute_result",
          "data": {
            "text/plain": [
              "(5209, 25)"
            ]
          },
          "metadata": {},
          "execution_count": 16
        }
      ],
      "source": [
        "df_wo_out = df[(rainfall <= lower_bound) | (rainfall >= upper_bound)]\n",
        "df_wo_out.shape"
      ]
    },
    {
      "cell_type": "code",
      "execution_count": 17,
      "metadata": {
        "pycharm": {
          "name": "#%%\n"
        },
        "id": "Cz09pJuUTWwo"
      },
      "outputs": [],
      "source": [
        "from sklearn.model_selection import train_test_split\n",
        "\n",
        "X_wo_out, y_wo_out = get_x_y(df_wo_out)\n",
        "\n",
        "X_wo_out_train, X_wo_out_test, y_wo_out_train, y_wo_out_test = train_test_split(X_wo_out, y_wo_out, test_size=0.25, random_state=1)"
      ]
    },
    {
      "cell_type": "code",
      "execution_count": 18,
      "metadata": {
        "pycharm": {
          "name": "#%%\n"
        },
        "id": "-HKXEAhzTWwo"
      },
      "outputs": [],
      "source": [
        "from sklearn.linear_model import LogisticRegression\n",
        "\n",
        "lr = LogisticRegression(max_iter=1000)\n",
        "X_wo_out_train_scaled = scaler.fit_transform(X_wo_out_train)\n",
        "\n",
        "lr.fit(X_wo_out_train_scaled, y_wo_out_train)\n",
        "\n",
        "X_wo_out_test_scaled = scaler.fit_transform(X_wo_out_test)\n",
        "prediction = lr.predict(X_wo_out_test_scaled)"
      ]
    },
    {
      "cell_type": "code",
      "execution_count": 19,
      "metadata": {
        "id": "y9aqa4lkTWwp",
        "outputId": "fc8d19b5-b4c3-47b4-b262-36517c0998cf",
        "colab": {
          "base_uri": "https://localhost:8080/"
        }
      },
      "outputs": [
        {
          "output_type": "execute_result",
          "data": {
            "text/plain": [
              "0.7373056675945389"
            ]
          },
          "metadata": {},
          "execution_count": 19
        }
      ],
      "source": [
        "from sklearn.metrics import balanced_accuracy_score, confusion_matrix, classification_report\n",
        "\n",
        "balanced_accuracy_score(y_wo_out_test, prediction)"
      ]
    },
    {
      "cell_type": "code",
      "execution_count": 20,
      "metadata": {
        "id": "VOkuJfvUTWwp",
        "outputId": "fcea79c9-5064-4749-bf12-d9da51c9b58d",
        "colab": {
          "base_uri": "https://localhost:8080/"
        }
      },
      "outputs": [
        {
          "output_type": "execute_result",
          "data": {
            "text/plain": [
              "array([[0.83045977, 0.16954023],\n",
              "       [0.35584843, 0.64415157]])"
            ]
          },
          "metadata": {},
          "execution_count": 20
        }
      ],
      "source": [
        "confusion_matrix(y_wo_out_test, prediction, normalize=\"true\")"
      ]
    },
    {
      "cell_type": "code",
      "execution_count": 21,
      "metadata": {
        "id": "52VzPGOBTWwp",
        "outputId": "45da8ec6-b5b5-4ede-bb25-5105361067d2",
        "colab": {
          "base_uri": "https://localhost:8080/"
        }
      },
      "outputs": [
        {
          "output_type": "stream",
          "name": "stdout",
          "text": [
            "              precision    recall  f1-score   support\n",
            "\n",
            "           0       0.73      0.83      0.78       696\n",
            "           1       0.77      0.64      0.70       607\n",
            "\n",
            "    accuracy                           0.74      1303\n",
            "   macro avg       0.75      0.74      0.74      1303\n",
            "weighted avg       0.75      0.74      0.74      1303\n",
            "\n"
          ]
        }
      ],
      "source": [
        "print(classification_report(y_wo_out_test, prediction))"
      ]
    },
    {
      "cell_type": "markdown",
      "metadata": {
        "id": "VcxiyBjCTWwp"
      },
      "source": [
        "# Première conclusion"
      ]
    },
    {
      "cell_type": "markdown",
      "metadata": {
        "id": "xgq0OA6tTWwp"
      },
      "source": [
        "On voit que le modèle arrive à bien prédire les négatifs par contre un peu moins les positifs. Il y a un désequilibre de classe mais pas très prononcé. Le désequilibre était beaucoup plus prononcé avant la suppression des outliers de Rainfall."
      ]
    },
    {
      "cell_type": "code",
      "execution_count": 22,
      "metadata": {
        "id": "q2xhUUv4TWwp",
        "outputId": "ab777d00-bcad-456f-8d64-80b2bbbaf897",
        "colab": {
          "base_uri": "https://localhost:8080/"
        }
      },
      "outputs": [
        {
          "output_type": "execute_result",
          "data": {
            "text/plain": [
              "0    0.536354\n",
              "1    0.463646\n",
              "Name: RainTomorrow, dtype: float64"
            ]
          },
          "metadata": {},
          "execution_count": 22
        }
      ],
      "source": [
        "y_wo_out_train.value_counts(normalize=True)"
      ]
    },
    {
      "cell_type": "code",
      "execution_count": 23,
      "metadata": {
        "id": "aWZtXXPlTWwq",
        "outputId": "5ef3f895-a0c4-4dda-fe65-cfd74ae881bb",
        "colab": {
          "base_uri": "https://localhost:8080/",
          "height": 0
        }
      },
      "outputs": [
        {
          "output_type": "display_data",
          "data": {
            "image/png": "[encoded data removed]",
            "text/plain": [
              "<Figure size 432x288 with 1 Axes>"
            ]
          },
          "metadata": {
            "needs_background": "light"
          }
        }
      ],
      "source": [
        "y_wo_out_train.value_counts().plot(kind='bar');"
      ]
    },
    {
      "cell_type": "markdown",
      "metadata": {
        "id": "UwptlAq8TWwq"
      },
      "source": [
        "La cellule précédente confirme l'idée du léger désequilibre de classes lorsqu'on retire les outliers."
      ]
    },
    {
      "cell_type": "code",
      "execution_count": 24,
      "metadata": {
        "id": "0jUS5j0uTWwq",
        "outputId": "eac558aa-3ce1-48a8-c700-acb99d2a1079",
        "colab": {
          "base_uri": "https://localhost:8080/",
          "height": 0
        }
      },
      "outputs": [
        {
          "output_type": "display_data",
          "data": {
            "image/png": "[encoded data removed]",
            "text/plain": [
              "<Figure size 432x288 with 1 Axes>"
            ]
          },
          "metadata": {
            "needs_background": "light"
          }
        }
      ],
      "source": [
        "X, y = get_x_y(df)\n",
        "X_train, X_test, y_train, y_test = train_test_split(X, y, test_size=0.25, random_state=1)\n",
        "y_train.value_counts().plot(kind='bar');"
      ]
    },
    {
      "cell_type": "markdown",
      "metadata": {
        "id": "HfEALdAETWwq"
      },
      "source": [
        "Le desequilibre de classe est beaucoup plus prononcé si on avait pas retiré les outliers de la classe positive"
      ]
    },
    {
      "cell_type": "markdown",
      "metadata": {
        "id": "KT2TJJ3gTWwq"
      },
      "source": [
        "# Reglage du pb de desequilibre de classe ( à utiliser si on fait déjà la suppression des outliers de Rainfall ?)"
      ]
    },
    {
      "cell_type": "markdown",
      "metadata": {
        "id": "iyMUUzjnTWwq"
      },
      "source": [
        "On va rééchantilloner et réduire la taille des données de la classe majoritaire, i.e la classe negative"
      ]
    },
    {
      "cell_type": "code",
      "execution_count": 25,
      "metadata": {
        "id": "iv71PIa2TWwq"
      },
      "outputs": [],
      "source": [
        "def resample(my_dataset):\n",
        "    \n",
        "\n",
        "    indexes_negatives = my_dataset[my_dataset[\"RainTomorrow\"] == 0].index\n",
        "    indexes_positives = my_dataset[my_dataset[\"RainTomorrow\"] == 1].index\n",
        "    \n",
        "    df_negative_resample =  my_dataset.loc[indexes_negatives].sample(n=indexes_positives.shape[0], random_state=1)\n",
        "    df_positive = my_dataset.loc[indexes_positives]\n",
        "    df_resample = pd.concat([df_negative_resample, df_positive])\n",
        "    \n",
        "    return df_resample"
      ]
    },
    {
      "cell_type": "markdown",
      "metadata": {
        "id": "WPP_LD3XTWwq"
      },
      "source": [
        "---"
      ]
    },
    {
      "cell_type": "markdown",
      "metadata": {
        "id": "XdsCQVqYTWwr"
      },
      "source": [
        "Tout ce qui suit n'est pas à jour"
      ]
    },
    {
      "cell_type": "code",
      "execution_count": 25,
      "metadata": {
        "id": "7Mmr6DcQTWwr"
      },
      "outputs": [],
      "source": [
        ""
      ]
    },
    {
      "cell_type": "markdown",
      "metadata": {
        "id": "clUIVKZXTWwr"
      },
      "source": [
        "# On retente l'algo sur le dataset resample"
      ]
    },
    {
      "cell_type": "code",
      "execution_count": 26,
      "metadata": {
        "pycharm": {
          "name": "#%%\n"
        },
        "id": "BXMs13cMTWwr",
        "outputId": "d8421417-b810-4be8-e9cd-4cc9e00f2491",
        "colab": {
          "base_uri": "https://localhost:8080/",
          "height": 166
        }
      },
      "outputs": [
        {
          "output_type": "error",
          "ename": "NameError",
          "evalue": "ignored",
          "traceback": [
            "\u001b[0;31m---------------------------------------------------------------------------\u001b[0m",
            "\u001b[0;31mNameError\u001b[0m                                 Traceback (most recent call last)",
            "\u001b[0;32m<ipython-input-26-b3a8a2bfd491>\u001b[0m in \u001b[0;36m<module>\u001b[0;34m()\u001b[0m\n\u001b[0;32m----> 1\u001b[0;31m \u001b[0mX\u001b[0m\u001b[0;34m,\u001b[0m \u001b[0my\u001b[0m \u001b[0;34m=\u001b[0m \u001b[0mget_x_y\u001b[0m\u001b[0;34m(\u001b[0m\u001b[0mresample\u001b[0m\u001b[0;34m(\u001b[0m\u001b[0mdataset\u001b[0m\u001b[0;34m)\u001b[0m\u001b[0;34m)\u001b[0m\u001b[0;34m\u001b[0m\u001b[0;34m\u001b[0m\u001b[0m\n\u001b[0m",
            "\u001b[0;31mNameError\u001b[0m: name 'dataset' is not defined"
          ]
        }
      ],
      "source": [
        "X, y = get_x_y(resample(dataset))"
      ]
    },
    {
      "cell_type": "code",
      "execution_count": null,
      "metadata": {
        "id": "Jjh9OAVQTWwr"
      },
      "outputs": [],
      "source": [
        "y.value_counts().plot(kind='bar');"
      ]
    },
    {
      "cell_type": "code",
      "execution_count": null,
      "metadata": {
        "pycharm": {
          "name": "#%%\n"
        },
        "id": "_WJybNcLTWwr"
      },
      "outputs": [],
      "source": [
        "X_train, X_test, y_train, y_test = train_test_split(X, y, test_size=0.25)"
      ]
    },
    {
      "cell_type": "code",
      "execution_count": null,
      "metadata": {
        "id": "lJZZOUc7TWwr"
      },
      "outputs": [],
      "source": [
        "# on applique la standardisation sur X_train pour que la meme moyenne soit utilisée pour les prochains traitements\n",
        "scaler = StandardScaler()\n",
        "X_train_scaled = scaler.fit_transform(X_train)"
      ]
    },
    {
      "cell_type": "code",
      "execution_count": null,
      "metadata": {
        "id": "cCkHtRk-TWwr"
      },
      "outputs": [],
      "source": [
        "# on refait la prediction mais avec les données standardisées\n",
        "lr = LogisticRegression()\n",
        "lr.fit(X_train_scaled, y_train)"
      ]
    },
    {
      "cell_type": "code",
      "execution_count": null,
      "metadata": {
        "id": "hXNgwv1BTWwr"
      },
      "outputs": [],
      "source": [
        "# on va appliquer notre modèle sur les X_test\n",
        "# avant ça il faut standardiser les data de test avec le scaler qui a déjà la moyenne des valeurs d'entrainement\n",
        "X_test_scaled = scaler.transform(X_test)"
      ]
    },
    {
      "cell_type": "code",
      "execution_count": null,
      "metadata": {
        "id": "D2rgtgifTWwr"
      },
      "outputs": [],
      "source": [
        "prediction_from_scaled = lr.predict(X_test_scaled)"
      ]
    },
    {
      "cell_type": "code",
      "execution_count": null,
      "metadata": {
        "id": "z4Zab6QQTWws"
      },
      "outputs": [],
      "source": [
        "accuracy_score(y_test, prediction_from_scaled)"
      ]
    },
    {
      "cell_type": "code",
      "execution_count": null,
      "metadata": {
        "id": "7_i6End1TWws"
      },
      "outputs": [],
      "source": [
        "confusion_matrix(y_test, prediction_from_scaled, normalize=\"true\")"
      ]
    },
    {
      "cell_type": "code",
      "execution_count": null,
      "metadata": {
        "id": "6yp241YdTWws"
      },
      "outputs": [],
      "source": [
        "print(classification_report(y_test, prediction_from_scaled))"
      ]
    },
    {
      "cell_type": "markdown",
      "metadata": {
        "id": "-g-t4D1STWws"
      },
      "source": [
        "On a un f1 score moins bon pour la classe negative mais nettement meilleur pour la classe positive. Les prédictions sont mieux réparties."
      ]
    },
    {
      "cell_type": "markdown",
      "metadata": {
        "id": "W4F6JiHtTWws"
      },
      "source": [
        "# Selection de variables (feature selection)"
      ]
    },
    {
      "cell_type": "markdown",
      "metadata": {
        "id": "fvtdiBt5TWws"
      },
      "source": [
        "On cherche les variables utiles. Pour ça on va créer un selecteur qui va selectioner les variables qui ont le score le plus élevé de chi2 qui est la correlation entre les variables de X et la target y"
      ]
    },
    {
      "cell_type": "code",
      "execution_count": null,
      "metadata": {
        "id": "C_IxdvuCTWws"
      },
      "outputs": [],
      "source": [
        "from sklearn.feature_selection import SelectKBest, chi2"
      ]
    },
    {
      "cell_type": "code",
      "execution_count": null,
      "metadata": {
        "id": "YT-MEwxdTWws"
      },
      "outputs": [],
      "source": [
        "from sklearn.preprocessing import MinMaxScaler\n",
        "scaler = MinMaxScaler()\n",
        "X_scaled = scaler.fit_transform(X)"
      ]
    },
    {
      "cell_type": "code",
      "execution_count": null,
      "metadata": {
        "id": "xI48kiXhTWws"
      },
      "outputs": [],
      "source": [
        "selector = SelectKBest(chi2, k=10)"
      ]
    },
    {
      "cell_type": "code",
      "execution_count": null,
      "metadata": {
        "id": "rk6-nPTATWwt"
      },
      "outputs": [],
      "source": [
        "selector.fit_transform(X_scaled, y)"
      ]
    },
    {
      "cell_type": "code",
      "execution_count": null,
      "metadata": {
        "scrolled": true,
        "id": "gT4bG6lpTWwt"
      },
      "outputs": [],
      "source": [
        "X_less = X.loc[:,selector.get_support()]\n",
        "pd.Series(chi2(X_less, y)[0], index=X_less.columns).plot(kind='bar')"
      ]
    },
    {
      "cell_type": "markdown",
      "metadata": {
        "id": "dmeF5LgOTWwt"
      },
      "source": [
        "Humidity3pm et Rainfall sont les variables qui influent le plus la target y"
      ]
    },
    {
      "cell_type": "code",
      "execution_count": null,
      "metadata": {
        "pycharm": {
          "name": "#%%\n"
        },
        "id": "97Ak5hh7TWwt"
      },
      "outputs": [],
      "source": [
        "X_train, X_test, y_train, y_test = train_test_split(X_less, y, test_size=0.25, random_state=1)"
      ]
    },
    {
      "cell_type": "code",
      "execution_count": null,
      "metadata": {
        "id": "i2x-B3ubTWwt"
      },
      "outputs": [],
      "source": [
        "# on applique la standardisation sur X_train pour que la meme moyenne soit utilisée pour les prochains traitements\n",
        "scaler = StandardScaler()\n",
        "X_train_scaled = scaler.fit_transform(X_train)"
      ]
    },
    {
      "cell_type": "code",
      "execution_count": null,
      "metadata": {
        "id": "VR0fCs_4TWwt"
      },
      "outputs": [],
      "source": [
        "# on refait la prediction mais avec les données standardisées\n",
        "lr = LogisticRegression()\n",
        "lr.fit(X_train_scaled, y_train)"
      ]
    },
    {
      "cell_type": "code",
      "execution_count": null,
      "metadata": {
        "id": "Me5rIjTcTWwt"
      },
      "outputs": [],
      "source": [
        "# on va appliquer notre modèle sur les X_test\n",
        "# avant ça il faut standardiser les data de test avec le scaler qui a déjà la moyenne des valeurs d'entrainement\n",
        "X_test_scaled = scaler.transform(X_test)"
      ]
    },
    {
      "cell_type": "code",
      "execution_count": null,
      "metadata": {
        "id": "6ca8trlFTWwt"
      },
      "outputs": [],
      "source": [
        "prediction_from_scaled = lr.predict(X_test_scaled)"
      ]
    },
    {
      "cell_type": "code",
      "execution_count": null,
      "metadata": {
        "id": "1NMu_0YxTWwt"
      },
      "outputs": [],
      "source": [
        "accuracy_score(y_test, prediction_from_scaled)"
      ]
    },
    {
      "cell_type": "code",
      "execution_count": null,
      "metadata": {
        "id": "OhkMUHtgTWwu"
      },
      "outputs": [],
      "source": [
        "confusion_matrix(y_test, prediction_from_scaled, normalize=\"true\")"
      ]
    },
    {
      "cell_type": "code",
      "execution_count": null,
      "metadata": {
        "id": "gim7ij_0TWwu"
      },
      "outputs": [],
      "source": [
        "print(classification_report(y_test, prediction_from_scaled))"
      ]
    },
    {
      "cell_type": "markdown",
      "metadata": {
        "id": "4pLDmuG7TWwu"
      },
      "source": [
        "Avec les 10 première variables dont le test du chi2 est le plus élévé on obtient les même résultats qu'avec toutes les variables, donc seules les 10 premieres sont importantes."
      ]
    },
    {
      "cell_type": "markdown",
      "metadata": {
        "id": "f3iJQDcETWwu"
      },
      "source": [
        "# Test avec PCA"
      ]
    },
    {
      "cell_type": "code",
      "execution_count": null,
      "metadata": {
        "id": "EtoBp5XsTWwu"
      },
      "outputs": [],
      "source": [
        "X, y = get_x_y(dataset)"
      ]
    },
    {
      "cell_type": "code",
      "execution_count": null,
      "metadata": {
        "id": "elwvOfSSTWwu"
      },
      "outputs": [],
      "source": [
        "from sklearn.decomposition import PCA"
      ]
    },
    {
      "cell_type": "code",
      "execution_count": null,
      "metadata": {
        "id": "2FS0-KqDTWwu"
      },
      "outputs": [],
      "source": [
        "liste = []\n",
        "for i in range(1, 15):\n",
        "    pca = PCA(n_components=i)\n",
        "    pca.fit_transform(X)\n",
        "    liste.append(sum(pca.explained_variance_ratio_))\n",
        "plt.hlines(0.95, 1, 15)\n",
        "plt.plot(liste)"
      ]
    },
    {
      "cell_type": "markdown",
      "metadata": {
        "id": "BRRIy2KnTWwu"
      },
      "source": [
        "le graphe ci dessus confirme que 9 composantes principales suffisent à expliquer 95% de la variance globale"
      ]
    },
    {
      "cell_type": "code",
      "execution_count": null,
      "metadata": {
        "id": "UaX5clhaTWwu"
      },
      "outputs": [],
      "source": [
        "scaler = MinMaxScaler()\n",
        "X_scaled = scaler.fit_transform(X)\n",
        "\n",
        "pca = PCA(n_components=9)\n",
        "\n",
        "# nouvelles variables\n",
        "X_scaled_pca = pca.fit_transform(X_scaled)"
      ]
    },
    {
      "cell_type": "code",
      "execution_count": null,
      "metadata": {
        "id": "T5E5CHRETWwu"
      },
      "outputs": [],
      "source": [
        "print(\" Nombre de dimensions:\",pca.n_components_)\n",
        "print(\"Pourcentage de variance expliquée par chaque dimension:\\n \\n\")\n",
        "\n",
        "for i in range(9):\n",
        "    \n",
        "    print(f\"Dimension {i}: {pca.explained_variance_ratio_[i]}\")"
      ]
    },
    {
      "cell_type": "code",
      "execution_count": null,
      "metadata": {
        "id": "CVbgv3dXTWwv"
      },
      "outputs": [],
      "source": [
        "X_train, X_test, y_train, y_test = train_test_split(X_scaled_pca, y, test_size=0.25, random_state=1)"
      ]
    },
    {
      "cell_type": "code",
      "execution_count": null,
      "metadata": {
        "id": "7tFG1eiyTWwv"
      },
      "outputs": [],
      "source": [
        "lr = LogisticRegression()\n",
        "lr.fit(X_train, y_train)"
      ]
    },
    {
      "cell_type": "code",
      "execution_count": null,
      "metadata": {
        "id": "mq9ftrnkTWwv"
      },
      "outputs": [],
      "source": [
        "X_test_scaled = scaler.fit_transform(X_test)"
      ]
    },
    {
      "cell_type": "code",
      "execution_count": null,
      "metadata": {
        "id": "y0l-b_AkTWwv"
      },
      "outputs": [],
      "source": [
        "prediction = lr.predict(X_test_scaled)"
      ]
    },
    {
      "cell_type": "code",
      "execution_count": null,
      "metadata": {
        "id": "GTfEqKcXTWwv"
      },
      "outputs": [],
      "source": [
        "print(classification_report(y_test, prediction))"
      ]
    }
  ],
  "metadata": {
    "interpreter": {
      "hash": "31f2aee4e71d21fbe5cf8b01ff0e069b9275f58929596ceb00d14d90e3e16cd6"
    },
    "kernelspec": {
      "display_name": "Python 3 (ipykernel)",
      "language": "python",
      "name": "python3"
    },
    "language_info": {
      "codemirror_mode": {
        "name": "ipython",
        "version": 3
      },
      "file_extension": ".py",
      "mimetype": "text/x-python",
      "name": "python",
      "nbconvert_exporter": "python",
      "pygments_lexer": "ipython3",
      "version": "3.8.9"
    },
    "colab": {
      "name": "projectRains_v2.ipynb",
      "provenance": [],
      "include_colab_link": true
    }
  },
  "nbformat": 4,
  "nbformat_minor": 0
}