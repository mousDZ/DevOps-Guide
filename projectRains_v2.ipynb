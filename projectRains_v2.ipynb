{
  "cells": [
    {
      "cell_type": "markdown",
      "metadata": {
        "id": "WBuffXi9TWwg"
      },
      "source": [
        "# Import des lib standards"
      ]
    },
    {
      "cell_type": "code",
      "execution_count": 1,
      "metadata": {
        "id": "PqyfdWtVTWwi"
      },
      "outputs": [],
      "source": [
        "import pandas as pd\n",
        "import numpy as np\n",
        "import matplotlib.pyplot as plt"
      ]
    },
    {
      "cell_type": "markdown",
      "metadata": {
        "id": "rTuzypJ5TWwj"
      },
      "source": [
        "# Import de la raw data"
      ]
    },
    {
      "cell_type": "code",
      "execution_count": 2,
      "metadata": {
        "id": "8aQPbD_rTWwj"
      },
      "outputs": [],
      "source": [
        "link_to_data = \"https://assets-datascientest.s3-eu-west-1.amazonaws.com/de/total/rains.csv\""
      ]
    },
    {
      "cell_type": "code",
      "execution_count": 3,
      "metadata": {
        "id": "jUbb3ZyYTWwj"
      },
      "outputs": [],
      "source": [
        "df = pd.read_csv(link_to_data)\n",
        "\n",
        "# pour accéder facilement aux différents types de data après le stransformations\n",
        "num_data_columns = df.select_dtypes(include=np.number)\n",
        "cat_data_columns = df.select_dtypes(exclude=np.number)"
      ]
    },
    {
      "cell_type": "markdown",
      "metadata": {
        "id": "iDhum_RyTWwj"
      },
      "source": [
        "# Decouverte de la data"
      ]
    },
    {
      "cell_type": "code",
      "execution_count": 4,
      "metadata": {
        "colab": {
          "base_uri": "https://localhost:8080/",
          "height": 357
        },
        "id": "E04Pz3MwTWwk",
        "outputId": "62fadd17-4667-496b-961f-70a093a6a365"
      },
      "outputs": [
        {
          "output_type": "execute_result",
          "data": {
            "text/html": [
              "\n",
              "  <div id=\"df-9a1513c2-375c-4c66-b38d-cfcfe1461afc\">\n",
              "    <div class=\"colab-df-container\">\n",
              "      <div>\n",
              "<style scoped>\n",
              "    .dataframe tbody tr th:only-of-type {\n",
              "        vertical-align: middle;\n",
              "    }\n",
              "\n",
              "    .dataframe tbody tr th {\n",
              "        vertical-align: top;\n",
              "    }\n",
              "\n",
              "    .dataframe thead th {\n",
              "        text-align: right;\n",
              "    }\n",
              "</style>\n",
              "<table border=\"1\" class=\"dataframe\">\n",
              "  <thead>\n",
              "    <tr style=\"text-align: right;\">\n",
              "      <th></th>\n",
              "      <th>Date</th>\n",
              "      <th>Location</th>\n",
              "      <th>MinTemp</th>\n",
              "      <th>MaxTemp</th>\n",
              "      <th>Rainfall</th>\n",
              "      <th>Evaporation</th>\n",
              "      <th>Sunshine</th>\n",
              "      <th>WindGustDir</th>\n",
              "      <th>WindGustSpeed</th>\n",
              "      <th>WindDir9am</th>\n",
              "      <th>WindDir3pm</th>\n",
              "      <th>WindSpeed9am</th>\n",
              "      <th>WindSpeed3pm</th>\n",
              "      <th>Humidity9am</th>\n",
              "      <th>Humidity3pm</th>\n",
              "      <th>Pressure9am</th>\n",
              "      <th>Pressure3pm</th>\n",
              "      <th>Cloud9am</th>\n",
              "      <th>Cloud3pm</th>\n",
              "      <th>Temp9am</th>\n",
              "      <th>Temp3pm</th>\n",
              "      <th>RainToday</th>\n",
              "      <th>RainTomorrow</th>\n",
              "    </tr>\n",
              "  </thead>\n",
              "  <tbody>\n",
              "    <tr>\n",
              "      <th>0</th>\n",
              "      <td>2008-12-01</td>\n",
              "      <td>Newcastle</td>\n",
              "      <td>13.2</td>\n",
              "      <td>NaN</td>\n",
              "      <td>0.0</td>\n",
              "      <td>NaN</td>\n",
              "      <td>NaN</td>\n",
              "      <td>NaN</td>\n",
              "      <td>NaN</td>\n",
              "      <td>NW</td>\n",
              "      <td>NW</td>\n",
              "      <td>6.0</td>\n",
              "      <td>19.0</td>\n",
              "      <td>50.0</td>\n",
              "      <td>24.0</td>\n",
              "      <td>NaN</td>\n",
              "      <td>NaN</td>\n",
              "      <td>3.0</td>\n",
              "      <td>4.0</td>\n",
              "      <td>21.8</td>\n",
              "      <td>30.6</td>\n",
              "      <td>No</td>\n",
              "      <td>No</td>\n",
              "    </tr>\n",
              "    <tr>\n",
              "      <th>1</th>\n",
              "      <td>2008-12-02</td>\n",
              "      <td>Newcastle</td>\n",
              "      <td>NaN</td>\n",
              "      <td>32.2</td>\n",
              "      <td>0.0</td>\n",
              "      <td>NaN</td>\n",
              "      <td>NaN</td>\n",
              "      <td>NaN</td>\n",
              "      <td>NaN</td>\n",
              "      <td>NaN</td>\n",
              "      <td>NE</td>\n",
              "      <td>NaN</td>\n",
              "      <td>19.0</td>\n",
              "      <td>NaN</td>\n",
              "      <td>59.0</td>\n",
              "      <td>NaN</td>\n",
              "      <td>NaN</td>\n",
              "      <td>NaN</td>\n",
              "      <td>0.0</td>\n",
              "      <td>NaN</td>\n",
              "      <td>25.4</td>\n",
              "      <td>No</td>\n",
              "      <td>No</td>\n",
              "    </tr>\n",
              "    <tr>\n",
              "      <th>2</th>\n",
              "      <td>2008-12-03</td>\n",
              "      <td>Newcastle</td>\n",
              "      <td>16.2</td>\n",
              "      <td>32.2</td>\n",
              "      <td>0.0</td>\n",
              "      <td>NaN</td>\n",
              "      <td>NaN</td>\n",
              "      <td>NaN</td>\n",
              "      <td>NaN</td>\n",
              "      <td>N</td>\n",
              "      <td>SE</td>\n",
              "      <td>2.0</td>\n",
              "      <td>2.0</td>\n",
              "      <td>74.0</td>\n",
              "      <td>26.0</td>\n",
              "      <td>NaN</td>\n",
              "      <td>NaN</td>\n",
              "      <td>4.0</td>\n",
              "      <td>4.0</td>\n",
              "      <td>22.2</td>\n",
              "      <td>32.0</td>\n",
              "      <td>No</td>\n",
              "      <td>No</td>\n",
              "    </tr>\n",
              "    <tr>\n",
              "      <th>3</th>\n",
              "      <td>2008-12-04</td>\n",
              "      <td>Newcastle</td>\n",
              "      <td>19.2</td>\n",
              "      <td>24.0</td>\n",
              "      <td>0.0</td>\n",
              "      <td>NaN</td>\n",
              "      <td>NaN</td>\n",
              "      <td>NaN</td>\n",
              "      <td>NaN</td>\n",
              "      <td>SE</td>\n",
              "      <td>SE</td>\n",
              "      <td>22.0</td>\n",
              "      <td>22.0</td>\n",
              "      <td>66.0</td>\n",
              "      <td>61.0</td>\n",
              "      <td>NaN</td>\n",
              "      <td>NaN</td>\n",
              "      <td>7.0</td>\n",
              "      <td>5.0</td>\n",
              "      <td>20.4</td>\n",
              "      <td>23.0</td>\n",
              "      <td>No</td>\n",
              "      <td>No</td>\n",
              "    </tr>\n",
              "    <tr>\n",
              "      <th>4</th>\n",
              "      <td>2008-12-05</td>\n",
              "      <td>Newcastle</td>\n",
              "      <td>18.8</td>\n",
              "      <td>30.2</td>\n",
              "      <td>0.0</td>\n",
              "      <td>NaN</td>\n",
              "      <td>NaN</td>\n",
              "      <td>NaN</td>\n",
              "      <td>NaN</td>\n",
              "      <td>NE</td>\n",
              "      <td>NaN</td>\n",
              "      <td>4.0</td>\n",
              "      <td>NaN</td>\n",
              "      <td>85.0</td>\n",
              "      <td>NaN</td>\n",
              "      <td>NaN</td>\n",
              "      <td>NaN</td>\n",
              "      <td>8.0</td>\n",
              "      <td>NaN</td>\n",
              "      <td>20.0</td>\n",
              "      <td>NaN</td>\n",
              "      <td>No</td>\n",
              "      <td>No</td>\n",
              "    </tr>\n",
              "  </tbody>\n",
              "</table>\n",
              "</div>\n",
              "      <button class=\"colab-df-convert\" onclick=\"convertToInteractive('df-9a1513c2-375c-4c66-b38d-cfcfe1461afc')\"\n",
              "              title=\"Convert this dataframe to an interactive table.\"\n",
              "              style=\"display:none;\">\n",
              "        \n",
              "  <svg xmlns=\"http://www.w3.org/2000/svg\" height=\"24px\"viewBox=\"0 0 24 24\"\n",
              "       width=\"24px\">\n",
              "    <path d=\"M0 0h24v24H0V0z\" fill=\"none\"/>\n",
              "    <path d=\"M18.56 5.44l.94 2.06.94-2.06 2.06-.94-2.06-.94-.94-2.06-.94 2.06-2.06.94zm-11 1L8.5 8.5l.94-2.06 2.06-.94-2.06-.94L8.5 2.5l-.94 2.06-2.06.94zm10 10l.94 2.06.94-2.06 2.06-.94-2.06-.94-.94-2.06-.94 2.06-2.06.94z\"/><path d=\"M17.41 7.96l-1.37-1.37c-.4-.4-.92-.59-1.43-.59-.52 0-1.04.2-1.43.59L10.3 9.45l-7.72 7.72c-.78.78-.78 2.05 0 2.83L4 21.41c.39.39.9.59 1.41.59.51 0 1.02-.2 1.41-.59l7.78-7.78 2.81-2.81c.8-.78.8-2.07 0-2.86zM5.41 20L4 18.59l7.72-7.72 1.47 1.35L5.41 20z\"/>\n",
              "  </svg>\n",
              "      </button>\n",
              "      \n",
              "  <style>\n",
              "    .colab-df-container {\n",
              "      display:flex;\n",
              "      flex-wrap:wrap;\n",
              "      gap: 12px;\n",
              "    }\n",
              "\n",
              "    .colab-df-convert {\n",
              "      background-color: #E8F0FE;\n",
              "      border: none;\n",
              "      border-radius: 50%;\n",
              "      cursor: pointer;\n",
              "      display: none;\n",
              "      fill: #1967D2;\n",
              "      height: 32px;\n",
              "      padding: 0 0 0 0;\n",
              "      width: 32px;\n",
              "    }\n",
              "\n",
              "    .colab-df-convert:hover {\n",
              "      background-color: #E2EBFA;\n",
              "      box-shadow: 0px 1px 2px rgba(60, 64, 67, 0.3), 0px 1px 3px 1px rgba(60, 64, 67, 0.15);\n",
              "      fill: #174EA6;\n",
              "    }\n",
              "\n",
              "    [theme=dark] .colab-df-convert {\n",
              "      background-color: #3B4455;\n",
              "      fill: #D2E3FC;\n",
              "    }\n",
              "\n",
              "    [theme=dark] .colab-df-convert:hover {\n",
              "      background-color: #434B5C;\n",
              "      box-shadow: 0px 1px 3px 1px rgba(0, 0, 0, 0.15);\n",
              "      filter: drop-shadow(0px 1px 2px rgba(0, 0, 0, 0.3));\n",
              "      fill: #FFFFFF;\n",
              "    }\n",
              "  </style>\n",
              "\n",
              "      <script>\n",
              "        const buttonEl =\n",
              "          document.querySelector('#df-9a1513c2-375c-4c66-b38d-cfcfe1461afc button.colab-df-convert');\n",
              "        buttonEl.style.display =\n",
              "          google.colab.kernel.accessAllowed ? 'block' : 'none';\n",
              "\n",
              "        async function convertToInteractive(key) {\n",
              "          const element = document.querySelector('#df-9a1513c2-375c-4c66-b38d-cfcfe1461afc');\n",
              "          const dataTable =\n",
              "            await google.colab.kernel.invokeFunction('convertToInteractive',\n",
              "                                                     [key], {});\n",
              "          if (!dataTable) return;\n",
              "\n",
              "          const docLinkHtml = 'Like what you see? Visit the ' +\n",
              "            '<a target=\"_blank\" href=https://colab.research.google.com/notebooks/data_table.ipynb>data table notebook</a>'\n",
              "            + ' to learn more about interactive tables.';\n",
              "          element.innerHTML = '';\n",
              "          dataTable['output_type'] = 'display_data';\n",
              "          await google.colab.output.renderOutput(dataTable, element);\n",
              "          const docLink = document.createElement('div');\n",
              "          docLink.innerHTML = docLinkHtml;\n",
              "          element.appendChild(docLink);\n",
              "        }\n",
              "      </script>\n",
              "    </div>\n",
              "  </div>\n",
              "  "
            ],
            "text/plain": [
              "         Date   Location  MinTemp  ...  Temp3pm  RainToday  RainTomorrow\n",
              "0  2008-12-01  Newcastle     13.2  ...     30.6         No            No\n",
              "1  2008-12-02  Newcastle      NaN  ...     25.4         No            No\n",
              "2  2008-12-03  Newcastle     16.2  ...     32.0         No            No\n",
              "3  2008-12-04  Newcastle     19.2  ...     23.0         No            No\n",
              "4  2008-12-05  Newcastle     18.8  ...      NaN         No            No\n",
              "\n",
              "[5 rows x 23 columns]"
            ]
          },
          "metadata": {},
          "execution_count": 4
        }
      ],
      "source": [
        "df.head()"
      ]
    },
    {
      "cell_type": "markdown",
      "source": [
        "A premiere vue, on voit qu'il y a beaucoup de colonnes et des valeurs Nan"
      ],
      "metadata": {
        "id": "Mhc4GIXBT5I5"
      }
    },
    {
      "cell_type": "markdown",
      "source": [
        "## description des variables"
      ],
      "metadata": {
        "id": "52ACVjVVUC5E"
      }
    },
    {
      "cell_type": "code",
      "source": [
        "df.describe()"
      ],
      "metadata": {
        "colab": {
          "base_uri": "https://localhost:8080/",
          "height": 364
        },
        "id": "fXt3HSg2UKBy",
        "outputId": "6eb066bf-91a2-4ab7-9bba-f9eff778b422"
      },
      "execution_count": 5,
      "outputs": [
        {
          "output_type": "execute_result",
          "data": {
            "text/html": [
              "\n",
              "  <div id=\"df-3c78cf37-46d8-4000-a467-c98c0c996de9\">\n",
              "    <div class=\"colab-df-container\">\n",
              "      <div>\n",
              "<style scoped>\n",
              "    .dataframe tbody tr th:only-of-type {\n",
              "        vertical-align: middle;\n",
              "    }\n",
              "\n",
              "    .dataframe tbody tr th {\n",
              "        vertical-align: top;\n",
              "    }\n",
              "\n",
              "    .dataframe thead th {\n",
              "        text-align: right;\n",
              "    }\n",
              "</style>\n",
              "<table border=\"1\" class=\"dataframe\">\n",
              "  <thead>\n",
              "    <tr style=\"text-align: right;\">\n",
              "      <th></th>\n",
              "      <th>MinTemp</th>\n",
              "      <th>MaxTemp</th>\n",
              "      <th>Rainfall</th>\n",
              "      <th>Evaporation</th>\n",
              "      <th>Sunshine</th>\n",
              "      <th>WindGustSpeed</th>\n",
              "      <th>WindSpeed9am</th>\n",
              "      <th>WindSpeed3pm</th>\n",
              "      <th>Humidity9am</th>\n",
              "      <th>Humidity3pm</th>\n",
              "      <th>Pressure9am</th>\n",
              "      <th>Pressure3pm</th>\n",
              "      <th>Cloud9am</th>\n",
              "      <th>Cloud3pm</th>\n",
              "      <th>Temp9am</th>\n",
              "      <th>Temp3pm</th>\n",
              "    </tr>\n",
              "  </thead>\n",
              "  <tbody>\n",
              "    <tr>\n",
              "      <th>count</th>\n",
              "      <td>24781.000000</td>\n",
              "      <td>24885.000000</td>\n",
              "      <td>24570.000000</td>\n",
              "      <td>16385.000000</td>\n",
              "      <td>16142.000000</td>\n",
              "      <td>21011.000000</td>\n",
              "      <td>25073.000000</td>\n",
              "      <td>24389.000000</td>\n",
              "      <td>24800.000000</td>\n",
              "      <td>24141.000000</td>\n",
              "      <td>21854.000000</td>\n",
              "      <td>21852.000000</td>\n",
              "      <td>16480.000000</td>\n",
              "      <td>15527.000000</td>\n",
              "      <td>24883.000000</td>\n",
              "      <td>24183.000000</td>\n",
              "    </tr>\n",
              "    <tr>\n",
              "      <th>mean</th>\n",
              "      <td>13.255958</td>\n",
              "      <td>23.627928</td>\n",
              "      <td>2.568637</td>\n",
              "      <td>5.180128</td>\n",
              "      <td>7.598346</td>\n",
              "      <td>38.323021</td>\n",
              "      <td>12.250668</td>\n",
              "      <td>17.501989</td>\n",
              "      <td>66.912621</td>\n",
              "      <td>51.880742</td>\n",
              "      <td>1018.254873</td>\n",
              "      <td>1015.802009</td>\n",
              "      <td>4.214078</td>\n",
              "      <td>4.237264</td>\n",
              "      <td>17.850520</td>\n",
              "      <td>22.018224</td>\n",
              "    </tr>\n",
              "    <tr>\n",
              "      <th>std</th>\n",
              "      <td>5.828184</td>\n",
              "      <td>5.911984</td>\n",
              "      <td>8.955230</td>\n",
              "      <td>3.421251</td>\n",
              "      <td>3.796346</td>\n",
              "      <td>13.483681</td>\n",
              "      <td>9.282323</td>\n",
              "      <td>9.349560</td>\n",
              "      <td>16.448132</td>\n",
              "      <td>17.757020</td>\n",
              "      <td>6.786389</td>\n",
              "      <td>6.637024</td>\n",
              "      <td>2.858866</td>\n",
              "      <td>2.699229</td>\n",
              "      <td>5.931133</td>\n",
              "      <td>5.722596</td>\n",
              "    </tr>\n",
              "    <tr>\n",
              "      <th>min</th>\n",
              "      <td>-8.000000</td>\n",
              "      <td>4.100000</td>\n",
              "      <td>0.000000</td>\n",
              "      <td>0.000000</td>\n",
              "      <td>0.000000</td>\n",
              "      <td>9.000000</td>\n",
              "      <td>0.000000</td>\n",
              "      <td>0.000000</td>\n",
              "      <td>3.000000</td>\n",
              "      <td>4.000000</td>\n",
              "      <td>982.300000</td>\n",
              "      <td>985.500000</td>\n",
              "      <td>0.000000</td>\n",
              "      <td>0.000000</td>\n",
              "      <td>-1.300000</td>\n",
              "      <td>3.700000</td>\n",
              "    </tr>\n",
              "    <tr>\n",
              "      <th>25%</th>\n",
              "      <td>9.500000</td>\n",
              "      <td>19.400000</td>\n",
              "      <td>0.000000</td>\n",
              "      <td>2.600000</td>\n",
              "      <td>4.800000</td>\n",
              "      <td>30.000000</td>\n",
              "      <td>6.000000</td>\n",
              "      <td>11.000000</td>\n",
              "      <td>56.000000</td>\n",
              "      <td>40.000000</td>\n",
              "      <td>1013.700000</td>\n",
              "      <td>1011.300000</td>\n",
              "      <td>1.000000</td>\n",
              "      <td>1.000000</td>\n",
              "      <td>13.600000</td>\n",
              "      <td>18.000000</td>\n",
              "    </tr>\n",
              "    <tr>\n",
              "      <th>50%</th>\n",
              "      <td>13.500000</td>\n",
              "      <td>23.500000</td>\n",
              "      <td>0.000000</td>\n",
              "      <td>4.600000</td>\n",
              "      <td>8.500000</td>\n",
              "      <td>37.000000</td>\n",
              "      <td>11.000000</td>\n",
              "      <td>17.000000</td>\n",
              "      <td>67.000000</td>\n",
              "      <td>52.000000</td>\n",
              "      <td>1018.200000</td>\n",
              "      <td>1015.800000</td>\n",
              "      <td>5.000000</td>\n",
              "      <td>5.000000</td>\n",
              "      <td>17.800000</td>\n",
              "      <td>21.900000</td>\n",
              "    </tr>\n",
              "    <tr>\n",
              "      <th>75%</th>\n",
              "      <td>17.600000</td>\n",
              "      <td>27.700000</td>\n",
              "      <td>0.800000</td>\n",
              "      <td>7.200000</td>\n",
              "      <td>10.500000</td>\n",
              "      <td>46.000000</td>\n",
              "      <td>17.000000</td>\n",
              "      <td>22.000000</td>\n",
              "      <td>78.000000</td>\n",
              "      <td>63.000000</td>\n",
              "      <td>1022.800000</td>\n",
              "      <td>1020.300000</td>\n",
              "      <td>7.000000</td>\n",
              "      <td>7.000000</td>\n",
              "      <td>22.300000</td>\n",
              "      <td>25.900000</td>\n",
              "    </tr>\n",
              "    <tr>\n",
              "      <th>max</th>\n",
              "      <td>33.900000</td>\n",
              "      <td>46.400000</td>\n",
              "      <td>240.000000</td>\n",
              "      <td>44.000000</td>\n",
              "      <td>13.900000</td>\n",
              "      <td>122.000000</td>\n",
              "      <td>130.000000</td>\n",
              "      <td>87.000000</td>\n",
              "      <td>100.000000</td>\n",
              "      <td>100.000000</td>\n",
              "      <td>1040.600000</td>\n",
              "      <td>1037.900000</td>\n",
              "      <td>9.000000</td>\n",
              "      <td>8.000000</td>\n",
              "      <td>39.000000</td>\n",
              "      <td>45.400000</td>\n",
              "    </tr>\n",
              "  </tbody>\n",
              "</table>\n",
              "</div>\n",
              "      <button class=\"colab-df-convert\" onclick=\"convertToInteractive('df-3c78cf37-46d8-4000-a467-c98c0c996de9')\"\n",
              "              title=\"Convert this dataframe to an interactive table.\"\n",
              "              style=\"display:none;\">\n",
              "        \n",
              "  <svg xmlns=\"http://www.w3.org/2000/svg\" height=\"24px\"viewBox=\"0 0 24 24\"\n",
              "       width=\"24px\">\n",
              "    <path d=\"M0 0h24v24H0V0z\" fill=\"none\"/>\n",
              "    <path d=\"M18.56 5.44l.94 2.06.94-2.06 2.06-.94-2.06-.94-.94-2.06-.94 2.06-2.06.94zm-11 1L8.5 8.5l.94-2.06 2.06-.94-2.06-.94L8.5 2.5l-.94 2.06-2.06.94zm10 10l.94 2.06.94-2.06 2.06-.94-2.06-.94-.94-2.06-.94 2.06-2.06.94z\"/><path d=\"M17.41 7.96l-1.37-1.37c-.4-.4-.92-.59-1.43-.59-.52 0-1.04.2-1.43.59L10.3 9.45l-7.72 7.72c-.78.78-.78 2.05 0 2.83L4 21.41c.39.39.9.59 1.41.59.51 0 1.02-.2 1.41-.59l7.78-7.78 2.81-2.81c.8-.78.8-2.07 0-2.86zM5.41 20L4 18.59l7.72-7.72 1.47 1.35L5.41 20z\"/>\n",
              "  </svg>\n",
              "      </button>\n",
              "      \n",
              "  <style>\n",
              "    .colab-df-container {\n",
              "      display:flex;\n",
              "      flex-wrap:wrap;\n",
              "      gap: 12px;\n",
              "    }\n",
              "\n",
              "    .colab-df-convert {\n",
              "      background-color: #E8F0FE;\n",
              "      border: none;\n",
              "      border-radius: 50%;\n",
              "      cursor: pointer;\n",
              "      display: none;\n",
              "      fill: #1967D2;\n",
              "      height: 32px;\n",
              "      padding: 0 0 0 0;\n",
              "      width: 32px;\n",
              "    }\n",
              "\n",
              "    .colab-df-convert:hover {\n",
              "      background-color: #E2EBFA;\n",
              "      box-shadow: 0px 1px 2px rgba(60, 64, 67, 0.3), 0px 1px 3px 1px rgba(60, 64, 67, 0.15);\n",
              "      fill: #174EA6;\n",
              "    }\n",
              "\n",
              "    [theme=dark] .colab-df-convert {\n",
              "      background-color: #3B4455;\n",
              "      fill: #D2E3FC;\n",
              "    }\n",
              "\n",
              "    [theme=dark] .colab-df-convert:hover {\n",
              "      background-color: #434B5C;\n",
              "      box-shadow: 0px 1px 3px 1px rgba(0, 0, 0, 0.15);\n",
              "      filter: drop-shadow(0px 1px 2px rgba(0, 0, 0, 0.3));\n",
              "      fill: #FFFFFF;\n",
              "    }\n",
              "  </style>\n",
              "\n",
              "      <script>\n",
              "        const buttonEl =\n",
              "          document.querySelector('#df-3c78cf37-46d8-4000-a467-c98c0c996de9 button.colab-df-convert');\n",
              "        buttonEl.style.display =\n",
              "          google.colab.kernel.accessAllowed ? 'block' : 'none';\n",
              "\n",
              "        async function convertToInteractive(key) {\n",
              "          const element = document.querySelector('#df-3c78cf37-46d8-4000-a467-c98c0c996de9');\n",
              "          const dataTable =\n",
              "            await google.colab.kernel.invokeFunction('convertToInteractive',\n",
              "                                                     [key], {});\n",
              "          if (!dataTable) return;\n",
              "\n",
              "          const docLinkHtml = 'Like what you see? Visit the ' +\n",
              "            '<a target=\"_blank\" href=https://colab.research.google.com/notebooks/data_table.ipynb>data table notebook</a>'\n",
              "            + ' to learn more about interactive tables.';\n",
              "          element.innerHTML = '';\n",
              "          dataTable['output_type'] = 'display_data';\n",
              "          await google.colab.output.renderOutput(dataTable, element);\n",
              "          const docLink = document.createElement('div');\n",
              "          docLink.innerHTML = docLinkHtml;\n",
              "          element.appendChild(docLink);\n",
              "        }\n",
              "      </script>\n",
              "    </div>\n",
              "  </div>\n",
              "  "
            ],
            "text/plain": [
              "            MinTemp       MaxTemp  ...       Temp9am       Temp3pm\n",
              "count  24781.000000  24885.000000  ...  24883.000000  24183.000000\n",
              "mean      13.255958     23.627928  ...     17.850520     22.018224\n",
              "std        5.828184      5.911984  ...      5.931133      5.722596\n",
              "min       -8.000000      4.100000  ...     -1.300000      3.700000\n",
              "25%        9.500000     19.400000  ...     13.600000     18.000000\n",
              "50%       13.500000     23.500000  ...     17.800000     21.900000\n",
              "75%       17.600000     27.700000  ...     22.300000     25.900000\n",
              "max       33.900000     46.400000  ...     39.000000     45.400000\n",
              "\n",
              "[8 rows x 16 columns]"
            ]
          },
          "metadata": {},
          "execution_count": 5
        }
      ]
    },
    {
      "cell_type": "markdown",
      "source": [
        "## séparation des variables (numerique et categorielle)"
      ],
      "metadata": {
        "id": "b9_slpXZUOIo"
      }
    },
    {
      "cell_type": "code",
      "source": [
        "df.info()"
      ],
      "metadata": {
        "colab": {
          "base_uri": "https://localhost:8080/"
        },
        "id": "uSL6s8DsVUka",
        "outputId": "55a38982-0030-4d48-95a9-44f3247b408b"
      },
      "execution_count": 10,
      "outputs": [
        {
          "output_type": "stream",
          "name": "stdout",
          "text": [
            "<class 'pandas.core.frame.DataFrame'>\n",
            "RangeIndex: 25631 entries, 0 to 25630\n",
            "Data columns (total 23 columns):\n",
            " #   Column         Non-Null Count  Dtype  \n",
            "---  ------         --------------  -----  \n",
            " 0   Date           25631 non-null  object \n",
            " 1   Location       25631 non-null  object \n",
            " 2   MinTemp        24781 non-null  float64\n",
            " 3   MaxTemp        24885 non-null  float64\n",
            " 4   Rainfall       24570 non-null  float64\n",
            " 5   Evaporation    16385 non-null  float64\n",
            " 6   Sunshine       16142 non-null  float64\n",
            " 7   WindGustDir    21009 non-null  object \n",
            " 8   WindGustSpeed  21011 non-null  float64\n",
            " 9   WindDir9am     23020 non-null  object \n",
            " 10  WindDir3pm     23947 non-null  object \n",
            " 11  WindSpeed9am   25073 non-null  float64\n",
            " 12  WindSpeed3pm   24389 non-null  float64\n",
            " 13  Humidity9am    24800 non-null  float64\n",
            " 14  Humidity3pm    24141 non-null  float64\n",
            " 15  Pressure9am    21854 non-null  float64\n",
            " 16  Pressure3pm    21852 non-null  float64\n",
            " 17  Cloud9am       16480 non-null  float64\n",
            " 18  Cloud3pm       15527 non-null  float64\n",
            " 19  Temp9am        24883 non-null  float64\n",
            " 20  Temp3pm        24183 non-null  float64\n",
            " 21  RainToday      24570 non-null  object \n",
            " 22  RainTomorrow   24569 non-null  object \n",
            "dtypes: float64(16), object(7)\n",
            "memory usage: 4.5+ MB\n"
          ]
        }
      ]
    },
    {
      "cell_type": "code",
      "source": [
        "df.columns"
      ],
      "metadata": {
        "colab": {
          "base_uri": "https://localhost:8080/"
        },
        "id": "NztsNYHDUTSp",
        "outputId": "1b25239c-249e-4d02-f1be-abed7baef113"
      },
      "execution_count": 6,
      "outputs": [
        {
          "output_type": "execute_result",
          "data": {
            "text/plain": [
              "Index(['Date', 'Location', 'MinTemp', 'MaxTemp', 'Rainfall', 'Evaporation',\n",
              "       'Sunshine', 'WindGustDir', 'WindGustSpeed', 'WindDir9am', 'WindDir3pm',\n",
              "       'WindSpeed9am', 'WindSpeed3pm', 'Humidity9am', 'Humidity3pm',\n",
              "       'Pressure9am', 'Pressure3pm', 'Cloud9am', 'Cloud3pm', 'Temp9am',\n",
              "       'Temp3pm', 'RainToday', 'RainTomorrow'],\n",
              "      dtype='object')"
            ]
          },
          "metadata": {},
          "execution_count": 6
        }
      ]
    },
    {
      "cell_type": "code",
      "source": [
        "categorical_features = [column_name for column_name in df.columns if df[column_name].dtype == 'O']\n",
        "print(\"nombre de variables categorielles: {}\".format(len(categorical_features)))\n",
        "print(\"variables categorielles: \",categorical_features)\n",
        "numerical_features = [column_name for column_name in df.columns if df[column_name].dtype != 'O']\n",
        "print(\"nombre de variable numerique: {}\".format(len(numerical_features)))\n",
        "print(\"variables numeriques : \",numerical_features)"
      ],
      "metadata": {
        "colab": {
          "base_uri": "https://localhost:8080/"
        },
        "id": "jmRDqmLZUYMi",
        "outputId": "d2b2ef25-2eac-4d1f-b94e-4105007af84a"
      },
      "execution_count": 7,
      "outputs": [
        {
          "output_type": "stream",
          "name": "stdout",
          "text": [
            "nombre de variables categorielles: 7\n",
            "variables categorielles:  ['Date', 'Location', 'WindGustDir', 'WindDir9am', 'WindDir3pm', 'RainToday', 'RainTomorrow']\n",
            "nombre de variable numerique: 16\n",
            "variables numeriques :  ['MinTemp', 'MaxTemp', 'Rainfall', 'Evaporation', 'Sunshine', 'WindGustSpeed', 'WindSpeed9am', 'WindSpeed3pm', 'Humidity9am', 'Humidity3pm', 'Pressure9am', 'Pressure3pm', 'Cloud9am', 'Cloud3pm', 'Temp9am', 'Temp3pm']\n"
          ]
        }
      ]
    },
    {
      "cell_type": "code",
      "source": [
        "df.describe(include=[np.number])"
      ],
      "metadata": {
        "colab": {
          "base_uri": "https://localhost:8080/",
          "height": 364
        },
        "id": "RNgWzw28UedT",
        "outputId": "bb852c3d-1a6c-4cfe-f183-490c662567e7"
      },
      "execution_count": 8,
      "outputs": [
        {
          "output_type": "execute_result",
          "data": {
            "text/html": [
              "\n",
              "  <div id=\"df-bea39a93-e9a9-41bf-89ca-d6c2c3af0a88\">\n",
              "    <div class=\"colab-df-container\">\n",
              "      <div>\n",
              "<style scoped>\n",
              "    .dataframe tbody tr th:only-of-type {\n",
              "        vertical-align: middle;\n",
              "    }\n",
              "\n",
              "    .dataframe tbody tr th {\n",
              "        vertical-align: top;\n",
              "    }\n",
              "\n",
              "    .dataframe thead th {\n",
              "        text-align: right;\n",
              "    }\n",
              "</style>\n",
              "<table border=\"1\" class=\"dataframe\">\n",
              "  <thead>\n",
              "    <tr style=\"text-align: right;\">\n",
              "      <th></th>\n",
              "      <th>MinTemp</th>\n",
              "      <th>MaxTemp</th>\n",
              "      <th>Rainfall</th>\n",
              "      <th>Evaporation</th>\n",
              "      <th>Sunshine</th>\n",
              "      <th>WindGustSpeed</th>\n",
              "      <th>WindSpeed9am</th>\n",
              "      <th>WindSpeed3pm</th>\n",
              "      <th>Humidity9am</th>\n",
              "      <th>Humidity3pm</th>\n",
              "      <th>Pressure9am</th>\n",
              "      <th>Pressure3pm</th>\n",
              "      <th>Cloud9am</th>\n",
              "      <th>Cloud3pm</th>\n",
              "      <th>Temp9am</th>\n",
              "      <th>Temp3pm</th>\n",
              "    </tr>\n",
              "  </thead>\n",
              "  <tbody>\n",
              "    <tr>\n",
              "      <th>count</th>\n",
              "      <td>24781.000000</td>\n",
              "      <td>24885.000000</td>\n",
              "      <td>24570.000000</td>\n",
              "      <td>16385.000000</td>\n",
              "      <td>16142.000000</td>\n",
              "      <td>21011.000000</td>\n",
              "      <td>25073.000000</td>\n",
              "      <td>24389.000000</td>\n",
              "      <td>24800.000000</td>\n",
              "      <td>24141.000000</td>\n",
              "      <td>21854.000000</td>\n",
              "      <td>21852.000000</td>\n",
              "      <td>16480.000000</td>\n",
              "      <td>15527.000000</td>\n",
              "      <td>24883.000000</td>\n",
              "      <td>24183.000000</td>\n",
              "    </tr>\n",
              "    <tr>\n",
              "      <th>mean</th>\n",
              "      <td>13.255958</td>\n",
              "      <td>23.627928</td>\n",
              "      <td>2.568637</td>\n",
              "      <td>5.180128</td>\n",
              "      <td>7.598346</td>\n",
              "      <td>38.323021</td>\n",
              "      <td>12.250668</td>\n",
              "      <td>17.501989</td>\n",
              "      <td>66.912621</td>\n",
              "      <td>51.880742</td>\n",
              "      <td>1018.254873</td>\n",
              "      <td>1015.802009</td>\n",
              "      <td>4.214078</td>\n",
              "      <td>4.237264</td>\n",
              "      <td>17.850520</td>\n",
              "      <td>22.018224</td>\n",
              "    </tr>\n",
              "    <tr>\n",
              "      <th>std</th>\n",
              "      <td>5.828184</td>\n",
              "      <td>5.911984</td>\n",
              "      <td>8.955230</td>\n",
              "      <td>3.421251</td>\n",
              "      <td>3.796346</td>\n",
              "      <td>13.483681</td>\n",
              "      <td>9.282323</td>\n",
              "      <td>9.349560</td>\n",
              "      <td>16.448132</td>\n",
              "      <td>17.757020</td>\n",
              "      <td>6.786389</td>\n",
              "      <td>6.637024</td>\n",
              "      <td>2.858866</td>\n",
              "      <td>2.699229</td>\n",
              "      <td>5.931133</td>\n",
              "      <td>5.722596</td>\n",
              "    </tr>\n",
              "    <tr>\n",
              "      <th>min</th>\n",
              "      <td>-8.000000</td>\n",
              "      <td>4.100000</td>\n",
              "      <td>0.000000</td>\n",
              "      <td>0.000000</td>\n",
              "      <td>0.000000</td>\n",
              "      <td>9.000000</td>\n",
              "      <td>0.000000</td>\n",
              "      <td>0.000000</td>\n",
              "      <td>3.000000</td>\n",
              "      <td>4.000000</td>\n",
              "      <td>982.300000</td>\n",
              "      <td>985.500000</td>\n",
              "      <td>0.000000</td>\n",
              "      <td>0.000000</td>\n",
              "      <td>-1.300000</td>\n",
              "      <td>3.700000</td>\n",
              "    </tr>\n",
              "    <tr>\n",
              "      <th>25%</th>\n",
              "      <td>9.500000</td>\n",
              "      <td>19.400000</td>\n",
              "      <td>0.000000</td>\n",
              "      <td>2.600000</td>\n",
              "      <td>4.800000</td>\n",
              "      <td>30.000000</td>\n",
              "      <td>6.000000</td>\n",
              "      <td>11.000000</td>\n",
              "      <td>56.000000</td>\n",
              "      <td>40.000000</td>\n",
              "      <td>1013.700000</td>\n",
              "      <td>1011.300000</td>\n",
              "      <td>1.000000</td>\n",
              "      <td>1.000000</td>\n",
              "      <td>13.600000</td>\n",
              "      <td>18.000000</td>\n",
              "    </tr>\n",
              "    <tr>\n",
              "      <th>50%</th>\n",
              "      <td>13.500000</td>\n",
              "      <td>23.500000</td>\n",
              "      <td>0.000000</td>\n",
              "      <td>4.600000</td>\n",
              "      <td>8.500000</td>\n",
              "      <td>37.000000</td>\n",
              "      <td>11.000000</td>\n",
              "      <td>17.000000</td>\n",
              "      <td>67.000000</td>\n",
              "      <td>52.000000</td>\n",
              "      <td>1018.200000</td>\n",
              "      <td>1015.800000</td>\n",
              "      <td>5.000000</td>\n",
              "      <td>5.000000</td>\n",
              "      <td>17.800000</td>\n",
              "      <td>21.900000</td>\n",
              "    </tr>\n",
              "    <tr>\n",
              "      <th>75%</th>\n",
              "      <td>17.600000</td>\n",
              "      <td>27.700000</td>\n",
              "      <td>0.800000</td>\n",
              "      <td>7.200000</td>\n",
              "      <td>10.500000</td>\n",
              "      <td>46.000000</td>\n",
              "      <td>17.000000</td>\n",
              "      <td>22.000000</td>\n",
              "      <td>78.000000</td>\n",
              "      <td>63.000000</td>\n",
              "      <td>1022.800000</td>\n",
              "      <td>1020.300000</td>\n",
              "      <td>7.000000</td>\n",
              "      <td>7.000000</td>\n",
              "      <td>22.300000</td>\n",
              "      <td>25.900000</td>\n",
              "    </tr>\n",
              "    <tr>\n",
              "      <th>max</th>\n",
              "      <td>33.900000</td>\n",
              "      <td>46.400000</td>\n",
              "      <td>240.000000</td>\n",
              "      <td>44.000000</td>\n",
              "      <td>13.900000</td>\n",
              "      <td>122.000000</td>\n",
              "      <td>130.000000</td>\n",
              "      <td>87.000000</td>\n",
              "      <td>100.000000</td>\n",
              "      <td>100.000000</td>\n",
              "      <td>1040.600000</td>\n",
              "      <td>1037.900000</td>\n",
              "      <td>9.000000</td>\n",
              "      <td>8.000000</td>\n",
              "      <td>39.000000</td>\n",
              "      <td>45.400000</td>\n",
              "    </tr>\n",
              "  </tbody>\n",
              "</table>\n",
              "</div>\n",
              "      <button class=\"colab-df-convert\" onclick=\"convertToInteractive('df-bea39a93-e9a9-41bf-89ca-d6c2c3af0a88')\"\n",
              "              title=\"Convert this dataframe to an interactive table.\"\n",
              "              style=\"display:none;\">\n",
              "        \n",
              "  <svg xmlns=\"http://www.w3.org/2000/svg\" height=\"24px\"viewBox=\"0 0 24 24\"\n",
              "       width=\"24px\">\n",
              "    <path d=\"M0 0h24v24H0V0z\" fill=\"none\"/>\n",
              "    <path d=\"M18.56 5.44l.94 2.06.94-2.06 2.06-.94-2.06-.94-.94-2.06-.94 2.06-2.06.94zm-11 1L8.5 8.5l.94-2.06 2.06-.94-2.06-.94L8.5 2.5l-.94 2.06-2.06.94zm10 10l.94 2.06.94-2.06 2.06-.94-2.06-.94-.94-2.06-.94 2.06-2.06.94z\"/><path d=\"M17.41 7.96l-1.37-1.37c-.4-.4-.92-.59-1.43-.59-.52 0-1.04.2-1.43.59L10.3 9.45l-7.72 7.72c-.78.78-.78 2.05 0 2.83L4 21.41c.39.39.9.59 1.41.59.51 0 1.02-.2 1.41-.59l7.78-7.78 2.81-2.81c.8-.78.8-2.07 0-2.86zM5.41 20L4 18.59l7.72-7.72 1.47 1.35L5.41 20z\"/>\n",
              "  </svg>\n",
              "      </button>\n",
              "      \n",
              "  <style>\n",
              "    .colab-df-container {\n",
              "      display:flex;\n",
              "      flex-wrap:wrap;\n",
              "      gap: 12px;\n",
              "    }\n",
              "\n",
              "    .colab-df-convert {\n",
              "      background-color: #E8F0FE;\n",
              "      border: none;\n",
              "      border-radius: 50%;\n",
              "      cursor: pointer;\n",
              "      display: none;\n",
              "      fill: #1967D2;\n",
              "      height: 32px;\n",
              "      padding: 0 0 0 0;\n",
              "      width: 32px;\n",
              "    }\n",
              "\n",
              "    .colab-df-convert:hover {\n",
              "      background-color: #E2EBFA;\n",
              "      box-shadow: 0px 1px 2px rgba(60, 64, 67, 0.3), 0px 1px 3px 1px rgba(60, 64, 67, 0.15);\n",
              "      fill: #174EA6;\n",
              "    }\n",
              "\n",
              "    [theme=dark] .colab-df-convert {\n",
              "      background-color: #3B4455;\n",
              "      fill: #D2E3FC;\n",
              "    }\n",
              "\n",
              "    [theme=dark] .colab-df-convert:hover {\n",
              "      background-color: #434B5C;\n",
              "      box-shadow: 0px 1px 3px 1px rgba(0, 0, 0, 0.15);\n",
              "      filter: drop-shadow(0px 1px 2px rgba(0, 0, 0, 0.3));\n",
              "      fill: #FFFFFF;\n",
              "    }\n",
              "  </style>\n",
              "\n",
              "      <script>\n",
              "        const buttonEl =\n",
              "          document.querySelector('#df-bea39a93-e9a9-41bf-89ca-d6c2c3af0a88 button.colab-df-convert');\n",
              "        buttonEl.style.display =\n",
              "          google.colab.kernel.accessAllowed ? 'block' : 'none';\n",
              "\n",
              "        async function convertToInteractive(key) {\n",
              "          const element = document.querySelector('#df-bea39a93-e9a9-41bf-89ca-d6c2c3af0a88');\n",
              "          const dataTable =\n",
              "            await google.colab.kernel.invokeFunction('convertToInteractive',\n",
              "                                                     [key], {});\n",
              "          if (!dataTable) return;\n",
              "\n",
              "          const docLinkHtml = 'Like what you see? Visit the ' +\n",
              "            '<a target=\"_blank\" href=https://colab.research.google.com/notebooks/data_table.ipynb>data table notebook</a>'\n",
              "            + ' to learn more about interactive tables.';\n",
              "          element.innerHTML = '';\n",
              "          dataTable['output_type'] = 'display_data';\n",
              "          await google.colab.output.renderOutput(dataTable, element);\n",
              "          const docLink = document.createElement('div');\n",
              "          docLink.innerHTML = docLinkHtml;\n",
              "          element.appendChild(docLink);\n",
              "        }\n",
              "      </script>\n",
              "    </div>\n",
              "  </div>\n",
              "  "
            ],
            "text/plain": [
              "            MinTemp       MaxTemp  ...       Temp9am       Temp3pm\n",
              "count  24781.000000  24885.000000  ...  24883.000000  24183.000000\n",
              "mean      13.255958     23.627928  ...     17.850520     22.018224\n",
              "std        5.828184      5.911984  ...      5.931133      5.722596\n",
              "min       -8.000000      4.100000  ...     -1.300000      3.700000\n",
              "25%        9.500000     19.400000  ...     13.600000     18.000000\n",
              "50%       13.500000     23.500000  ...     17.800000     21.900000\n",
              "75%       17.600000     27.700000  ...     22.300000     25.900000\n",
              "max       33.900000     46.400000  ...     39.000000     45.400000\n",
              "\n",
              "[8 rows x 16 columns]"
            ]
          },
          "metadata": {},
          "execution_count": 8
        }
      ]
    },
    {
      "cell_type": "code",
      "source": [
        "df.describe(exclude=[np.number])"
      ],
      "metadata": {
        "colab": {
          "base_uri": "https://localhost:8080/",
          "height": 175
        },
        "id": "ogpsi0RzUvNb",
        "outputId": "7b531ecd-a093-4fee-ba4b-c38a575bf35b"
      },
      "execution_count": 9,
      "outputs": [
        {
          "output_type": "execute_result",
          "data": {
            "text/html": [
              "\n",
              "  <div id=\"df-ddb2b425-3f5b-414c-a4a6-92ae461ac3ea\">\n",
              "    <div class=\"colab-df-container\">\n",
              "      <div>\n",
              "<style scoped>\n",
              "    .dataframe tbody tr th:only-of-type {\n",
              "        vertical-align: middle;\n",
              "    }\n",
              "\n",
              "    .dataframe tbody tr th {\n",
              "        vertical-align: top;\n",
              "    }\n",
              "\n",
              "    .dataframe thead th {\n",
              "        text-align: right;\n",
              "    }\n",
              "</style>\n",
              "<table border=\"1\" class=\"dataframe\">\n",
              "  <thead>\n",
              "    <tr style=\"text-align: right;\">\n",
              "      <th></th>\n",
              "      <th>Date</th>\n",
              "      <th>Location</th>\n",
              "      <th>WindGustDir</th>\n",
              "      <th>WindDir9am</th>\n",
              "      <th>WindDir3pm</th>\n",
              "      <th>RainToday</th>\n",
              "      <th>RainTomorrow</th>\n",
              "    </tr>\n",
              "  </thead>\n",
              "  <tbody>\n",
              "    <tr>\n",
              "      <th>count</th>\n",
              "      <td>25631</td>\n",
              "      <td>25631</td>\n",
              "      <td>21009</td>\n",
              "      <td>23020</td>\n",
              "      <td>23947</td>\n",
              "      <td>24570</td>\n",
              "      <td>24569</td>\n",
              "    </tr>\n",
              "    <tr>\n",
              "      <th>unique</th>\n",
              "      <td>3436</td>\n",
              "      <td>8</td>\n",
              "      <td>16</td>\n",
              "      <td>16</td>\n",
              "      <td>16</td>\n",
              "      <td>2</td>\n",
              "      <td>2</td>\n",
              "    </tr>\n",
              "    <tr>\n",
              "      <th>top</th>\n",
              "      <td>2012-04-03</td>\n",
              "      <td>Canberra</td>\n",
              "      <td>SSE</td>\n",
              "      <td>N</td>\n",
              "      <td>SE</td>\n",
              "      <td>No</td>\n",
              "      <td>No</td>\n",
              "    </tr>\n",
              "    <tr>\n",
              "      <th>freq</th>\n",
              "      <td>8</td>\n",
              "      <td>3436</td>\n",
              "      <td>1833</td>\n",
              "      <td>2196</td>\n",
              "      <td>2357</td>\n",
              "      <td>18890</td>\n",
              "      <td>18891</td>\n",
              "    </tr>\n",
              "  </tbody>\n",
              "</table>\n",
              "</div>\n",
              "      <button class=\"colab-df-convert\" onclick=\"convertToInteractive('df-ddb2b425-3f5b-414c-a4a6-92ae461ac3ea')\"\n",
              "              title=\"Convert this dataframe to an interactive table.\"\n",
              "              style=\"display:none;\">\n",
              "        \n",
              "  <svg xmlns=\"http://www.w3.org/2000/svg\" height=\"24px\"viewBox=\"0 0 24 24\"\n",
              "       width=\"24px\">\n",
              "    <path d=\"M0 0h24v24H0V0z\" fill=\"none\"/>\n",
              "    <path d=\"M18.56 5.44l.94 2.06.94-2.06 2.06-.94-2.06-.94-.94-2.06-.94 2.06-2.06.94zm-11 1L8.5 8.5l.94-2.06 2.06-.94-2.06-.94L8.5 2.5l-.94 2.06-2.06.94zm10 10l.94 2.06.94-2.06 2.06-.94-2.06-.94-.94-2.06-.94 2.06-2.06.94z\"/><path d=\"M17.41 7.96l-1.37-1.37c-.4-.4-.92-.59-1.43-.59-.52 0-1.04.2-1.43.59L10.3 9.45l-7.72 7.72c-.78.78-.78 2.05 0 2.83L4 21.41c.39.39.9.59 1.41.59.51 0 1.02-.2 1.41-.59l7.78-7.78 2.81-2.81c.8-.78.8-2.07 0-2.86zM5.41 20L4 18.59l7.72-7.72 1.47 1.35L5.41 20z\"/>\n",
              "  </svg>\n",
              "      </button>\n",
              "      \n",
              "  <style>\n",
              "    .colab-df-container {\n",
              "      display:flex;\n",
              "      flex-wrap:wrap;\n",
              "      gap: 12px;\n",
              "    }\n",
              "\n",
              "    .colab-df-convert {\n",
              "      background-color: #E8F0FE;\n",
              "      border: none;\n",
              "      border-radius: 50%;\n",
              "      cursor: pointer;\n",
              "      display: none;\n",
              "      fill: #1967D2;\n",
              "      height: 32px;\n",
              "      padding: 0 0 0 0;\n",
              "      width: 32px;\n",
              "    }\n",
              "\n",
              "    .colab-df-convert:hover {\n",
              "      background-color: #E2EBFA;\n",
              "      box-shadow: 0px 1px 2px rgba(60, 64, 67, 0.3), 0px 1px 3px 1px rgba(60, 64, 67, 0.15);\n",
              "      fill: #174EA6;\n",
              "    }\n",
              "\n",
              "    [theme=dark] .colab-df-convert {\n",
              "      background-color: #3B4455;\n",
              "      fill: #D2E3FC;\n",
              "    }\n",
              "\n",
              "    [theme=dark] .colab-df-convert:hover {\n",
              "      background-color: #434B5C;\n",
              "      box-shadow: 0px 1px 3px 1px rgba(0, 0, 0, 0.15);\n",
              "      filter: drop-shadow(0px 1px 2px rgba(0, 0, 0, 0.3));\n",
              "      fill: #FFFFFF;\n",
              "    }\n",
              "  </style>\n",
              "\n",
              "      <script>\n",
              "        const buttonEl =\n",
              "          document.querySelector('#df-ddb2b425-3f5b-414c-a4a6-92ae461ac3ea button.colab-df-convert');\n",
              "        buttonEl.style.display =\n",
              "          google.colab.kernel.accessAllowed ? 'block' : 'none';\n",
              "\n",
              "        async function convertToInteractive(key) {\n",
              "          const element = document.querySelector('#df-ddb2b425-3f5b-414c-a4a6-92ae461ac3ea');\n",
              "          const dataTable =\n",
              "            await google.colab.kernel.invokeFunction('convertToInteractive',\n",
              "                                                     [key], {});\n",
              "          if (!dataTable) return;\n",
              "\n",
              "          const docLinkHtml = 'Like what you see? Visit the ' +\n",
              "            '<a target=\"_blank\" href=https://colab.research.google.com/notebooks/data_table.ipynb>data table notebook</a>'\n",
              "            + ' to learn more about interactive tables.';\n",
              "          element.innerHTML = '';\n",
              "          dataTable['output_type'] = 'display_data';\n",
              "          await google.colab.output.renderOutput(dataTable, element);\n",
              "          const docLink = document.createElement('div');\n",
              "          docLink.innerHTML = docLinkHtml;\n",
              "          element.appendChild(docLink);\n",
              "        }\n",
              "      </script>\n",
              "    </div>\n",
              "  </div>\n",
              "  "
            ],
            "text/plain": [
              "              Date  Location WindGustDir  ... WindDir3pm RainToday RainTomorrow\n",
              "count        25631     25631       21009  ...      23947     24570        24569\n",
              "unique        3436         8          16  ...         16         2            2\n",
              "top     2012-04-03  Canberra         SSE  ...         SE        No           No\n",
              "freq             8      3436        1833  ...       2357     18890        18891\n",
              "\n",
              "[4 rows x 7 columns]"
            ]
          },
          "metadata": {},
          "execution_count": 9
        }
      ]
    },
    {
      "cell_type": "markdown",
      "source": [
        "premier constat : la variable date a trop de valeurs uniques ( des Dates), une des transformations est la transformation de date en ( jours, mois, année)\n"
      ],
      "metadata": {
        "id": "Im2D3vfuU1-U"
      }
    },
    {
      "cell_type": "markdown",
      "source": [
        "## recherche des valeurs manquantes:"
      ],
      "metadata": {
        "id": "P-EUp-wXVhx5"
      }
    },
    {
      "cell_type": "code",
      "source": [
        "df.isna().sum()"
      ],
      "metadata": {
        "colab": {
          "base_uri": "https://localhost:8080/"
        },
        "id": "TeoUBPN7Vo42",
        "outputId": "d24f3baf-04ce-4b72-e76f-c679316e8d83"
      },
      "execution_count": 23,
      "outputs": [
        {
          "output_type": "execute_result",
          "data": {
            "text/plain": [
              "MinTemp          0\n",
              "MaxTemp          0\n",
              "Rainfall         0\n",
              "Evaporation      0\n",
              "Sunshine         0\n",
              "WindGustSpeed    0\n",
              "WindSpeed9am     0\n",
              "WindSpeed3pm     0\n",
              "Humidity9am      0\n",
              "Humidity3pm      0\n",
              "Pressure9am      0\n",
              "Pressure3pm      0\n",
              "Cloud9am         0\n",
              "Cloud3pm         0\n",
              "Temp9am          0\n",
              "Temp3pm          0\n",
              "year             0\n",
              "month            0\n",
              "day              0\n",
              "Location         0\n",
              "WindGustDir      0\n",
              "WindDir9am       0\n",
              "WindDir3pm       0\n",
              "RainToday        0\n",
              "RainTomorrow     0\n",
              "dtype: int64"
            ]
          },
          "metadata": {},
          "execution_count": 23
        }
      ]
    },
    {
      "cell_type": "markdown",
      "source": [
        "il y a une neccessité de remplacer des valeurs manquantes par la mediane pour les variables numeriques  et le mode pour les variables categorielles"
      ],
      "metadata": {
        "id": "CmWHHU9QVt1u"
      }
    },
    {
      "cell_type": "markdown",
      "metadata": {
        "id": "GJO_sIP1TWwk"
      },
      "source": [
        "# Nettoyage et normalisation de la data"
      ]
    },
    {
      "cell_type": "markdown",
      "metadata": {
        "pycharm": {
          "name": "#%% md\n"
        },
        "id": "XUT0bJUKTWwk"
      },
      "source": [
        "## Transformation de la date"
      ]
    },
    {
      "cell_type": "code",
      "execution_count": 22,
      "metadata": {
        "pycharm": {
          "name": "#%%\n"
        },
        "colab": {
          "base_uri": "https://localhost:8080/",
          "height": 572
        },
        "id": "hl5FIiN7TWwk",
        "outputId": "c6c9d9a0-b6e6-470c-9385-26466b493261"
      },
      "outputs": [
        {
          "output_type": "error",
          "ename": "KeyError",
          "evalue": "ignored",
          "traceback": [
            "\u001b[0;31m---------------------------------------------------------------------------\u001b[0m",
            "\u001b[0;31mKeyError\u001b[0m                                  Traceback (most recent call last)",
            "\u001b[0;32m/usr/local/lib/python3.7/dist-packages/pandas/core/indexes/base.py\u001b[0m in \u001b[0;36mget_loc\u001b[0;34m(self, key, method, tolerance)\u001b[0m\n\u001b[1;32m   2897\u001b[0m             \u001b[0;32mtry\u001b[0m\u001b[0;34m:\u001b[0m\u001b[0;34m\u001b[0m\u001b[0;34m\u001b[0m\u001b[0m\n\u001b[0;32m-> 2898\u001b[0;31m                 \u001b[0;32mreturn\u001b[0m \u001b[0mself\u001b[0m\u001b[0;34m.\u001b[0m\u001b[0m_engine\u001b[0m\u001b[0;34m.\u001b[0m\u001b[0mget_loc\u001b[0m\u001b[0;34m(\u001b[0m\u001b[0mcasted_key\u001b[0m\u001b[0;34m)\u001b[0m\u001b[0;34m\u001b[0m\u001b[0;34m\u001b[0m\u001b[0m\n\u001b[0m\u001b[1;32m   2899\u001b[0m             \u001b[0;32mexcept\u001b[0m \u001b[0mKeyError\u001b[0m \u001b[0;32mas\u001b[0m \u001b[0merr\u001b[0m\u001b[0;34m:\u001b[0m\u001b[0;34m\u001b[0m\u001b[0;34m\u001b[0m\u001b[0m\n",
            "\u001b[0;32mpandas/_libs/index.pyx\u001b[0m in \u001b[0;36mpandas._libs.index.IndexEngine.get_loc\u001b[0;34m()\u001b[0m\n",
            "\u001b[0;32mpandas/_libs/index.pyx\u001b[0m in \u001b[0;36mpandas._libs.index.IndexEngine.get_loc\u001b[0;34m()\u001b[0m\n",
            "\u001b[0;32mpandas/_libs/hashtable_class_helper.pxi\u001b[0m in \u001b[0;36mpandas._libs.hashtable.PyObjectHashTable.get_item\u001b[0;34m()\u001b[0m\n",
            "\u001b[0;32mpandas/_libs/hashtable_class_helper.pxi\u001b[0m in \u001b[0;36mpandas._libs.hashtable.PyObjectHashTable.get_item\u001b[0;34m()\u001b[0m\n",
            "\u001b[0;31mKeyError\u001b[0m: 'Date'",
            "\nThe above exception was the direct cause of the following exception:\n",
            "\u001b[0;31mKeyError\u001b[0m                                  Traceback (most recent call last)",
            "\u001b[0;32m<ipython-input-22-83a107701a36>\u001b[0m in \u001b[0;36m<module>\u001b[0;34m()\u001b[0m\n\u001b[1;32m      1\u001b[0m \u001b[0;32mfrom\u001b[0m \u001b[0mdatetime\u001b[0m \u001b[0;32mimport\u001b[0m \u001b[0mdatetime\u001b[0m\u001b[0;34m\u001b[0m\u001b[0;34m\u001b[0m\u001b[0m\n\u001b[1;32m      2\u001b[0m \u001b[0;34m\u001b[0m\u001b[0m\n\u001b[0;32m----> 3\u001b[0;31m \u001b[0mdf\u001b[0m\u001b[0;34m[\u001b[0m\u001b[0;34m\"year\"\u001b[0m\u001b[0;34m]\u001b[0m \u001b[0;34m=\u001b[0m \u001b[0mdf\u001b[0m\u001b[0;34m[\u001b[0m\u001b[0;34m\"Date\"\u001b[0m\u001b[0;34m]\u001b[0m\u001b[0;34m.\u001b[0m\u001b[0mapply\u001b[0m\u001b[0;34m(\u001b[0m\u001b[0mdatetime\u001b[0m\u001b[0;34m.\u001b[0m\u001b[0mfromisoformat\u001b[0m\u001b[0;34m)\u001b[0m\u001b[0;34m.\u001b[0m\u001b[0mapply\u001b[0m\u001b[0;34m(\u001b[0m\u001b[0;32mlambda\u001b[0m \u001b[0md\u001b[0m\u001b[0;34m:\u001b[0m \u001b[0md\u001b[0m\u001b[0;34m.\u001b[0m\u001b[0myear\u001b[0m\u001b[0;34m)\u001b[0m\u001b[0;34m\u001b[0m\u001b[0;34m\u001b[0m\u001b[0m\n\u001b[0m\u001b[1;32m      4\u001b[0m \u001b[0mdf\u001b[0m\u001b[0;34m[\u001b[0m\u001b[0;34m\"month\"\u001b[0m\u001b[0;34m]\u001b[0m \u001b[0;34m=\u001b[0m \u001b[0mdf\u001b[0m\u001b[0;34m[\u001b[0m\u001b[0;34m\"Date\"\u001b[0m\u001b[0;34m]\u001b[0m\u001b[0;34m.\u001b[0m\u001b[0mapply\u001b[0m\u001b[0;34m(\u001b[0m\u001b[0mdatetime\u001b[0m\u001b[0;34m.\u001b[0m\u001b[0mfromisoformat\u001b[0m\u001b[0;34m)\u001b[0m\u001b[0;34m.\u001b[0m\u001b[0mapply\u001b[0m\u001b[0;34m(\u001b[0m\u001b[0;32mlambda\u001b[0m \u001b[0md\u001b[0m\u001b[0;34m:\u001b[0m \u001b[0md\u001b[0m\u001b[0;34m.\u001b[0m\u001b[0mmonth\u001b[0m\u001b[0;34m)\u001b[0m\u001b[0;34m\u001b[0m\u001b[0;34m\u001b[0m\u001b[0m\n\u001b[1;32m      5\u001b[0m \u001b[0mdf\u001b[0m\u001b[0;34m[\u001b[0m\u001b[0;34m\"day\"\u001b[0m\u001b[0;34m]\u001b[0m \u001b[0;34m=\u001b[0m \u001b[0mdf\u001b[0m\u001b[0;34m[\u001b[0m\u001b[0;34m\"Date\"\u001b[0m\u001b[0;34m]\u001b[0m\u001b[0;34m.\u001b[0m\u001b[0mapply\u001b[0m\u001b[0;34m(\u001b[0m\u001b[0mdatetime\u001b[0m\u001b[0;34m.\u001b[0m\u001b[0mfromisoformat\u001b[0m\u001b[0;34m)\u001b[0m\u001b[0;34m.\u001b[0m\u001b[0mapply\u001b[0m\u001b[0;34m(\u001b[0m\u001b[0;32mlambda\u001b[0m \u001b[0md\u001b[0m\u001b[0;34m:\u001b[0m \u001b[0md\u001b[0m\u001b[0;34m.\u001b[0m\u001b[0mday\u001b[0m\u001b[0;34m)\u001b[0m\u001b[0;34m\u001b[0m\u001b[0;34m\u001b[0m\u001b[0m\n",
            "\u001b[0;32m/usr/local/lib/python3.7/dist-packages/pandas/core/frame.py\u001b[0m in \u001b[0;36m__getitem__\u001b[0;34m(self, key)\u001b[0m\n\u001b[1;32m   2904\u001b[0m             \u001b[0;32mif\u001b[0m \u001b[0mself\u001b[0m\u001b[0;34m.\u001b[0m\u001b[0mcolumns\u001b[0m\u001b[0;34m.\u001b[0m\u001b[0mnlevels\u001b[0m \u001b[0;34m>\u001b[0m \u001b[0;36m1\u001b[0m\u001b[0;34m:\u001b[0m\u001b[0;34m\u001b[0m\u001b[0;34m\u001b[0m\u001b[0m\n\u001b[1;32m   2905\u001b[0m                 \u001b[0;32mreturn\u001b[0m \u001b[0mself\u001b[0m\u001b[0;34m.\u001b[0m\u001b[0m_getitem_multilevel\u001b[0m\u001b[0;34m(\u001b[0m\u001b[0mkey\u001b[0m\u001b[0;34m)\u001b[0m\u001b[0;34m\u001b[0m\u001b[0;34m\u001b[0m\u001b[0m\n\u001b[0;32m-> 2906\u001b[0;31m             \u001b[0mindexer\u001b[0m \u001b[0;34m=\u001b[0m \u001b[0mself\u001b[0m\u001b[0;34m.\u001b[0m\u001b[0mcolumns\u001b[0m\u001b[0;34m.\u001b[0m\u001b[0mget_loc\u001b[0m\u001b[0;34m(\u001b[0m\u001b[0mkey\u001b[0m\u001b[0;34m)\u001b[0m\u001b[0;34m\u001b[0m\u001b[0;34m\u001b[0m\u001b[0m\n\u001b[0m\u001b[1;32m   2907\u001b[0m             \u001b[0;32mif\u001b[0m \u001b[0mis_integer\u001b[0m\u001b[0;34m(\u001b[0m\u001b[0mindexer\u001b[0m\u001b[0;34m)\u001b[0m\u001b[0;34m:\u001b[0m\u001b[0;34m\u001b[0m\u001b[0;34m\u001b[0m\u001b[0m\n\u001b[1;32m   2908\u001b[0m                 \u001b[0mindexer\u001b[0m \u001b[0;34m=\u001b[0m \u001b[0;34m[\u001b[0m\u001b[0mindexer\u001b[0m\u001b[0;34m]\u001b[0m\u001b[0;34m\u001b[0m\u001b[0;34m\u001b[0m\u001b[0m\n",
            "\u001b[0;32m/usr/local/lib/python3.7/dist-packages/pandas/core/indexes/base.py\u001b[0m in \u001b[0;36mget_loc\u001b[0;34m(self, key, method, tolerance)\u001b[0m\n\u001b[1;32m   2898\u001b[0m                 \u001b[0;32mreturn\u001b[0m \u001b[0mself\u001b[0m\u001b[0;34m.\u001b[0m\u001b[0m_engine\u001b[0m\u001b[0;34m.\u001b[0m\u001b[0mget_loc\u001b[0m\u001b[0;34m(\u001b[0m\u001b[0mcasted_key\u001b[0m\u001b[0;34m)\u001b[0m\u001b[0;34m\u001b[0m\u001b[0;34m\u001b[0m\u001b[0m\n\u001b[1;32m   2899\u001b[0m             \u001b[0;32mexcept\u001b[0m \u001b[0mKeyError\u001b[0m \u001b[0;32mas\u001b[0m \u001b[0merr\u001b[0m\u001b[0;34m:\u001b[0m\u001b[0;34m\u001b[0m\u001b[0;34m\u001b[0m\u001b[0m\n\u001b[0;32m-> 2900\u001b[0;31m                 \u001b[0;32mraise\u001b[0m \u001b[0mKeyError\u001b[0m\u001b[0;34m(\u001b[0m\u001b[0mkey\u001b[0m\u001b[0;34m)\u001b[0m \u001b[0;32mfrom\u001b[0m \u001b[0merr\u001b[0m\u001b[0;34m\u001b[0m\u001b[0;34m\u001b[0m\u001b[0m\n\u001b[0m\u001b[1;32m   2901\u001b[0m \u001b[0;34m\u001b[0m\u001b[0m\n\u001b[1;32m   2902\u001b[0m         \u001b[0;32mif\u001b[0m \u001b[0mtolerance\u001b[0m \u001b[0;32mis\u001b[0m \u001b[0;32mnot\u001b[0m \u001b[0;32mNone\u001b[0m\u001b[0;34m:\u001b[0m\u001b[0;34m\u001b[0m\u001b[0;34m\u001b[0m\u001b[0m\n",
            "\u001b[0;31mKeyError\u001b[0m: 'Date'"
          ]
        }
      ],
      "source": [
        "from datetime import datetime\n",
        "\n",
        "df[\"year\"] = df[\"Date\"].apply(datetime.fromisoformat).apply(lambda d: d.year)\n",
        "df[\"month\"] = df[\"Date\"].apply(datetime.fromisoformat).apply(lambda d: d.month)\n",
        "df[\"day\"] = df[\"Date\"].apply(datetime.fromisoformat).apply(lambda d: d.day)\n",
        "df = df.drop(\"Date\", axis=1)"
      ]
    },
    {
      "cell_type": "markdown",
      "metadata": {
        "id": "IbEKWFeYTWwk"
      },
      "source": [
        "## Separation des valeurs numériques et catégorielles + completion des NA"
      ]
    },
    {
      "cell_type": "code",
      "execution_count": 24,
      "metadata": {
        "pycharm": {
          "name": "#%%\n"
        },
        "id": "QZpApTwJTWwk"
      },
      "outputs": [],
      "source": [
        "num_data = df.select_dtypes(include=np.number).fillna(df.select_dtypes(include=np.number).median())"
      ]
    },
    {
      "cell_type": "code",
      "execution_count": 25,
      "metadata": {
        "pycharm": {
          "name": "#%%\n"
        },
        "id": "svPXbWiaTWwl"
      },
      "outputs": [],
      "source": [
        "cat_data = df.select_dtypes(exclude=np.number).fillna(df.select_dtypes(exclude=np.number).mode().loc[0])"
      ]
    },
    {
      "cell_type": "code",
      "execution_count": 26,
      "metadata": {
        "pycharm": {
          "name": "#%%\n"
        },
        "id": "ZQA4CwGITWwl"
      },
      "outputs": [],
      "source": [
        "df = pd.concat([num_data, cat_data], axis=1)"
      ]
    },
    {
      "cell_type": "markdown",
      "metadata": {
        "pycharm": {
          "name": "#%% md\n"
        },
        "id": "7H1uLD2gTWwl"
      },
      "source": [
        "## Labelisation des strings et binarisation"
      ]
    },
    {
      "cell_type": "code",
      "execution_count": 27,
      "metadata": {
        "pycharm": {
          "name": "#%%\n"
        },
        "id": "VOnk3hNdTWwl"
      },
      "outputs": [],
      "source": [
        "from sklearn.preprocessing import LabelEncoder\n",
        "\n",
        "cat_columns = df.select_dtypes(exclude=np.number).columns\n",
        "\n",
        "# un moyen de garder en mémoire la labélisation des strings\n",
        "encoders = {c: LabelEncoder().fit(df[c]) for c in cat_columns}\n",
        "\n",
        "# on transforme toutes les variables catégroielles en numérique\n",
        "df[cat_columns] = df.select_dtypes(exclude=np.number).apply(LabelEncoder().fit_transform)"
      ]
    },
    {
      "cell_type": "markdown",
      "source": [
        "# Corrélation et relations entre variables"
      ],
      "metadata": {
        "id": "Yq802RL-XIWc"
      }
    },
    {
      "cell_type": "code",
      "source": [
        "fig = plt.figure(figsize=(8,6))\n",
        "for  column in df.columns:\n",
        "  df[df['RainTomorrow'] == 1][column].plot(kind='hist', color='blue', edgecolor='black', alpha=0.5, figsize=(10, 7))\n",
        "  df[df['RainTomorrow'] == 0][column].plot(kind='hist', color='magenta', edgecolor='black', alpha=0.5, figsize=(10, 7))\n",
        "  plt.legend(labels=['YES', 'No'])\n",
        "  plt.title(f'Distribution of {column}', size=24)\n",
        "  plt.xlabel(f'{column}', size=18)\n",
        "  plt.ylabel('Frequency', size=18);\n",
        "  plt.show()"
      ],
      "metadata": {
        "id": "CusN_0-agAa4",
        "outputId": "6c64f7bf-1a9c-4eb6-b433-a57d9098e64d",
        "colab": {
          "base_uri": "https://localhost:8080/",
          "height": 1000
        }
      },
      "execution_count": 52,
      "outputs": [
        {
          "output_type": "display_data",
          "data": {
            "image/png": "[encoded data removed]",
            "text/plain": [
              "<Figure size 720x504 with 1 Axes>"
            ]
          },
          "metadata": {
            "needs_background": "light"
          }
        },
        {
          "output_type": "display_data",
          "data": {
            "image/png": "[encoded data removed]",
            "text/plain": [
              "<Figure size 720x504 with 1 Axes>"
            ]
          },
          "metadata": {
            "needs_background": "light"
          }
        },
        {
          "output_type": "display_data",
          "data": {
            "image/png": "[encoded data removed]",
            "text/plain": [
              "<Figure size 720x504 with 1 Axes>"
            ]
          },
          "metadata": {
            "needs_background": "light"
          }
        },
        {
          "output_type": "display_data",
          "data": {
            "image/png": "[encoded data removed]",
            "text/plain": [
              "<Figure size 720x504 with 1 Axes>"
            ]
          },
          "metadata": {
            "needs_background": "light"
          }
        },
        {
          "output_type": "display_data",
          "data": {
            "image/png": "[encoded data removed]",
            "text/plain": [
              "<Figure size 720x504 with 1 Axes>"
            ]
          },
          "metadata": {
            "needs_background": "light"
          }
        },
        {
          "output_type": "display_data",
          "data": {
            "image/png": "[encoded data removed]",
            "text/plain": [
              "<Figure size 720x504 with 1 Axes>"
            ]
          },
          "metadata": {
            "needs_background": "light"
          }
        },
        {
          "output_type": "display_data",
          "data": {
            "image/png": "[encoded data removed]",
            "text/plain": [
              "<Figure size 720x504 with 1 Axes>"
            ]
          },
          "metadata": {
            "needs_background": "light"
          }
        },
        {
          "output_type": "display_data",
          "data": {
            "image/png": "[encoded data removed]",
            "text/plain": [
              "<Figure size 720x504 with 1 Axes>"
            ]
          },
          "metadata": {
            "needs_background": "light"
          }
        },
        {
          "output_type": "display_data",
          "data": {
            "image/png": "[encoded data removed]",
            "text/plain": [
              "<Figure size 720x504 with 1 Axes>"
            ]
          },
          "metadata": {
            "needs_background": "light"
          }
        },
        {
          "output_type": "display_data",
          "data": {
            "image/png": "[encoded data removed]",
            "text/plain": [
              "<Figure size 720x504 with 1 Axes>"
            ]
          },
          "metadata": {
            "needs_background": "light"
          }
        },
        {
          "output_type": "display_data",
          "data": {
            "image/png": "[encoded data removed]",
            "text/plain": [
              "<Figure size 720x504 with 1 Axes>"
            ]
          },
          "metadata": {
            "needs_background": "light"
          }
        },
        {
          "output_type": "display_data",
          "data": {
            "image/png": "[encoded data removed]",
            "text/plain": [
              "<Figure size 720x504 with 1 Axes>"
            ]
          },
          "metadata": {
            "needs_background": "light"
          }
        },
        {
          "output_type": "display_data",
          "data": {
            "image/png": "[encoded data removed]",
            "text/plain": [
              "<Figure size 720x504 with 1 Axes>"
            ]
          },
          "metadata": {
            "needs_background": "light"
          }
        },
        {
          "output_type": "display_data",
          "data": {
            "image/png": "[encoded data removed]",
            "text/plain": [
              "<Figure size 720x504 with 1 Axes>"
            ]
          },
          "metadata": {
            "needs_background": "light"
          }
        },
        {
          "output_type": "display_data",
          "data": {
            "image/png": "[encoded data removed]",
            "text/plain": [
              "<Figure size 720x504 with 1 Axes>"
            ]
          },
          "metadata": {
            "needs_background": "light"
          }
        },
        {
          "output_type": "display_data",
          "data": {
            "image/png": "[encoded data removed]",
            "text/plain": [
              "<Figure size 720x504 with 1 Axes>"
            ]
          },
          "metadata": {
            "needs_background": "light"
          }
        },
        {
          "output_type": "display_data",
          "data": {
            "image/png": "[encoded data removed]",
            "text/plain": [
              "<Figure size 720x504 with 1 Axes>"
            ]
          },
          "metadata": {
            "needs_background": "light"
          }
        },
        {
          "output_type": "display_data",
          "data": {
            "image/png": "[encoded data removed]",
            "text/plain": [
              "<Figure size 720x504 with 1 Axes>"
            ]
          },
          "metadata": {
            "needs_background": "light"
          }
        },
        {
          "output_type": "display_data",
          "data": {
            "image/png": "[encoded data removed]",
            "text/plain": [
              "<Figure size 720x504 with 1 Axes>"
            ]
          },
          "metadata": {
            "needs_background": "light"
          }
        },
        {
          "output_type": "display_data",
          "data": {
            "image/png": "[encoded data removed]",
            "text/plain": [
              "<Figure size 720x504 with 1 Axes>"
            ]
          },
          "metadata": {
            "needs_background": "light"
          }
        },
        {
          "output_type": "display_data",
          "data": {
            "image/png": "[encoded data removed]",
            "text/plain": [
              "<Figure size 720x504 with 1 Axes>"
            ]
          },
          "metadata": {
            "needs_background": "light"
          }
        },
        {
          "output_type": "display_data",
          "data": {
            "image/png": "[encoded data removed]",
            "text/plain": [
              "<Figure size 720x504 with 1 Axes>"
            ]
          },
          "metadata": {
            "needs_background": "light"
          }
        },
        {
          "output_type": "display_data",
          "data": {
            "image/png": "[encoded data removed]",
            "text/plain": [
              "<Figure size 720x504 with 1 Axes>"
            ]
          },
          "metadata": {
            "needs_background": "light"
          }
        },
        {
          "output_type": "display_data",
          "data": {
            "image/png": "[encoded data removed]",
            "text/plain": [
              "<Figure size 720x504 with 1 Axes>"
            ]
          },
          "metadata": {
            "needs_background": "light"
          }
        },
        {
          "output_type": "display_data",
          "data": {
            "image/png": "[encoded data removed]",
            "text/plain": [
              "<Figure size 720x504 with 1 Axes>"
            ]
          },
          "metadata": {
            "needs_background": "light"
          }
        }
      ]
    },
    {
      "cell_type": "markdown",
      "source": [
        "à en comparant les bivariance afin de pouvoir selection les variables explicatives, on constate qu'il y a un deséquilibre des classes qui fausse le choix des variables explicatives."
      ],
      "metadata": {
        "id": "8JxUYqyXjOXL"
      }
    },
    {
      "cell_type": "code",
      "source": [
        "corr = df.corr(method='pearson')\n",
        "plt.figure(figsize=(26,26))\n",
        "corr.style.background_gradient(cmap='coolwarm').set_precision(2)"
      ],
      "metadata": {
        "id": "giyeYvN3XOh0",
        "outputId": "2a8e2d65-6561-4b27-8656-3fc44c328dbd",
        "colab": {
          "base_uri": "https://localhost:8080/",
          "height": 871
        }
      },
      "execution_count": 35,
      "outputs": [
        {
          "output_type": "execute_result",
          "data": {
            "text/html": [
              "<style  type=\"text/css\" >\n",
              "#T_b9722156_7e31_11ec_88fe_0242ac1c0002row0_col0,#T_b9722156_7e31_11ec_88fe_0242ac1c0002row1_col1,#T_b9722156_7e31_11ec_88fe_0242ac1c0002row2_col2,#T_b9722156_7e31_11ec_88fe_0242ac1c0002row3_col3,#T_b9722156_7e31_11ec_88fe_0242ac1c0002row4_col4,#T_b9722156_7e31_11ec_88fe_0242ac1c0002row5_col5,#T_b9722156_7e31_11ec_88fe_0242ac1c0002row6_col6,#T_b9722156_7e31_11ec_88fe_0242ac1c0002row7_col7,#T_b9722156_7e31_11ec_88fe_0242ac1c0002row8_col8,#T_b9722156_7e31_11ec_88fe_0242ac1c0002row9_col9,#T_b9722156_7e31_11ec_88fe_0242ac1c0002row10_col10,#T_b9722156_7e31_11ec_88fe_0242ac1c0002row11_col11,#T_b9722156_7e31_11ec_88fe_0242ac1c0002row12_col12,#T_b9722156_7e31_11ec_88fe_0242ac1c0002row13_col13,#T_b9722156_7e31_11ec_88fe_0242ac1c0002row14_col14,#T_b9722156_7e31_11ec_88fe_0242ac1c0002row15_col15,#T_b9722156_7e31_11ec_88fe_0242ac1c0002row16_col16,#T_b9722156_7e31_11ec_88fe_0242ac1c0002row17_col17,#T_b9722156_7e31_11ec_88fe_0242ac1c0002row18_col18,#T_b9722156_7e31_11ec_88fe_0242ac1c0002row19_col19,#T_b9722156_7e31_11ec_88fe_0242ac1c0002row20_col20,#T_b9722156_7e31_11ec_88fe_0242ac1c0002row21_col21,#T_b9722156_7e31_11ec_88fe_0242ac1c0002row22_col22,#T_b9722156_7e31_11ec_88fe_0242ac1c0002row23_col23,#T_b9722156_7e31_11ec_88fe_0242ac1c0002row24_col24{\n",
              "            background-color:  #b40426;\n",
              "            color:  #f1f1f1;\n",
              "        }#T_b9722156_7e31_11ec_88fe_0242ac1c0002row0_col1,#T_b9722156_7e31_11ec_88fe_0242ac1c0002row1_col0{\n",
              "            background-color:  #ed8366;\n",
              "            color:  #000000;\n",
              "        }#T_b9722156_7e31_11ec_88fe_0242ac1c0002row0_col2,#T_b9722156_7e31_11ec_88fe_0242ac1c0002row17_col6,#T_b9722156_7e31_11ec_88fe_0242ac1c0002row20_col10{\n",
              "            background-color:  #80a3fa;\n",
              "            color:  #000000;\n",
              "        }#T_b9722156_7e31_11ec_88fe_0242ac1c0002row0_col3{\n",
              "            background-color:  #edd2c3;\n",
              "            color:  #000000;\n",
              "        }#T_b9722156_7e31_11ec_88fe_0242ac1c0002row0_col4,#T_b9722156_7e31_11ec_88fe_0242ac1c0002row12_col23{\n",
              "            background-color:  #bad0f8;\n",
              "            color:  #000000;\n",
              "        }#T_b9722156_7e31_11ec_88fe_0242ac1c0002row0_col5,#T_b9722156_7e31_11ec_88fe_0242ac1c0002row2_col5,#T_b9722156_7e31_11ec_88fe_0242ac1c0002row10_col4,#T_b9722156_7e31_11ec_88fe_0242ac1c0002row17_col4,#T_b9722156_7e31_11ec_88fe_0242ac1c0002row22_col13{\n",
              "            background-color:  #b3cdfb;\n",
              "            color:  #000000;\n",
              "        }#T_b9722156_7e31_11ec_88fe_0242ac1c0002row0_col6,#T_b9722156_7e31_11ec_88fe_0242ac1c0002row6_col23,#T_b9722156_7e31_11ec_88fe_0242ac1c0002row19_col10,#T_b9722156_7e31_11ec_88fe_0242ac1c0002row20_col24,#T_b9722156_7e31_11ec_88fe_0242ac1c0002row22_col3{\n",
              "            background-color:  #93b5fe;\n",
              "            color:  #000000;\n",
              "        }#T_b9722156_7e31_11ec_88fe_0242ac1c0002row0_col7,#T_b9722156_7e31_11ec_88fe_0242ac1c0002row7_col15,#T_b9722156_7e31_11ec_88fe_0242ac1c0002row7_col24,#T_b9722156_7e31_11ec_88fe_0242ac1c0002row10_col9,#T_b9722156_7e31_11ec_88fe_0242ac1c0002row10_col12,#T_b9722156_7e31_11ec_88fe_0242ac1c0002row17_col9,#T_b9722156_7e31_11ec_88fe_0242ac1c0002row19_col15,#T_b9722156_7e31_11ec_88fe_0242ac1c0002row21_col0,#T_b9722156_7e31_11ec_88fe_0242ac1c0002row21_col6{\n",
              "            background-color:  #97b8ff;\n",
              "            color:  #000000;\n",
              "        }#T_b9722156_7e31_11ec_88fe_0242ac1c0002row0_col8,#T_b9722156_7e31_11ec_88fe_0242ac1c0002row2_col20,#T_b9722156_7e31_11ec_88fe_0242ac1c0002row6_col22,#T_b9722156_7e31_11ec_88fe_0242ac1c0002row8_col0,#T_b9722156_7e31_11ec_88fe_0242ac1c0002row8_col20,#T_b9722156_7e31_11ec_88fe_0242ac1c0002row12_col17,#T_b9722156_7e31_11ec_88fe_0242ac1c0002row18_col6,#T_b9722156_7e31_11ec_88fe_0242ac1c0002row22_col14,#T_b9722156_7e31_11ec_88fe_0242ac1c0002row23_col3{\n",
              "            background-color:  #7093f3;\n",
              "            color:  #000000;\n",
              "        }#T_b9722156_7e31_11ec_88fe_0242ac1c0002row0_col9,#T_b9722156_7e31_11ec_88fe_0242ac1c0002row24_col23{\n",
              "            background-color:  #cad8ef;\n",
              "            color:  #000000;\n",
              "        }#T_b9722156_7e31_11ec_88fe_0242ac1c0002row0_col10,#T_b9722156_7e31_11ec_88fe_0242ac1c0002row0_col17,#T_b9722156_7e31_11ec_88fe_0242ac1c0002row1_col8,#T_b9722156_7e31_11ec_88fe_0242ac1c0002row1_col21,#T_b9722156_7e31_11ec_88fe_0242ac1c0002row4_col2,#T_b9722156_7e31_11ec_88fe_0242ac1c0002row4_col9,#T_b9722156_7e31_11ec_88fe_0242ac1c0002row4_col12,#T_b9722156_7e31_11ec_88fe_0242ac1c0002row4_col13,#T_b9722156_7e31_11ec_88fe_0242ac1c0002row4_col23,#T_b9722156_7e31_11ec_88fe_0242ac1c0002row4_col24,#T_b9722156_7e31_11ec_88fe_0242ac1c0002row8_col1,#T_b9722156_7e31_11ec_88fe_0242ac1c0002row8_col3,#T_b9722156_7e31_11ec_88fe_0242ac1c0002row8_col6,#T_b9722156_7e31_11ec_88fe_0242ac1c0002row8_col15,#T_b9722156_7e31_11ec_88fe_0242ac1c0002row10_col0,#T_b9722156_7e31_11ec_88fe_0242ac1c0002row10_col5,#T_b9722156_7e31_11ec_88fe_0242ac1c0002row10_col7,#T_b9722156_7e31_11ec_88fe_0242ac1c0002row10_col18,#T_b9722156_7e31_11ec_88fe_0242ac1c0002row11_col14,#T_b9722156_7e31_11ec_88fe_0242ac1c0002row11_col18,#T_b9722156_7e31_11ec_88fe_0242ac1c0002row12_col19,#T_b9722156_7e31_11ec_88fe_0242ac1c0002row13_col4,#T_b9722156_7e31_11ec_88fe_0242ac1c0002row14_col11,#T_b9722156_7e31_11ec_88fe_0242ac1c0002row14_col22,#T_b9722156_7e31_11ec_88fe_0242ac1c0002row15_col20,#T_b9722156_7e31_11ec_88fe_0242ac1c0002row15_col21,#T_b9722156_7e31_11ec_88fe_0242ac1c0002row17_col16{\n",
              "            background-color:  #3b4cc0;\n",
              "            color:  #f1f1f1;\n",
              "        }#T_b9722156_7e31_11ec_88fe_0242ac1c0002row0_col11,#T_b9722156_7e31_11ec_88fe_0242ac1c0002row0_col22,#T_b9722156_7e31_11ec_88fe_0242ac1c0002row15_col8{\n",
              "            background-color:  #3c4ec2;\n",
              "            color:  #f1f1f1;\n",
              "        }#T_b9722156_7e31_11ec_88fe_0242ac1c0002row0_col12,#T_b9722156_7e31_11ec_88fe_0242ac1c0002row8_col11{\n",
              "            background-color:  #c5d6f2;\n",
              "            color:  #000000;\n",
              "        }#T_b9722156_7e31_11ec_88fe_0242ac1c0002row0_col13,#T_b9722156_7e31_11ec_88fe_0242ac1c0002row7_col12,#T_b9722156_7e31_11ec_88fe_0242ac1c0002row12_col0,#T_b9722156_7e31_11ec_88fe_0242ac1c0002row16_col4,#T_b9722156_7e31_11ec_88fe_0242ac1c0002row23_col5{\n",
              "            background-color:  #b9d0f9;\n",
              "            color:  #000000;\n",
              "        }#T_b9722156_7e31_11ec_88fe_0242ac1c0002row0_col14,#T_b9722156_7e31_11ec_88fe_0242ac1c0002row14_col0{\n",
              "            background-color:  #cc403a;\n",
              "            color:  #f1f1f1;\n",
              "        }#T_b9722156_7e31_11ec_88fe_0242ac1c0002row0_col15,#T_b9722156_7e31_11ec_88fe_0242ac1c0002row15_col0{\n",
              "            background-color:  #f18f71;\n",
              "            color:  #000000;\n",
              "        }#T_b9722156_7e31_11ec_88fe_0242ac1c0002row0_col16,#T_b9722156_7e31_11ec_88fe_0242ac1c0002row8_col5,#T_b9722156_7e31_11ec_88fe_0242ac1c0002row9_col7,#T_b9722156_7e31_11ec_88fe_0242ac1c0002row17_col14,#T_b9722156_7e31_11ec_88fe_0242ac1c0002row18_col17,#T_b9722156_7e31_11ec_88fe_0242ac1c0002row22_col15{\n",
              "            background-color:  #7699f6;\n",
              "            color:  #000000;\n",
              "        }#T_b9722156_7e31_11ec_88fe_0242ac1c0002row0_col18,#T_b9722156_7e31_11ec_88fe_0242ac1c0002row1_col23,#T_b9722156_7e31_11ec_88fe_0242ac1c0002row4_col8,#T_b9722156_7e31_11ec_88fe_0242ac1c0002row10_col6,#T_b9722156_7e31_11ec_88fe_0242ac1c0002row10_col22,#T_b9722156_7e31_11ec_88fe_0242ac1c0002row11_col5,#T_b9722156_7e31_11ec_88fe_0242ac1c0002row17_col18{\n",
              "            background-color:  #445acc;\n",
              "            color:  #f1f1f1;\n",
              "        }#T_b9722156_7e31_11ec_88fe_0242ac1c0002row0_col19,#T_b9722156_7e31_11ec_88fe_0242ac1c0002row2_col22,#T_b9722156_7e31_11ec_88fe_0242ac1c0002row6_col10,#T_b9722156_7e31_11ec_88fe_0242ac1c0002row12_col1,#T_b9722156_7e31_11ec_88fe_0242ac1c0002row13_col22,#T_b9722156_7e31_11ec_88fe_0242ac1c0002row24_col10{\n",
              "            background-color:  #6f92f3;\n",
              "            color:  #000000;\n",
              "        }#T_b9722156_7e31_11ec_88fe_0242ac1c0002row0_col20,#T_b9722156_7e31_11ec_88fe_0242ac1c0002row14_col17{\n",
              "            background-color:  #4b64d5;\n",
              "            color:  #f1f1f1;\n",
              "        }#T_b9722156_7e31_11ec_88fe_0242ac1c0002row0_col21,#T_b9722156_7e31_11ec_88fe_0242ac1c0002row1_col6,#T_b9722156_7e31_11ec_88fe_0242ac1c0002row4_col6,#T_b9722156_7e31_11ec_88fe_0242ac1c0002row9_col3,#T_b9722156_7e31_11ec_88fe_0242ac1c0002row10_col24,#T_b9722156_7e31_11ec_88fe_0242ac1c0002row18_col16,#T_b9722156_7e31_11ec_88fe_0242ac1c0002row19_col22,#T_b9722156_7e31_11ec_88fe_0242ac1c0002row23_col19,#T_b9722156_7e31_11ec_88fe_0242ac1c0002row24_col19{\n",
              "            background-color:  #5f7fe8;\n",
              "            color:  #000000;\n",
              "        }#T_b9722156_7e31_11ec_88fe_0242ac1c0002row0_col23,#T_b9722156_7e31_11ec_88fe_0242ac1c0002row17_col3,#T_b9722156_7e31_11ec_88fe_0242ac1c0002row19_col20,#T_b9722156_7e31_11ec_88fe_0242ac1c0002row23_col6{\n",
              "            background-color:  #8db0fe;\n",
              "            color:  #000000;\n",
              "        }#T_b9722156_7e31_11ec_88fe_0242ac1c0002row0_col24,#T_b9722156_7e31_11ec_88fe_0242ac1c0002row6_col3,#T_b9722156_7e31_11ec_88fe_0242ac1c0002row16_col9,#T_b9722156_7e31_11ec_88fe_0242ac1c0002row16_col15,#T_b9722156_7e31_11ec_88fe_0242ac1c0002row20_col21,#T_b9722156_7e31_11ec_88fe_0242ac1c0002row21_col12{\n",
              "            background-color:  #aac7fd;\n",
              "            color:  #000000;\n",
              "        }#T_b9722156_7e31_11ec_88fe_0242ac1c0002row1_col2,#T_b9722156_7e31_11ec_88fe_0242ac1c0002row4_col19,#T_b9722156_7e31_11ec_88fe_0242ac1c0002row10_col1,#T_b9722156_7e31_11ec_88fe_0242ac1c0002row10_col19{\n",
              "            background-color:  #4f69d9;\n",
              "            color:  #000000;\n",
              "        }#T_b9722156_7e31_11ec_88fe_0242ac1c0002row1_col3{\n",
              "            background-color:  #f5c4ac;\n",
              "            color:  #000000;\n",
              "        }#T_b9722156_7e31_11ec_88fe_0242ac1c0002row1_col4{\n",
              "            background-color:  #f1cdba;\n",
              "            color:  #000000;\n",
              "        }#T_b9722156_7e31_11ec_88fe_0242ac1c0002row1_col5,#T_b9722156_7e31_11ec_88fe_0242ac1c0002row9_col5,#T_b9722156_7e31_11ec_88fe_0242ac1c0002row18_col3,#T_b9722156_7e31_11ec_88fe_0242ac1c0002row18_col5{\n",
              "            background-color:  #98b9ff;\n",
              "            color:  #000000;\n",
              "        }#T_b9722156_7e31_11ec_88fe_0242ac1c0002row1_col7,#T_b9722156_7e31_11ec_88fe_0242ac1c0002row6_col2,#T_b9722156_7e31_11ec_88fe_0242ac1c0002row10_col17,#T_b9722156_7e31_11ec_88fe_0242ac1c0002row23_col22,#T_b9722156_7e31_11ec_88fe_0242ac1c0002row24_col1{\n",
              "            background-color:  #7da0f9;\n",
              "            color:  #000000;\n",
              "        }#T_b9722156_7e31_11ec_88fe_0242ac1c0002row1_col9,#T_b9722156_7e31_11ec_88fe_0242ac1c0002row3_col20,#T_b9722156_7e31_11ec_88fe_0242ac1c0002row4_col21,#T_b9722156_7e31_11ec_88fe_0242ac1c0002row10_col15,#T_b9722156_7e31_11ec_88fe_0242ac1c0002row15_col19,#T_b9722156_7e31_11ec_88fe_0242ac1c0002row17_col19{\n",
              "            background-color:  #5673e0;\n",
              "            color:  #000000;\n",
              "        }#T_b9722156_7e31_11ec_88fe_0242ac1c0002row1_col10,#T_b9722156_7e31_11ec_88fe_0242ac1c0002row9_col1,#T_b9722156_7e31_11ec_88fe_0242ac1c0002row10_col23,#T_b9722156_7e31_11ec_88fe_0242ac1c0002row11_col6,#T_b9722156_7e31_11ec_88fe_0242ac1c0002row22_col19{\n",
              "            background-color:  #506bda;\n",
              "            color:  #000000;\n",
              "        }#T_b9722156_7e31_11ec_88fe_0242ac1c0002row1_col11,#T_b9722156_7e31_11ec_88fe_0242ac1c0002row5_col18,#T_b9722156_7e31_11ec_88fe_0242ac1c0002row10_col2,#T_b9722156_7e31_11ec_88fe_0242ac1c0002row11_col1,#T_b9722156_7e31_11ec_88fe_0242ac1c0002row19_col18{\n",
              "            background-color:  #4055c8;\n",
              "            color:  #f1f1f1;\n",
              "        }#T_b9722156_7e31_11ec_88fe_0242ac1c0002row1_col12,#T_b9722156_7e31_11ec_88fe_0242ac1c0002row2_col7,#T_b9722156_7e31_11ec_88fe_0242ac1c0002row4_col7,#T_b9722156_7e31_11ec_88fe_0242ac1c0002row6_col17,#T_b9722156_7e31_11ec_88fe_0242ac1c0002row6_col19,#T_b9722156_7e31_11ec_88fe_0242ac1c0002row12_col3,#T_b9722156_7e31_11ec_88fe_0242ac1c0002row14_col6,#T_b9722156_7e31_11ec_88fe_0242ac1c0002row20_col0,#T_b9722156_7e31_11ec_88fe_0242ac1c0002row24_col7{\n",
              "            background-color:  #81a4fb;\n",
              "            color:  #000000;\n",
              "        }#T_b9722156_7e31_11ec_88fe_0242ac1c0002row1_col13,#T_b9722156_7e31_11ec_88fe_0242ac1c0002row20_col7,#T_b9722156_7e31_11ec_88fe_0242ac1c0002row22_col9,#T_b9722156_7e31_11ec_88fe_0242ac1c0002row23_col20,#T_b9722156_7e31_11ec_88fe_0242ac1c0002row23_col21{\n",
              "            background-color:  #82a6fb;\n",
              "            color:  #000000;\n",
              "        }#T_b9722156_7e31_11ec_88fe_0242ac1c0002row1_col14,#T_b9722156_7e31_11ec_88fe_0242ac1c0002row14_col1{\n",
              "            background-color:  #d55042;\n",
              "            color:  #000000;\n",
              "        }#T_b9722156_7e31_11ec_88fe_0242ac1c0002row1_col15{\n",
              "            background-color:  #be242e;\n",
              "            color:  #f1f1f1;\n",
              "        }#T_b9722156_7e31_11ec_88fe_0242ac1c0002row1_col16,#T_b9722156_7e31_11ec_88fe_0242ac1c0002row7_col22,#T_b9722156_7e31_11ec_88fe_0242ac1c0002row13_col3,#T_b9722156_7e31_11ec_88fe_0242ac1c0002row21_col17,#T_b9722156_7e31_11ec_88fe_0242ac1c0002row23_col10{\n",
              "            background-color:  #779af7;\n",
              "            color:  #000000;\n",
              "        }#T_b9722156_7e31_11ec_88fe_0242ac1c0002row1_col17,#T_b9722156_7e31_11ec_88fe_0242ac1c0002row2_col18,#T_b9722156_7e31_11ec_88fe_0242ac1c0002row3_col18,#T_b9722156_7e31_11ec_88fe_0242ac1c0002row11_col7,#T_b9722156_7e31_11ec_88fe_0242ac1c0002row12_col4,#T_b9722156_7e31_11ec_88fe_0242ac1c0002row13_col18,#T_b9722156_7e31_11ec_88fe_0242ac1c0002row15_col22,#T_b9722156_7e31_11ec_88fe_0242ac1c0002row20_col18{\n",
              "            background-color:  #4257c9;\n",
              "            color:  #f1f1f1;\n",
              "        }#T_b9722156_7e31_11ec_88fe_0242ac1c0002row1_col18,#T_b9722156_7e31_11ec_88fe_0242ac1c0002row1_col22,#T_b9722156_7e31_11ec_88fe_0242ac1c0002row4_col18,#T_b9722156_7e31_11ec_88fe_0242ac1c0002row12_col18,#T_b9722156_7e31_11ec_88fe_0242ac1c0002row14_col18,#T_b9722156_7e31_11ec_88fe_0242ac1c0002row15_col18,#T_b9722156_7e31_11ec_88fe_0242ac1c0002row15_col23,#T_b9722156_7e31_11ec_88fe_0242ac1c0002row23_col18,#T_b9722156_7e31_11ec_88fe_0242ac1c0002row24_col18{\n",
              "            background-color:  #4358cb;\n",
              "            color:  #f1f1f1;\n",
              "        }#T_b9722156_7e31_11ec_88fe_0242ac1c0002row1_col19,#T_b9722156_7e31_11ec_88fe_0242ac1c0002row3_col10,#T_b9722156_7e31_11ec_88fe_0242ac1c0002row3_col11{\n",
              "            background-color:  #5875e1;\n",
              "            color:  #000000;\n",
              "        }#T_b9722156_7e31_11ec_88fe_0242ac1c0002row1_col20,#T_b9722156_7e31_11ec_88fe_0242ac1c0002row3_col8,#T_b9722156_7e31_11ec_88fe_0242ac1c0002row9_col15,#T_b9722156_7e31_11ec_88fe_0242ac1c0002row11_col0,#T_b9722156_7e31_11ec_88fe_0242ac1c0002row15_col17{\n",
              "            background-color:  #3d50c3;\n",
              "            color:  #f1f1f1;\n",
              "        }#T_b9722156_7e31_11ec_88fe_0242ac1c0002row1_col24,#T_b9722156_7e31_11ec_88fe_0242ac1c0002row7_col2,#T_b9722156_7e31_11ec_88fe_0242ac1c0002row7_col19,#T_b9722156_7e31_11ec_88fe_0242ac1c0002row17_col22,#T_b9722156_7e31_11ec_88fe_0242ac1c0002row20_col15,#T_b9722156_7e31_11ec_88fe_0242ac1c0002row24_col20{\n",
              "            background-color:  #6e90f2;\n",
              "            color:  #000000;\n",
              "        }#T_b9722156_7e31_11ec_88fe_0242ac1c0002row2_col0,#T_b9722156_7e31_11ec_88fe_0242ac1c0002row8_col2{\n",
              "            background-color:  #b2ccfb;\n",
              "            color:  #000000;\n",
              "        }#T_b9722156_7e31_11ec_88fe_0242ac1c0002row2_col1,#T_b9722156_7e31_11ec_88fe_0242ac1c0002row2_col3,#T_b9722156_7e31_11ec_88fe_0242ac1c0002row3_col6,#T_b9722156_7e31_11ec_88fe_0242ac1c0002row6_col1,#T_b9722156_7e31_11ec_88fe_0242ac1c0002row12_col10,#T_b9722156_7e31_11ec_88fe_0242ac1c0002row20_col3,#T_b9722156_7e31_11ec_88fe_0242ac1c0002row22_col21,#T_b9722156_7e31_11ec_88fe_0242ac1c0002row23_col11,#T_b9722156_7e31_11ec_88fe_0242ac1c0002row24_col6{\n",
              "            background-color:  #88abfd;\n",
              "            color:  #000000;\n",
              "        }#T_b9722156_7e31_11ec_88fe_0242ac1c0002row2_col4,#T_b9722156_7e31_11ec_88fe_0242ac1c0002row4_col5,#T_b9722156_7e31_11ec_88fe_0242ac1c0002row5_col22,#T_b9722156_7e31_11ec_88fe_0242ac1c0002row13_col2,#T_b9722156_7e31_11ec_88fe_0242ac1c0002row16_col5,#T_b9722156_7e31_11ec_88fe_0242ac1c0002row21_col22,#T_b9722156_7e31_11ec_88fe_0242ac1c0002row21_col24{\n",
              "            background-color:  #8caffe;\n",
              "            color:  #000000;\n",
              "        }#T_b9722156_7e31_11ec_88fe_0242ac1c0002row2_col6,#T_b9722156_7e31_11ec_88fe_0242ac1c0002row12_col7,#T_b9722156_7e31_11ec_88fe_0242ac1c0002row13_col14,#T_b9722156_7e31_11ec_88fe_0242ac1c0002row19_col7,#T_b9722156_7e31_11ec_88fe_0242ac1c0002row22_col23,#T_b9722156_7e31_11ec_88fe_0242ac1c0002row23_col14{\n",
              "            background-color:  #8badfd;\n",
              "            color:  #000000;\n",
              "        }#T_b9722156_7e31_11ec_88fe_0242ac1c0002row2_col8,#T_b9722156_7e31_11ec_88fe_0242ac1c0002row24_col8{\n",
              "            background-color:  #d6dce4;\n",
              "            color:  #000000;\n",
              "        }#T_b9722156_7e31_11ec_88fe_0242ac1c0002row2_col9,#T_b9722156_7e31_11ec_88fe_0242ac1c0002row23_col13{\n",
              "            background-color:  #d8dce2;\n",
              "            color:  #000000;\n",
              "        }#T_b9722156_7e31_11ec_88fe_0242ac1c0002row2_col10,#T_b9722156_7e31_11ec_88fe_0242ac1c0002row6_col11,#T_b9722156_7e31_11ec_88fe_0242ac1c0002row17_col8,#T_b9722156_7e31_11ec_88fe_0242ac1c0002row22_col6{\n",
              "            background-color:  #7b9ff9;\n",
              "            color:  #000000;\n",
              "        }#T_b9722156_7e31_11ec_88fe_0242ac1c0002row2_col11,#T_b9722156_7e31_11ec_88fe_0242ac1c0002row5_col17,#T_b9722156_7e31_11ec_88fe_0242ac1c0002row5_col20,#T_b9722156_7e31_11ec_88fe_0242ac1c0002row6_col15,#T_b9722156_7e31_11ec_88fe_0242ac1c0002row7_col17,#T_b9722156_7e31_11ec_88fe_0242ac1c0002row7_col23,#T_b9722156_7e31_11ec_88fe_0242ac1c0002row21_col3,#T_b9722156_7e31_11ec_88fe_0242ac1c0002row23_col7,#T_b9722156_7e31_11ec_88fe_0242ac1c0002row24_col3{\n",
              "            background-color:  #84a7fc;\n",
              "            color:  #000000;\n",
              "        }#T_b9722156_7e31_11ec_88fe_0242ac1c0002row2_col12{\n",
              "            background-color:  #cdd9ec;\n",
              "            color:  #000000;\n",
              "        }#T_b9722156_7e31_11ec_88fe_0242ac1c0002row2_col13{\n",
              "            background-color:  #cbd8ee;\n",
              "            color:  #000000;\n",
              "        }#T_b9722156_7e31_11ec_88fe_0242ac1c0002row2_col14,#T_b9722156_7e31_11ec_88fe_0242ac1c0002row5_col23,#T_b9722156_7e31_11ec_88fe_0242ac1c0002row18_col1,#T_b9722156_7e31_11ec_88fe_0242ac1c0002row18_col14,#T_b9722156_7e31_11ec_88fe_0242ac1c0002row24_col14{\n",
              "            background-color:  #9dbdff;\n",
              "            color:  #000000;\n",
              "        }#T_b9722156_7e31_11ec_88fe_0242ac1c0002row2_col15,#T_b9722156_7e31_11ec_88fe_0242ac1c0002row13_col10,#T_b9722156_7e31_11ec_88fe_0242ac1c0002row17_col7,#T_b9722156_7e31_11ec_88fe_0242ac1c0002row21_col7,#T_b9722156_7e31_11ec_88fe_0242ac1c0002row22_col7{\n",
              "            background-color:  #86a9fc;\n",
              "            color:  #000000;\n",
              "        }#T_b9722156_7e31_11ec_88fe_0242ac1c0002row2_col16,#T_b9722156_7e31_11ec_88fe_0242ac1c0002row2_col19,#T_b9722156_7e31_11ec_88fe_0242ac1c0002row19_col16,#T_b9722156_7e31_11ec_88fe_0242ac1c0002row22_col16{\n",
              "            background-color:  #6180e9;\n",
              "            color:  #000000;\n",
              "        }#T_b9722156_7e31_11ec_88fe_0242ac1c0002row2_col17,#T_b9722156_7e31_11ec_88fe_0242ac1c0002row4_col22,#T_b9722156_7e31_11ec_88fe_0242ac1c0002row8_col16,#T_b9722156_7e31_11ec_88fe_0242ac1c0002row10_col16,#T_b9722156_7e31_11ec_88fe_0242ac1c0002row12_col16,#T_b9722156_7e31_11ec_88fe_0242ac1c0002row13_col1,#T_b9722156_7e31_11ec_88fe_0242ac1c0002row18_col20,#T_b9722156_7e31_11ec_88fe_0242ac1c0002row19_col21,#T_b9722156_7e31_11ec_88fe_0242ac1c0002row22_col2,#T_b9722156_7e31_11ec_88fe_0242ac1c0002row23_col1,#T_b9722156_7e31_11ec_88fe_0242ac1c0002row24_col22{\n",
              "            background-color:  #6a8bef;\n",
              "            color:  #000000;\n",
              "        }#T_b9722156_7e31_11ec_88fe_0242ac1c0002row2_col21,#T_b9722156_7e31_11ec_88fe_0242ac1c0002row8_col19,#T_b9722156_7e31_11ec_88fe_0242ac1c0002row16_col23,#T_b9722156_7e31_11ec_88fe_0242ac1c0002row17_col20,#T_b9722156_7e31_11ec_88fe_0242ac1c0002row21_col1,#T_b9722156_7e31_11ec_88fe_0242ac1c0002row21_col2,#T_b9722156_7e31_11ec_88fe_0242ac1c0002row22_col0{\n",
              "            background-color:  #7396f5;\n",
              "            color:  #000000;\n",
              "        }#T_b9722156_7e31_11ec_88fe_0242ac1c0002row2_col23,#T_b9722156_7e31_11ec_88fe_0242ac1c0002row9_col13,#T_b9722156_7e31_11ec_88fe_0242ac1c0002row15_col4,#T_b9722156_7e31_11ec_88fe_0242ac1c0002row24_col9{\n",
              "            background-color:  #f2cab5;\n",
              "            color:  #000000;\n",
              "        }#T_b9722156_7e31_11ec_88fe_0242ac1c0002row2_col24,#T_b9722156_7e31_11ec_88fe_0242ac1c0002row9_col0,#T_b9722156_7e31_11ec_88fe_0242ac1c0002row24_col5{\n",
              "            background-color:  #c6d6f1;\n",
              "            color:  #000000;\n",
              "        }#T_b9722156_7e31_11ec_88fe_0242ac1c0002row3_col0,#T_b9722156_7e31_11ec_88fe_0242ac1c0002row13_col9,#T_b9722156_7e31_11ec_88fe_0242ac1c0002row23_col2{\n",
              "            background-color:  #eed0c0;\n",
              "            color:  #000000;\n",
              "        }#T_b9722156_7e31_11ec_88fe_0242ac1c0002row3_col1{\n",
              "            background-color:  #f5c2aa;\n",
              "            color:  #000000;\n",
              "        }#T_b9722156_7e31_11ec_88fe_0242ac1c0002row3_col2,#T_b9722156_7e31_11ec_88fe_0242ac1c0002row8_col17{\n",
              "            background-color:  #516ddb;\n",
              "            color:  #000000;\n",
              "        }#T_b9722156_7e31_11ec_88fe_0242ac1c0002row3_col4{\n",
              "            background-color:  #e7d7ce;\n",
              "            color:  #000000;\n",
              "        }#T_b9722156_7e31_11ec_88fe_0242ac1c0002row3_col5,#T_b9722156_7e31_11ec_88fe_0242ac1c0002row5_col3,#T_b9722156_7e31_11ec_88fe_0242ac1c0002row7_col13{\n",
              "            background-color:  #bcd2f7;\n",
              "            color:  #000000;\n",
              "        }#T_b9722156_7e31_11ec_88fe_0242ac1c0002row3_col7,#T_b9722156_7e31_11ec_88fe_0242ac1c0002row3_col13,#T_b9722156_7e31_11ec_88fe_0242ac1c0002row9_col10,#T_b9722156_7e31_11ec_88fe_0242ac1c0002row12_col11,#T_b9722156_7e31_11ec_88fe_0242ac1c0002row12_col14,#T_b9722156_7e31_11ec_88fe_0242ac1c0002row20_col11,#T_b9722156_7e31_11ec_88fe_0242ac1c0002row22_col8{\n",
              "            background-color:  #92b4fe;\n",
              "            color:  #000000;\n",
              "        }#T_b9722156_7e31_11ec_88fe_0242ac1c0002row3_col9,#T_b9722156_7e31_11ec_88fe_0242ac1c0002row7_col11,#T_b9722156_7e31_11ec_88fe_0242ac1c0002row8_col21,#T_b9722156_7e31_11ec_88fe_0242ac1c0002row9_col17,#T_b9722156_7e31_11ec_88fe_0242ac1c0002row11_col16,#T_b9722156_7e31_11ec_88fe_0242ac1c0002row13_col16,#T_b9722156_7e31_11ec_88fe_0242ac1c0002row16_col22,#T_b9722156_7e31_11ec_88fe_0242ac1c0002row17_col21,#T_b9722156_7e31_11ec_88fe_0242ac1c0002row23_col15{\n",
              "            background-color:  #688aef;\n",
              "            color:  #000000;\n",
              "        }#T_b9722156_7e31_11ec_88fe_0242ac1c0002row3_col12,#T_b9722156_7e31_11ec_88fe_0242ac1c0002row4_col11,#T_b9722156_7e31_11ec_88fe_0242ac1c0002row19_col24,#T_b9722156_7e31_11ec_88fe_0242ac1c0002row21_col23{\n",
              "            background-color:  #94b6ff;\n",
              "            color:  #000000;\n",
              "        }#T_b9722156_7e31_11ec_88fe_0242ac1c0002row3_col14{\n",
              "            background-color:  #f3c7b1;\n",
              "            color:  #000000;\n",
              "        }#T_b9722156_7e31_11ec_88fe_0242ac1c0002row3_col15,#T_b9722156_7e31_11ec_88fe_0242ac1c0002row15_col3{\n",
              "            background-color:  #f4c6af;\n",
              "            color:  #000000;\n",
              "        }#T_b9722156_7e31_11ec_88fe_0242ac1c0002row3_col16,#T_b9722156_7e31_11ec_88fe_0242ac1c0002row3_col17,#T_b9722156_7e31_11ec_88fe_0242ac1c0002row12_col22,#T_b9722156_7e31_11ec_88fe_0242ac1c0002row16_col6,#T_b9722156_7e31_11ec_88fe_0242ac1c0002row17_col15,#T_b9722156_7e31_11ec_88fe_0242ac1c0002row18_col22{\n",
              "            background-color:  #6788ee;\n",
              "            color:  #000000;\n",
              "        }#T_b9722156_7e31_11ec_88fe_0242ac1c0002row3_col19{\n",
              "            background-color:  #5d7ce6;\n",
              "            color:  #000000;\n",
              "        }#T_b9722156_7e31_11ec_88fe_0242ac1c0002row3_col21,#T_b9722156_7e31_11ec_88fe_0242ac1c0002row8_col7,#T_b9722156_7e31_11ec_88fe_0242ac1c0002row15_col2,#T_b9722156_7e31_11ec_88fe_0242ac1c0002row16_col17{\n",
              "            background-color:  #4e68d8;\n",
              "            color:  #000000;\n",
              "        }#T_b9722156_7e31_11ec_88fe_0242ac1c0002row3_col22,#T_b9722156_7e31_11ec_88fe_0242ac1c0002row5_col21,#T_b9722156_7e31_11ec_88fe_0242ac1c0002row7_col10,#T_b9722156_7e31_11ec_88fe_0242ac1c0002row11_col23,#T_b9722156_7e31_11ec_88fe_0242ac1c0002row12_col20,#T_b9722156_7e31_11ec_88fe_0242ac1c0002row18_col21,#T_b9722156_7e31_11ec_88fe_0242ac1c0002row21_col16,#T_b9722156_7e31_11ec_88fe_0242ac1c0002row24_col4,#T_b9722156_7e31_11ec_88fe_0242ac1c0002row24_col21{\n",
              "            background-color:  #6282ea;\n",
              "            color:  #000000;\n",
              "        }#T_b9722156_7e31_11ec_88fe_0242ac1c0002row3_col23,#T_b9722156_7e31_11ec_88fe_0242ac1c0002row9_col4,#T_b9722156_7e31_11ec_88fe_0242ac1c0002row14_col21{\n",
              "            background-color:  #4c66d6;\n",
              "            color:  #000000;\n",
              "        }#T_b9722156_7e31_11ec_88fe_0242ac1c0002row3_col24,#T_b9722156_7e31_11ec_88fe_0242ac1c0002row4_col17,#T_b9722156_7e31_11ec_88fe_0242ac1c0002row5_col8,#T_b9722156_7e31_11ec_88fe_0242ac1c0002row14_col16,#T_b9722156_7e31_11ec_88fe_0242ac1c0002row15_col13,#T_b9722156_7e31_11ec_88fe_0242ac1c0002row17_col23,#T_b9722156_7e31_11ec_88fe_0242ac1c0002row22_col1,#T_b9722156_7e31_11ec_88fe_0242ac1c0002row22_col17{\n",
              "            background-color:  #799cf8;\n",
              "            color:  #000000;\n",
              "        }#T_b9722156_7e31_11ec_88fe_0242ac1c0002row4_col0,#T_b9722156_7e31_11ec_88fe_0242ac1c0002row6_col14,#T_b9722156_7e31_11ec_88fe_0242ac1c0002row13_col0,#T_b9722156_7e31_11ec_88fe_0242ac1c0002row17_col12,#T_b9722156_7e31_11ec_88fe_0242ac1c0002row19_col4,#T_b9722156_7e31_11ec_88fe_0242ac1c0002row24_col2{\n",
              "            background-color:  #a7c5fe;\n",
              "            color:  #000000;\n",
              "        }#T_b9722156_7e31_11ec_88fe_0242ac1c0002row4_col1,#T_b9722156_7e31_11ec_88fe_0242ac1c0002row12_col9{\n",
              "            background-color:  #ead4c8;\n",
              "            color:  #000000;\n",
              "        }#T_b9722156_7e31_11ec_88fe_0242ac1c0002row4_col3{\n",
              "            background-color:  #dcdddd;\n",
              "            color:  #000000;\n",
              "        }#T_b9722156_7e31_11ec_88fe_0242ac1c0002row4_col10,#T_b9722156_7e31_11ec_88fe_0242ac1c0002row6_col24,#T_b9722156_7e31_11ec_88fe_0242ac1c0002row11_col12,#T_b9722156_7e31_11ec_88fe_0242ac1c0002row14_col12,#T_b9722156_7e31_11ec_88fe_0242ac1c0002row14_col13,#T_b9722156_7e31_11ec_88fe_0242ac1c0002row17_col11{\n",
              "            background-color:  #a1c0ff;\n",
              "            color:  #000000;\n",
              "        }#T_b9722156_7e31_11ec_88fe_0242ac1c0002row4_col14{\n",
              "            background-color:  #cfdaea;\n",
              "            color:  #000000;\n",
              "        }#T_b9722156_7e31_11ec_88fe_0242ac1c0002row4_col15{\n",
              "            background-color:  #ecd3c5;\n",
              "            color:  #000000;\n",
              "        }#T_b9722156_7e31_11ec_88fe_0242ac1c0002row4_col16,#T_b9722156_7e31_11ec_88fe_0242ac1c0002row19_col2{\n",
              "            background-color:  #6c8ff1;\n",
              "            color:  #000000;\n",
              "        }#T_b9722156_7e31_11ec_88fe_0242ac1c0002row4_col20,#T_b9722156_7e31_11ec_88fe_0242ac1c0002row10_col21,#T_b9722156_7e31_11ec_88fe_0242ac1c0002row12_col21,#T_b9722156_7e31_11ec_88fe_0242ac1c0002row15_col24,#T_b9722156_7e31_11ec_88fe_0242ac1c0002row18_col2{\n",
              "            background-color:  #6485ec;\n",
              "            color:  #000000;\n",
              "        }#T_b9722156_7e31_11ec_88fe_0242ac1c0002row5_col0,#T_b9722156_7e31_11ec_88fe_0242ac1c0002row6_col0,#T_b9722156_7e31_11ec_88fe_0242ac1c0002row6_col12,#T_b9722156_7e31_11ec_88fe_0242ac1c0002row7_col0,#T_b9722156_7e31_11ec_88fe_0242ac1c0002row7_col4{\n",
              "            background-color:  #b7cff9;\n",
              "            color:  #000000;\n",
              "        }#T_b9722156_7e31_11ec_88fe_0242ac1c0002row5_col1,#T_b9722156_7e31_11ec_88fe_0242ac1c0002row10_col13,#T_b9722156_7e31_11ec_88fe_0242ac1c0002row18_col15,#T_b9722156_7e31_11ec_88fe_0242ac1c0002row19_col3,#T_b9722156_7e31_11ec_88fe_0242ac1c0002row19_col14,#T_b9722156_7e31_11ec_88fe_0242ac1c0002row21_col10{\n",
              "            background-color:  #9bbcff;\n",
              "            color:  #000000;\n",
              "        }#T_b9722156_7e31_11ec_88fe_0242ac1c0002row5_col2,#T_b9722156_7e31_11ec_88fe_0242ac1c0002row12_col6,#T_b9722156_7e31_11ec_88fe_0242ac1c0002row21_col14{\n",
              "            background-color:  #85a8fc;\n",
              "            color:  #000000;\n",
              "        }#T_b9722156_7e31_11ec_88fe_0242ac1c0002row5_col4,#T_b9722156_7e31_11ec_88fe_0242ac1c0002row18_col9,#T_b9722156_7e31_11ec_88fe_0242ac1c0002row20_col12,#T_b9722156_7e31_11ec_88fe_0242ac1c0002row21_col4{\n",
              "            background-color:  #a5c3fe;\n",
              "            color:  #000000;\n",
              "        }#T_b9722156_7e31_11ec_88fe_0242ac1c0002row5_col6,#T_b9722156_7e31_11ec_88fe_0242ac1c0002row7_col6{\n",
              "            background-color:  #f7bca1;\n",
              "            color:  #000000;\n",
              "        }#T_b9722156_7e31_11ec_88fe_0242ac1c0002row5_col7,#T_b9722156_7e31_11ec_88fe_0242ac1c0002row13_col12{\n",
              "            background-color:  #f6a586;\n",
              "            color:  #000000;\n",
              "        }#T_b9722156_7e31_11ec_88fe_0242ac1c0002row5_col9,#T_b9722156_7e31_11ec_88fe_0242ac1c0002row16_col8,#T_b9722156_7e31_11ec_88fe_0242ac1c0002row16_col11,#T_b9722156_7e31_11ec_88fe_0242ac1c0002row20_col8{\n",
              "            background-color:  #a2c1ff;\n",
              "            color:  #000000;\n",
              "        }#T_b9722156_7e31_11ec_88fe_0242ac1c0002row5_col10,#T_b9722156_7e31_11ec_88fe_0242ac1c0002row7_col18,#T_b9722156_7e31_11ec_88fe_0242ac1c0002row10_col14,#T_b9722156_7e31_11ec_88fe_0242ac1c0002row13_col19,#T_b9722156_7e31_11ec_88fe_0242ac1c0002row14_col8,#T_b9722156_7e31_11ec_88fe_0242ac1c0002row21_col18{\n",
              "            background-color:  #3e51c5;\n",
              "            color:  #f1f1f1;\n",
              "        }#T_b9722156_7e31_11ec_88fe_0242ac1c0002row5_col11,#T_b9722156_7e31_11ec_88fe_0242ac1c0002row15_col11{\n",
              "            background-color:  #485fd1;\n",
              "            color:  #f1f1f1;\n",
              "        }#T_b9722156_7e31_11ec_88fe_0242ac1c0002row5_col12,#T_b9722156_7e31_11ec_88fe_0242ac1c0002row5_col24,#T_b9722156_7e31_11ec_88fe_0242ac1c0002row10_col8{\n",
              "            background-color:  #bfd3f6;\n",
              "            color:  #000000;\n",
              "        }#T_b9722156_7e31_11ec_88fe_0242ac1c0002row5_col13{\n",
              "            background-color:  #c9d7f0;\n",
              "            color:  #000000;\n",
              "        }#T_b9722156_7e31_11ec_88fe_0242ac1c0002row5_col14,#T_b9722156_7e31_11ec_88fe_0242ac1c0002row18_col12,#T_b9722156_7e31_11ec_88fe_0242ac1c0002row20_col4{\n",
              "            background-color:  #abc8fd;\n",
              "            color:  #000000;\n",
              "        }#T_b9722156_7e31_11ec_88fe_0242ac1c0002row5_col15,#T_b9722156_7e31_11ec_88fe_0242ac1c0002row13_col11,#T_b9722156_7e31_11ec_88fe_0242ac1c0002row14_col24,#T_b9722156_7e31_11ec_88fe_0242ac1c0002row18_col24,#T_b9722156_7e31_11ec_88fe_0242ac1c0002row19_col12,#T_b9722156_7e31_11ec_88fe_0242ac1c0002row20_col23{\n",
              "            background-color:  #90b2fe;\n",
              "            color:  #000000;\n",
              "        }#T_b9722156_7e31_11ec_88fe_0242ac1c0002row5_col16,#T_b9722156_7e31_11ec_88fe_0242ac1c0002row11_col19{\n",
              "            background-color:  #536edd;\n",
              "            color:  #000000;\n",
              "        }#T_b9722156_7e31_11ec_88fe_0242ac1c0002row5_col19,#T_b9722156_7e31_11ec_88fe_0242ac1c0002row15_col12,#T_b9722156_7e31_11ec_88fe_0242ac1c0002row19_col23,#T_b9722156_7e31_11ec_88fe_0242ac1c0002row20_col17,#T_b9722156_7e31_11ec_88fe_0242ac1c0002row20_col19{\n",
              "            background-color:  #7ea1fa;\n",
              "            color:  #000000;\n",
              "        }#T_b9722156_7e31_11ec_88fe_0242ac1c0002row6_col4,#T_b9722156_7e31_11ec_88fe_0242ac1c0002row7_col1,#T_b9722156_7e31_11ec_88fe_0242ac1c0002row7_col9,#T_b9722156_7e31_11ec_88fe_0242ac1c0002row14_col9,#T_b9722156_7e31_11ec_88fe_0242ac1c0002row18_col8{\n",
              "            background-color:  #9fbfff;\n",
              "            color:  #000000;\n",
              "        }#T_b9722156_7e31_11ec_88fe_0242ac1c0002row6_col5{\n",
              "            background-color:  #f7ad90;\n",
              "            color:  #000000;\n",
              "        }#T_b9722156_7e31_11ec_88fe_0242ac1c0002row6_col7{\n",
              "            background-color:  #f7ba9f;\n",
              "            color:  #000000;\n",
              "        }#T_b9722156_7e31_11ec_88fe_0242ac1c0002row6_col8,#T_b9722156_7e31_11ec_88fe_0242ac1c0002row9_col20,#T_b9722156_7e31_11ec_88fe_0242ac1c0002row14_col2,#T_b9722156_7e31_11ec_88fe_0242ac1c0002row14_col23,#T_b9722156_7e31_11ec_88fe_0242ac1c0002row16_col21,#T_b9722156_7e31_11ec_88fe_0242ac1c0002row17_col0{\n",
              "            background-color:  #6687ed;\n",
              "            color:  #000000;\n",
              "        }#T_b9722156_7e31_11ec_88fe_0242ac1c0002row6_col9,#T_b9722156_7e31_11ec_88fe_0242ac1c0002row11_col13,#T_b9722156_7e31_11ec_88fe_0242ac1c0002row17_col5{\n",
              "            background-color:  #a6c4fe;\n",
              "            color:  #000000;\n",
              "        }#T_b9722156_7e31_11ec_88fe_0242ac1c0002row6_col13,#T_b9722156_7e31_11ec_88fe_0242ac1c0002row11_col8{\n",
              "            background-color:  #c4d5f3;\n",
              "            color:  #000000;\n",
              "        }#T_b9722156_7e31_11ec_88fe_0242ac1c0002row6_col16{\n",
              "            background-color:  #5572df;\n",
              "            color:  #000000;\n",
              "        }#T_b9722156_7e31_11ec_88fe_0242ac1c0002row6_col18,#T_b9722156_7e31_11ec_88fe_0242ac1c0002row8_col14,#T_b9722156_7e31_11ec_88fe_0242ac1c0002row14_col10,#T_b9722156_7e31_11ec_88fe_0242ac1c0002row14_col20,#T_b9722156_7e31_11ec_88fe_0242ac1c0002row16_col18,#T_b9722156_7e31_11ec_88fe_0242ac1c0002row22_col18{\n",
              "            background-color:  #3f53c6;\n",
              "            color:  #f1f1f1;\n",
              "        }#T_b9722156_7e31_11ec_88fe_0242ac1c0002row6_col20,#T_b9722156_7e31_11ec_88fe_0242ac1c0002row9_col16,#T_b9722156_7e31_11ec_88fe_0242ac1c0002row12_col15,#T_b9722156_7e31_11ec_88fe_0242ac1c0002row13_col20,#T_b9722156_7e31_11ec_88fe_0242ac1c0002row17_col1,#T_b9722156_7e31_11ec_88fe_0242ac1c0002row20_col2{\n",
              "            background-color:  #6b8df0;\n",
              "            color:  #000000;\n",
              "        }#T_b9722156_7e31_11ec_88fe_0242ac1c0002row6_col21,#T_b9722156_7e31_11ec_88fe_0242ac1c0002row13_col7,#T_b9722156_7e31_11ec_88fe_0242ac1c0002row16_col24{\n",
              "            background-color:  #89acfd;\n",
              "            color:  #000000;\n",
              "        }#T_b9722156_7e31_11ec_88fe_0242ac1c0002row7_col3,#T_b9722156_7e31_11ec_88fe_0242ac1c0002row16_col1,#T_b9722156_7e31_11ec_88fe_0242ac1c0002row19_col0,#T_b9722156_7e31_11ec_88fe_0242ac1c0002row21_col9,#T_b9722156_7e31_11ec_88fe_0242ac1c0002row21_col13,#T_b9722156_7e31_11ec_88fe_0242ac1c0002row23_col0{\n",
              "            background-color:  #aec9fc;\n",
              "            color:  #000000;\n",
              "        }#T_b9722156_7e31_11ec_88fe_0242ac1c0002row7_col5{\n",
              "            background-color:  #f4987a;\n",
              "            color:  #000000;\n",
              "        }#T_b9722156_7e31_11ec_88fe_0242ac1c0002row7_col8,#T_b9722156_7e31_11ec_88fe_0242ac1c0002row7_col20,#T_b9722156_7e31_11ec_88fe_0242ac1c0002row7_col21,#T_b9722156_7e31_11ec_88fe_0242ac1c0002row9_col21,#T_b9722156_7e31_11ec_88fe_0242ac1c0002row11_col21,#T_b9722156_7e31_11ec_88fe_0242ac1c0002row13_col17,#T_b9722156_7e31_11ec_88fe_0242ac1c0002row15_col7,#T_b9722156_7e31_11ec_88fe_0242ac1c0002row15_col16,#T_b9722156_7e31_11ec_88fe_0242ac1c0002row18_col7,#T_b9722156_7e31_11ec_88fe_0242ac1c0002row20_col6,#T_b9722156_7e31_11ec_88fe_0242ac1c0002row20_col14,#T_b9722156_7e31_11ec_88fe_0242ac1c0002row23_col17,#T_b9722156_7e31_11ec_88fe_0242ac1c0002row24_col17{\n",
              "            background-color:  #7597f6;\n",
              "            color:  #000000;\n",
              "        }#T_b9722156_7e31_11ec_88fe_0242ac1c0002row7_col14,#T_b9722156_7e31_11ec_88fe_0242ac1c0002row16_col13,#T_b9722156_7e31_11ec_88fe_0242ac1c0002row19_col9,#T_b9722156_7e31_11ec_88fe_0242ac1c0002row22_col5{\n",
              "            background-color:  #b5cdfa;\n",
              "            color:  #000000;\n",
              "        }#T_b9722156_7e31_11ec_88fe_0242ac1c0002row7_col16,#T_b9722156_7e31_11ec_88fe_0242ac1c0002row11_col22,#T_b9722156_7e31_11ec_88fe_0242ac1c0002row15_col6,#T_b9722156_7e31_11ec_88fe_0242ac1c0002row17_col2,#T_b9722156_7e31_11ec_88fe_0242ac1c0002row20_col16{\n",
              "            background-color:  #5a78e4;\n",
              "            color:  #000000;\n",
              "        }#T_b9722156_7e31_11ec_88fe_0242ac1c0002row8_col4,#T_b9722156_7e31_11ec_88fe_0242ac1c0002row8_col22,#T_b9722156_7e31_11ec_88fe_0242ac1c0002row11_col20,#T_b9722156_7e31_11ec_88fe_0242ac1c0002row13_col15,#T_b9722156_7e31_11ec_88fe_0242ac1c0002row21_col19{\n",
              "            background-color:  #5e7de7;\n",
              "            color:  #000000;\n",
              "        }#T_b9722156_7e31_11ec_88fe_0242ac1c0002row8_col9{\n",
              "            background-color:  #f7a889;\n",
              "            color:  #000000;\n",
              "        }#T_b9722156_7e31_11ec_88fe_0242ac1c0002row8_col10{\n",
              "            background-color:  #c0d4f5;\n",
              "            color:  #000000;\n",
              "        }#T_b9722156_7e31_11ec_88fe_0242ac1c0002row8_col12{\n",
              "            background-color:  #e6d7cf;\n",
              "            color:  #000000;\n",
              "        }#T_b9722156_7e31_11ec_88fe_0242ac1c0002row8_col13,#T_b9722156_7e31_11ec_88fe_0242ac1c0002row24_col12{\n",
              "            background-color:  #dddcdc;\n",
              "            color:  #000000;\n",
              "        }#T_b9722156_7e31_11ec_88fe_0242ac1c0002row8_col18,#T_b9722156_7e31_11ec_88fe_0242ac1c0002row9_col22{\n",
              "            background-color:  #465ecf;\n",
              "            color:  #f1f1f1;\n",
              "        }#T_b9722156_7e31_11ec_88fe_0242ac1c0002row8_col23,#T_b9722156_7e31_11ec_88fe_0242ac1c0002row23_col12{\n",
              "            background-color:  #dadce0;\n",
              "            color:  #000000;\n",
              "        }#T_b9722156_7e31_11ec_88fe_0242ac1c0002row8_col24{\n",
              "            background-color:  #cedaeb;\n",
              "            color:  #000000;\n",
              "        }#T_b9722156_7e31_11ec_88fe_0242ac1c0002row9_col2,#T_b9722156_7e31_11ec_88fe_0242ac1c0002row12_col5,#T_b9722156_7e31_11ec_88fe_0242ac1c0002row16_col14,#T_b9722156_7e31_11ec_88fe_0242ac1c0002row17_col13,#T_b9722156_7e31_11ec_88fe_0242ac1c0002row18_col13,#T_b9722156_7e31_11ec_88fe_0242ac1c0002row20_col5,#T_b9722156_7e31_11ec_88fe_0242ac1c0002row22_col4{\n",
              "            background-color:  #afcafc;\n",
              "            color:  #000000;\n",
              "        }#T_b9722156_7e31_11ec_88fe_0242ac1c0002row9_col6,#T_b9722156_7e31_11ec_88fe_0242ac1c0002row11_col17,#T_b9722156_7e31_11ec_88fe_0242ac1c0002row18_col23,#T_b9722156_7e31_11ec_88fe_0242ac1c0002row22_col10,#T_b9722156_7e31_11ec_88fe_0242ac1c0002row23_col4{\n",
              "            background-color:  #7a9df8;\n",
              "            color:  #000000;\n",
              "        }#T_b9722156_7e31_11ec_88fe_0242ac1c0002row9_col8{\n",
              "            background-color:  #f7aa8c;\n",
              "            color:  #000000;\n",
              "        }#T_b9722156_7e31_11ec_88fe_0242ac1c0002row9_col11,#T_b9722156_7e31_11ec_88fe_0242ac1c0002row16_col3,#T_b9722156_7e31_11ec_88fe_0242ac1c0002row18_col0,#T_b9722156_7e31_11ec_88fe_0242ac1c0002row20_col9,#T_b9722156_7e31_11ec_88fe_0242ac1c0002row21_col8{\n",
              "            background-color:  #9ebeff;\n",
              "            color:  #000000;\n",
              "        }#T_b9722156_7e31_11ec_88fe_0242ac1c0002row9_col12,#T_b9722156_7e31_11ec_88fe_0242ac1c0002row9_col24{\n",
              "            background-color:  #edd1c2;\n",
              "            color:  #000000;\n",
              "        }#T_b9722156_7e31_11ec_88fe_0242ac1c0002row9_col14,#T_b9722156_7e31_11ec_88fe_0242ac1c0002row19_col1,#T_b9722156_7e31_11ec_88fe_0242ac1c0002row19_col6,#T_b9722156_7e31_11ec_88fe_0242ac1c0002row19_col13{\n",
              "            background-color:  #9abbff;\n",
              "            color:  #000000;\n",
              "        }#T_b9722156_7e31_11ec_88fe_0242ac1c0002row9_col18,#T_b9722156_7e31_11ec_88fe_0242ac1c0002row11_col15,#T_b9722156_7e31_11ec_88fe_0242ac1c0002row15_col9{\n",
              "            background-color:  #455cce;\n",
              "            color:  #f1f1f1;\n",
              "        }#T_b9722156_7e31_11ec_88fe_0242ac1c0002row9_col19,#T_b9722156_7e31_11ec_88fe_0242ac1c0002row16_col7,#T_b9722156_7e31_11ec_88fe_0242ac1c0002row19_col17,#T_b9722156_7e31_11ec_88fe_0242ac1c0002row20_col1,#T_b9722156_7e31_11ec_88fe_0242ac1c0002row21_col15,#T_b9722156_7e31_11ec_88fe_0242ac1c0002row24_col11,#T_b9722156_7e31_11ec_88fe_0242ac1c0002row24_col15{\n",
              "            background-color:  #7295f4;\n",
              "            color:  #000000;\n",
              "        }#T_b9722156_7e31_11ec_88fe_0242ac1c0002row9_col23{\n",
              "            background-color:  #d4dbe6;\n",
              "            color:  #000000;\n",
              "        }#T_b9722156_7e31_11ec_88fe_0242ac1c0002row10_col3,#T_b9722156_7e31_11ec_88fe_0242ac1c0002row11_col3{\n",
              "            background-color:  #5470de;\n",
              "            color:  #000000;\n",
              "        }#T_b9722156_7e31_11ec_88fe_0242ac1c0002row10_col11,#T_b9722156_7e31_11ec_88fe_0242ac1c0002row11_col10,#T_b9722156_7e31_11ec_88fe_0242ac1c0002row15_col1{\n",
              "            background-color:  #bd1f2d;\n",
              "            color:  #f1f1f1;\n",
              "        }#T_b9722156_7e31_11ec_88fe_0242ac1c0002row10_col20,#T_b9722156_7e31_11ec_88fe_0242ac1c0002row11_col2{\n",
              "            background-color:  #4a63d3;\n",
              "            color:  #f1f1f1;\n",
              "        }#T_b9722156_7e31_11ec_88fe_0242ac1c0002row11_col4,#T_b9722156_7e31_11ec_88fe_0242ac1c0002row14_col5,#T_b9722156_7e31_11ec_88fe_0242ac1c0002row21_col11,#T_b9722156_7e31_11ec_88fe_0242ac1c0002row22_col12{\n",
              "            background-color:  #a9c6fd;\n",
              "            color:  #000000;\n",
              "        }#T_b9722156_7e31_11ec_88fe_0242ac1c0002row11_col9,#T_b9722156_7e31_11ec_88fe_0242ac1c0002row16_col10,#T_b9722156_7e31_11ec_88fe_0242ac1c0002row17_col10{\n",
              "            background-color:  #a3c2fe;\n",
              "            color:  #000000;\n",
              "        }#T_b9722156_7e31_11ec_88fe_0242ac1c0002row11_col24,#T_b9722156_7e31_11ec_88fe_0242ac1c0002row13_col21,#T_b9722156_7e31_11ec_88fe_0242ac1c0002row16_col2,#T_b9722156_7e31_11ec_88fe_0242ac1c0002row16_col20{\n",
              "            background-color:  #6384eb;\n",
              "            color:  #000000;\n",
              "        }#T_b9722156_7e31_11ec_88fe_0242ac1c0002row12_col2,#T_b9722156_7e31_11ec_88fe_0242ac1c0002row14_col7,#T_b9722156_7e31_11ec_88fe_0242ac1c0002row18_col10,#T_b9722156_7e31_11ec_88fe_0242ac1c0002row18_col11,#T_b9722156_7e31_11ec_88fe_0242ac1c0002row19_col11,#T_b9722156_7e31_11ec_88fe_0242ac1c0002row21_col5{\n",
              "            background-color:  #96b7ff;\n",
              "            color:  #000000;\n",
              "        }#T_b9722156_7e31_11ec_88fe_0242ac1c0002row12_col8{\n",
              "            background-color:  #dedcdb;\n",
              "            color:  #000000;\n",
              "        }#T_b9722156_7e31_11ec_88fe_0242ac1c0002row12_col13{\n",
              "            background-color:  #f6a283;\n",
              "            color:  #000000;\n",
              "        }#T_b9722156_7e31_11ec_88fe_0242ac1c0002row12_col24{\n",
              "            background-color:  #ccd9ed;\n",
              "            color:  #000000;\n",
              "        }#T_b9722156_7e31_11ec_88fe_0242ac1c0002row13_col5,#T_b9722156_7e31_11ec_88fe_0242ac1c0002row19_col5,#T_b9722156_7e31_11ec_88fe_0242ac1c0002row24_col0{\n",
              "            background-color:  #b6cefa;\n",
              "            color:  #000000;\n",
              "        }#T_b9722156_7e31_11ec_88fe_0242ac1c0002row13_col6,#T_b9722156_7e31_11ec_88fe_0242ac1c0002row15_col5,#T_b9722156_7e31_11ec_88fe_0242ac1c0002row17_col24,#T_b9722156_7e31_11ec_88fe_0242ac1c0002row22_col11,#T_b9722156_7e31_11ec_88fe_0242ac1c0002row22_col24{\n",
              "            background-color:  #8fb1fe;\n",
              "            color:  #000000;\n",
              "        }#T_b9722156_7e31_11ec_88fe_0242ac1c0002row13_col8{\n",
              "            background-color:  #d2dbe8;\n",
              "            color:  #000000;\n",
              "        }#T_b9722156_7e31_11ec_88fe_0242ac1c0002row13_col23,#T_b9722156_7e31_11ec_88fe_0242ac1c0002row16_col12,#T_b9722156_7e31_11ec_88fe_0242ac1c0002row18_col4,#T_b9722156_7e31_11ec_88fe_0242ac1c0002row19_col8,#T_b9722156_7e31_11ec_88fe_0242ac1c0002row20_col13{\n",
              "            background-color:  #b1cbfc;\n",
              "            color:  #000000;\n",
              "        }#T_b9722156_7e31_11ec_88fe_0242ac1c0002row13_col24{\n",
              "            background-color:  #d9dce1;\n",
              "            color:  #000000;\n",
              "        }#T_b9722156_7e31_11ec_88fe_0242ac1c0002row14_col3,#T_b9722156_7e31_11ec_88fe_0242ac1c0002row20_col22,#T_b9722156_7e31_11ec_88fe_0242ac1c0002row22_col20{\n",
              "            background-color:  #f3c8b2;\n",
              "            color:  #000000;\n",
              "        }#T_b9722156_7e31_11ec_88fe_0242ac1c0002row14_col4{\n",
              "            background-color:  #dbdcde;\n",
              "            color:  #000000;\n",
              "        }#T_b9722156_7e31_11ec_88fe_0242ac1c0002row14_col15,#T_b9722156_7e31_11ec_88fe_0242ac1c0002row15_col14{\n",
              "            background-color:  #dd5f4b;\n",
              "            color:  #000000;\n",
              "        }#T_b9722156_7e31_11ec_88fe_0242ac1c0002row14_col19,#T_b9722156_7e31_11ec_88fe_0242ac1c0002row15_col10,#T_b9722156_7e31_11ec_88fe_0242ac1c0002row16_col19,#T_b9722156_7e31_11ec_88fe_0242ac1c0002row18_col19{\n",
              "            background-color:  #5977e3;\n",
              "            color:  #000000;\n",
              "        }#T_b9722156_7e31_11ec_88fe_0242ac1c0002row16_col0,#T_b9722156_7e31_11ec_88fe_0242ac1c0002row21_col20{\n",
              "            background-color:  #adc9fd;\n",
              "            color:  #000000;\n",
              "        }#T_b9722156_7e31_11ec_88fe_0242ac1c0002row23_col8,#T_b9722156_7e31_11ec_88fe_0242ac1c0002row24_col13{\n",
              "            background-color:  #ead5c9;\n",
              "            color:  #000000;\n",
              "        }#T_b9722156_7e31_11ec_88fe_0242ac1c0002row23_col9{\n",
              "            background-color:  #e8d6cc;\n",
              "            color:  #000000;\n",
              "        }#T_b9722156_7e31_11ec_88fe_0242ac1c0002row23_col16,#T_b9722156_7e31_11ec_88fe_0242ac1c0002row24_col16{\n",
              "            background-color:  #5b7ae5;\n",
              "            color:  #000000;\n",
              "        }#T_b9722156_7e31_11ec_88fe_0242ac1c0002row23_col24{\n",
              "            background-color:  #d7dce3;\n",
              "            color:  #000000;\n",
              "        }</style><table id=\"T_b9722156_7e31_11ec_88fe_0242ac1c0002\" class=\"dataframe\"><thead>    <tr>        <th class=\"blank level0\" ></th>        <th class=\"col_heading level0 col0\" >MinTemp</th>        <th class=\"col_heading level0 col1\" >MaxTemp</th>        <th class=\"col_heading level0 col2\" >Rainfall</th>        <th class=\"col_heading level0 col3\" >Evaporation</th>        <th class=\"col_heading level0 col4\" >Sunshine</th>        <th class=\"col_heading level0 col5\" >WindGustSpeed</th>        <th class=\"col_heading level0 col6\" >WindSpeed9am</th>        <th class=\"col_heading level0 col7\" >WindSpeed3pm</th>        <th class=\"col_heading level0 col8\" >Humidity9am</th>        <th class=\"col_heading level0 col9\" >Humidity3pm</th>        <th class=\"col_heading level0 col10\" >Pressure9am</th>        <th class=\"col_heading level0 col11\" >Pressure3pm</th>        <th class=\"col_heading level0 col12\" >Cloud9am</th>        <th class=\"col_heading level0 col13\" >Cloud3pm</th>        <th class=\"col_heading level0 col14\" >Temp9am</th>        <th class=\"col_heading level0 col15\" >Temp3pm</th>        <th class=\"col_heading level0 col16\" >year</th>        <th class=\"col_heading level0 col17\" >month</th>        <th class=\"col_heading level0 col18\" >day</th>        <th class=\"col_heading level0 col19\" >Location</th>        <th class=\"col_heading level0 col20\" >WindGustDir</th>        <th class=\"col_heading level0 col21\" >WindDir9am</th>        <th class=\"col_heading level0 col22\" >WindDir3pm</th>        <th class=\"col_heading level0 col23\" >RainToday</th>        <th class=\"col_heading level0 col24\" >RainTomorrow</th>    </tr></thead><tbody>\n",
              "                <tr>\n",
              "                        <th id=\"T_b9722156_7e31_11ec_88fe_0242ac1c0002level0_row0\" class=\"row_heading level0 row0\" >MinTemp</th>\n",
              "                        <td id=\"T_b9722156_7e31_11ec_88fe_0242ac1c0002row0_col0\" class=\"data row0 col0\" >1.00</td>\n",
              "                        <td id=\"T_b9722156_7e31_11ec_88fe_0242ac1c0002row0_col1\" class=\"data row0 col1\" >0.72</td>\n",
              "                        <td id=\"T_b9722156_7e31_11ec_88fe_0242ac1c0002row0_col2\" class=\"data row0 col2\" >0.09</td>\n",
              "                        <td id=\"T_b9722156_7e31_11ec_88fe_0242ac1c0002row0_col3\" class=\"data row0 col3\" >0.40</td>\n",
              "                        <td id=\"T_b9722156_7e31_11ec_88fe_0242ac1c0002row0_col4\" class=\"data row0 col4\" >0.05</td>\n",
              "                        <td id=\"T_b9722156_7e31_11ec_88fe_0242ac1c0002row0_col5\" class=\"data row0 col5\" >0.11</td>\n",
              "                        <td id=\"T_b9722156_7e31_11ec_88fe_0242ac1c0002row0_col6\" class=\"data row0 col6\" >0.11</td>\n",
              "                        <td id=\"T_b9722156_7e31_11ec_88fe_0242ac1c0002row0_col7\" class=\"data row0 col7\" >0.11</td>\n",
              "                        <td id=\"T_b9722156_7e31_11ec_88fe_0242ac1c0002row0_col8\" class=\"data row0 col8\" >-0.17</td>\n",
              "                        <td id=\"T_b9722156_7e31_11ec_88fe_0242ac1c0002row0_col9\" class=\"data row0 col9\" >0.18</td>\n",
              "                        <td id=\"T_b9722156_7e31_11ec_88fe_0242ac1c0002row0_col10\" class=\"data row0 col10\" >-0.41</td>\n",
              "                        <td id=\"T_b9722156_7e31_11ec_88fe_0242ac1c0002row0_col11\" class=\"data row0 col11\" >-0.40</td>\n",
              "                        <td id=\"T_b9722156_7e31_11ec_88fe_0242ac1c0002row0_col12\" class=\"data row0 col12\" >0.12</td>\n",
              "                        <td id=\"T_b9722156_7e31_11ec_88fe_0242ac1c0002row0_col13\" class=\"data row0 col13\" >0.05</td>\n",
              "                        <td id=\"T_b9722156_7e31_11ec_88fe_0242ac1c0002row0_col14\" class=\"data row0 col14\" >0.90</td>\n",
              "                        <td id=\"T_b9722156_7e31_11ec_88fe_0242ac1c0002row0_col15\" class=\"data row0 col15\" >0.68</td>\n",
              "                        <td id=\"T_b9722156_7e31_11ec_88fe_0242ac1c0002row0_col16\" class=\"data row0 col16\" >0.07</td>\n",
              "                        <td id=\"T_b9722156_7e31_11ec_88fe_0242ac1c0002row0_col17\" class=\"data row0 col17\" >-0.22</td>\n",
              "                        <td id=\"T_b9722156_7e31_11ec_88fe_0242ac1c0002row0_col18\" class=\"data row0 col18\" >0.01</td>\n",
              "                        <td id=\"T_b9722156_7e31_11ec_88fe_0242ac1c0002row0_col19\" class=\"data row0 col19\" >0.08</td>\n",
              "                        <td id=\"T_b9722156_7e31_11ec_88fe_0242ac1c0002row0_col20\" class=\"data row0 col20\" >-0.11</td>\n",
              "                        <td id=\"T_b9722156_7e31_11ec_88fe_0242ac1c0002row0_col21\" class=\"data row0 col21\" >-0.02</td>\n",
              "                        <td id=\"T_b9722156_7e31_11ec_88fe_0242ac1c0002row0_col22\" class=\"data row0 col22\" >-0.16</td>\n",
              "                        <td id=\"T_b9722156_7e31_11ec_88fe_0242ac1c0002row0_col23\" class=\"data row0 col23\" >0.08</td>\n",
              "                        <td id=\"T_b9722156_7e31_11ec_88fe_0242ac1c0002row0_col24\" class=\"data row0 col24\" >0.11</td>\n",
              "            </tr>\n",
              "            <tr>\n",
              "                        <th id=\"T_b9722156_7e31_11ec_88fe_0242ac1c0002level0_row1\" class=\"row_heading level0 row1\" >MaxTemp</th>\n",
              "                        <td id=\"T_b9722156_7e31_11ec_88fe_0242ac1c0002row1_col0\" class=\"data row1 col0\" >0.72</td>\n",
              "                        <td id=\"T_b9722156_7e31_11ec_88fe_0242ac1c0002row1_col1\" class=\"data row1 col1\" >1.00</td>\n",
              "                        <td id=\"T_b9722156_7e31_11ec_88fe_0242ac1c0002row1_col2\" class=\"data row1 col2\" >-0.07</td>\n",
              "                        <td id=\"T_b9722156_7e31_11ec_88fe_0242ac1c0002row1_col3\" class=\"data row1 col3\" >0.48</td>\n",
              "                        <td id=\"T_b9722156_7e31_11ec_88fe_0242ac1c0002row1_col4\" class=\"data row1 col4\" >0.37</td>\n",
              "                        <td id=\"T_b9722156_7e31_11ec_88fe_0242ac1c0002row1_col5\" class=\"data row1 col5\" >0.00</td>\n",
              "                        <td id=\"T_b9722156_7e31_11ec_88fe_0242ac1c0002row1_col6\" class=\"data row1 col6\" >-0.07</td>\n",
              "                        <td id=\"T_b9722156_7e31_11ec_88fe_0242ac1c0002row1_col7\" class=\"data row1 col7\" >0.02</td>\n",
              "                        <td id=\"T_b9722156_7e31_11ec_88fe_0242ac1c0002row1_col8\" class=\"data row1 col8\" >-0.41</td>\n",
              "                        <td id=\"T_b9722156_7e31_11ec_88fe_0242ac1c0002row1_col9\" class=\"data row1 col9\" >-0.31</td>\n",
              "                        <td id=\"T_b9722156_7e31_11ec_88fe_0242ac1c0002row1_col10\" class=\"data row1 col10\" >-0.31</td>\n",
              "                        <td id=\"T_b9722156_7e31_11ec_88fe_0242ac1c0002row1_col11\" class=\"data row1 col11\" >-0.38</td>\n",
              "                        <td id=\"T_b9722156_7e31_11ec_88fe_0242ac1c0002row1_col12\" class=\"data row1 col12\" >-0.18</td>\n",
              "                        <td id=\"T_b9722156_7e31_11ec_88fe_0242ac1c0002row1_col13\" class=\"data row1 col13\" >-0.20</td>\n",
              "                        <td id=\"T_b9722156_7e31_11ec_88fe_0242ac1c0002row1_col14\" class=\"data row1 col14\" >0.87</td>\n",
              "                        <td id=\"T_b9722156_7e31_11ec_88fe_0242ac1c0002row1_col15\" class=\"data row1 col15\" >0.96</td>\n",
              "                        <td id=\"T_b9722156_7e31_11ec_88fe_0242ac1c0002row1_col16\" class=\"data row1 col16\" >0.08</td>\n",
              "                        <td id=\"T_b9722156_7e31_11ec_88fe_0242ac1c0002row1_col17\" class=\"data row1 col17\" >-0.19</td>\n",
              "                        <td id=\"T_b9722156_7e31_11ec_88fe_0242ac1c0002row1_col18\" class=\"data row1 col18\" >0.01</td>\n",
              "                        <td id=\"T_b9722156_7e31_11ec_88fe_0242ac1c0002row1_col19\" class=\"data row1 col19\" >-0.01</td>\n",
              "                        <td id=\"T_b9722156_7e31_11ec_88fe_0242ac1c0002row1_col20\" class=\"data row1 col20\" >-0.16</td>\n",
              "                        <td id=\"T_b9722156_7e31_11ec_88fe_0242ac1c0002row1_col21\" class=\"data row1 col21\" >-0.16</td>\n",
              "                        <td id=\"T_b9722156_7e31_11ec_88fe_0242ac1c0002row1_col22\" class=\"data row1 col22\" >-0.14</td>\n",
              "                        <td id=\"T_b9722156_7e31_11ec_88fe_0242ac1c0002row1_col23\" class=\"data row1 col23\" >-0.20</td>\n",
              "                        <td id=\"T_b9722156_7e31_11ec_88fe_0242ac1c0002row1_col24\" class=\"data row1 col24\" >-0.12</td>\n",
              "            </tr>\n",
              "            <tr>\n",
              "                        <th id=\"T_b9722156_7e31_11ec_88fe_0242ac1c0002level0_row2\" class=\"row_heading level0 row2\" >Rainfall</th>\n",
              "                        <td id=\"T_b9722156_7e31_11ec_88fe_0242ac1c0002row2_col0\" class=\"data row2 col0\" >0.09</td>\n",
              "                        <td id=\"T_b9722156_7e31_11ec_88fe_0242ac1c0002row2_col1\" class=\"data row2 col1\" >-0.07</td>\n",
              "                        <td id=\"T_b9722156_7e31_11ec_88fe_0242ac1c0002row2_col2\" class=\"data row2 col2\" >1.00</td>\n",
              "                        <td id=\"T_b9722156_7e31_11ec_88fe_0242ac1c0002row2_col3\" class=\"data row2 col3\" >-0.07</td>\n",
              "                        <td id=\"T_b9722156_7e31_11ec_88fe_0242ac1c0002row2_col4\" class=\"data row2 col4\" >-0.15</td>\n",
              "                        <td id=\"T_b9722156_7e31_11ec_88fe_0242ac1c0002row2_col5\" class=\"data row2 col5\" >0.11</td>\n",
              "                        <td id=\"T_b9722156_7e31_11ec_88fe_0242ac1c0002row2_col6\" class=\"data row2 col6\" >0.08</td>\n",
              "                        <td id=\"T_b9722156_7e31_11ec_88fe_0242ac1c0002row2_col7\" class=\"data row2 col7\" >0.03</td>\n",
              "                        <td id=\"T_b9722156_7e31_11ec_88fe_0242ac1c0002row2_col8\" class=\"data row2 col8\" >0.26</td>\n",
              "                        <td id=\"T_b9722156_7e31_11ec_88fe_0242ac1c0002row2_col9\" class=\"data row2 col9\" >0.25</td>\n",
              "                        <td id=\"T_b9722156_7e31_11ec_88fe_0242ac1c0002row2_col10\" class=\"data row2 col10\" >-0.13</td>\n",
              "                        <td id=\"T_b9722156_7e31_11ec_88fe_0242ac1c0002row2_col11\" class=\"data row2 col11\" >-0.09</td>\n",
              "                        <td id=\"T_b9722156_7e31_11ec_88fe_0242ac1c0002row2_col12\" class=\"data row2 col12\" >0.16</td>\n",
              "                        <td id=\"T_b9722156_7e31_11ec_88fe_0242ac1c0002row2_col13\" class=\"data row2 col13\" >0.13</td>\n",
              "                        <td id=\"T_b9722156_7e31_11ec_88fe_0242ac1c0002row2_col14\" class=\"data row2 col14\" >0.01</td>\n",
              "                        <td id=\"T_b9722156_7e31_11ec_88fe_0242ac1c0002row2_col15\" class=\"data row2 col15\" >-0.08</td>\n",
              "                        <td id=\"T_b9722156_7e31_11ec_88fe_0242ac1c0002row2_col16\" class=\"data row2 col16\" >-0.00</td>\n",
              "                        <td id=\"T_b9722156_7e31_11ec_88fe_0242ac1c0002row2_col17\" class=\"data row2 col17\" >-0.04</td>\n",
              "                        <td id=\"T_b9722156_7e31_11ec_88fe_0242ac1c0002row2_col18\" class=\"data row2 col18\" >0.00</td>\n",
              "                        <td id=\"T_b9722156_7e31_11ec_88fe_0242ac1c0002row2_col19\" class=\"data row2 col19\" >0.03</td>\n",
              "                        <td id=\"T_b9722156_7e31_11ec_88fe_0242ac1c0002row2_col20\" class=\"data row2 col20\" >0.02</td>\n",
              "                        <td id=\"T_b9722156_7e31_11ec_88fe_0242ac1c0002row2_col21\" class=\"data row2 col21\" >0.05</td>\n",
              "                        <td id=\"T_b9722156_7e31_11ec_88fe_0242ac1c0002row2_col22\" class=\"data row2 col22\" >0.02</td>\n",
              "                        <td id=\"T_b9722156_7e31_11ec_88fe_0242ac1c0002row2_col23\" class=\"data row2 col23\" >0.51</td>\n",
              "                        <td id=\"T_b9722156_7e31_11ec_88fe_0242ac1c0002row2_col24\" class=\"data row2 col24\" >0.22</td>\n",
              "            </tr>\n",
              "            <tr>\n",
              "                        <th id=\"T_b9722156_7e31_11ec_88fe_0242ac1c0002level0_row3\" class=\"row_heading level0 row3\" >Evaporation</th>\n",
              "                        <td id=\"T_b9722156_7e31_11ec_88fe_0242ac1c0002row3_col0\" class=\"data row3 col0\" >0.40</td>\n",
              "                        <td id=\"T_b9722156_7e31_11ec_88fe_0242ac1c0002row3_col1\" class=\"data row3 col1\" >0.48</td>\n",
              "                        <td id=\"T_b9722156_7e31_11ec_88fe_0242ac1c0002row3_col2\" class=\"data row3 col2\" >-0.07</td>\n",
              "                        <td id=\"T_b9722156_7e31_11ec_88fe_0242ac1c0002row3_col3\" class=\"data row3 col3\" >1.00</td>\n",
              "                        <td id=\"T_b9722156_7e31_11ec_88fe_0242ac1c0002row3_col4\" class=\"data row3 col4\" >0.30</td>\n",
              "                        <td id=\"T_b9722156_7e31_11ec_88fe_0242ac1c0002row3_col5\" class=\"data row3 col5\" >0.15</td>\n",
              "                        <td id=\"T_b9722156_7e31_11ec_88fe_0242ac1c0002row3_col6\" class=\"data row3 col6\" >0.07</td>\n",
              "                        <td id=\"T_b9722156_7e31_11ec_88fe_0242ac1c0002row3_col7\" class=\"data row3 col7\" >0.09</td>\n",
              "                        <td id=\"T_b9722156_7e31_11ec_88fe_0242ac1c0002row3_col8\" class=\"data row3 col8\" >-0.40</td>\n",
              "                        <td id=\"T_b9722156_7e31_11ec_88fe_0242ac1c0002row3_col9\" class=\"data row3 col9\" >-0.23</td>\n",
              "                        <td id=\"T_b9722156_7e31_11ec_88fe_0242ac1c0002row3_col10\" class=\"data row3 col10\" >-0.28</td>\n",
              "                        <td id=\"T_b9722156_7e31_11ec_88fe_0242ac1c0002row3_col11\" class=\"data row3 col11\" >-0.28</td>\n",
              "                        <td id=\"T_b9722156_7e31_11ec_88fe_0242ac1c0002row3_col12\" class=\"data row3 col12\" >-0.09</td>\n",
              "                        <td id=\"T_b9722156_7e31_11ec_88fe_0242ac1c0002row3_col13\" class=\"data row3 col13\" >-0.13</td>\n",
              "                        <td id=\"T_b9722156_7e31_11ec_88fe_0242ac1c0002row3_col14\" class=\"data row3 col14\" >0.46</td>\n",
              "                        <td id=\"T_b9722156_7e31_11ec_88fe_0242ac1c0002row3_col15\" class=\"data row3 col15\" >0.47</td>\n",
              "                        <td id=\"T_b9722156_7e31_11ec_88fe_0242ac1c0002row3_col16\" class=\"data row3 col16\" >0.02</td>\n",
              "                        <td id=\"T_b9722156_7e31_11ec_88fe_0242ac1c0002row3_col17\" class=\"data row3 col17\" >-0.04</td>\n",
              "                        <td id=\"T_b9722156_7e31_11ec_88fe_0242ac1c0002row3_col18\" class=\"data row3 col18\" >0.00</td>\n",
              "                        <td id=\"T_b9722156_7e31_11ec_88fe_0242ac1c0002row3_col19\" class=\"data row3 col19\" >0.01</td>\n",
              "                        <td id=\"T_b9722156_7e31_11ec_88fe_0242ac1c0002row3_col20\" class=\"data row3 col20\" >-0.06</td>\n",
              "                        <td id=\"T_b9722156_7e31_11ec_88fe_0242ac1c0002row3_col21\" class=\"data row3 col21\" >-0.08</td>\n",
              "                        <td id=\"T_b9722156_7e31_11ec_88fe_0242ac1c0002row3_col22\" class=\"data row3 col22\" >-0.02</td>\n",
              "                        <td id=\"T_b9722156_7e31_11ec_88fe_0242ac1c0002row3_col23\" class=\"data row3 col23\" >-0.16</td>\n",
              "                        <td id=\"T_b9722156_7e31_11ec_88fe_0242ac1c0002row3_col24\" class=\"data row3 col24\" >-0.08</td>\n",
              "            </tr>\n",
              "            <tr>\n",
              "                        <th id=\"T_b9722156_7e31_11ec_88fe_0242ac1c0002level0_row4\" class=\"row_heading level0 row4\" >Sunshine</th>\n",
              "                        <td id=\"T_b9722156_7e31_11ec_88fe_0242ac1c0002row4_col0\" class=\"data row4 col0\" >0.05</td>\n",
              "                        <td id=\"T_b9722156_7e31_11ec_88fe_0242ac1c0002row4_col1\" class=\"data row4 col1\" >0.37</td>\n",
              "                        <td id=\"T_b9722156_7e31_11ec_88fe_0242ac1c0002row4_col2\" class=\"data row4 col2\" >-0.15</td>\n",
              "                        <td id=\"T_b9722156_7e31_11ec_88fe_0242ac1c0002row4_col3\" class=\"data row4 col3\" >0.30</td>\n",
              "                        <td id=\"T_b9722156_7e31_11ec_88fe_0242ac1c0002row4_col4\" class=\"data row4 col4\" >1.00</td>\n",
              "                        <td id=\"T_b9722156_7e31_11ec_88fe_0242ac1c0002row4_col5\" class=\"data row4 col5\" >-0.05</td>\n",
              "                        <td id=\"T_b9722156_7e31_11ec_88fe_0242ac1c0002row4_col6\" class=\"data row4 col6\" >-0.07</td>\n",
              "                        <td id=\"T_b9722156_7e31_11ec_88fe_0242ac1c0002row4_col7\" class=\"data row4 col7\" >0.03</td>\n",
              "                        <td id=\"T_b9722156_7e31_11ec_88fe_0242ac1c0002row4_col8\" class=\"data row4 col8\" >-0.36</td>\n",
              "                        <td id=\"T_b9722156_7e31_11ec_88fe_0242ac1c0002row4_col9\" class=\"data row4 col9\" >-0.44</td>\n",
              "                        <td id=\"T_b9722156_7e31_11ec_88fe_0242ac1c0002row4_col10\" class=\"data row4 col10\" >0.02</td>\n",
              "                        <td id=\"T_b9722156_7e31_11ec_88fe_0242ac1c0002row4_col11\" class=\"data row4 col11\" >-0.03</td>\n",
              "                        <td id=\"T_b9722156_7e31_11ec_88fe_0242ac1c0002row4_col12\" class=\"data row4 col12\" >-0.50</td>\n",
              "                        <td id=\"T_b9722156_7e31_11ec_88fe_0242ac1c0002row4_col13\" class=\"data row4 col13\" >-0.54</td>\n",
              "                        <td id=\"T_b9722156_7e31_11ec_88fe_0242ac1c0002row4_col14\" class=\"data row4 col14\" >0.22</td>\n",
              "                        <td id=\"T_b9722156_7e31_11ec_88fe_0242ac1c0002row4_col15\" class=\"data row4 col15\" >0.39</td>\n",
              "                        <td id=\"T_b9722156_7e31_11ec_88fe_0242ac1c0002row4_col16\" class=\"data row4 col16\" >0.04</td>\n",
              "                        <td id=\"T_b9722156_7e31_11ec_88fe_0242ac1c0002row4_col17\" class=\"data row4 col17\" >0.02</td>\n",
              "                        <td id=\"T_b9722156_7e31_11ec_88fe_0242ac1c0002row4_col18\" class=\"data row4 col18\" >0.00</td>\n",
              "                        <td id=\"T_b9722156_7e31_11ec_88fe_0242ac1c0002row4_col19\" class=\"data row4 col19\" >-0.03</td>\n",
              "                        <td id=\"T_b9722156_7e31_11ec_88fe_0242ac1c0002row4_col20\" class=\"data row4 col20\" >-0.02</td>\n",
              "                        <td id=\"T_b9722156_7e31_11ec_88fe_0242ac1c0002row4_col21\" class=\"data row4 col21\" >-0.05</td>\n",
              "                        <td id=\"T_b9722156_7e31_11ec_88fe_0242ac1c0002row4_col22\" class=\"data row4 col22\" >0.00</td>\n",
              "                        <td id=\"T_b9722156_7e31_11ec_88fe_0242ac1c0002row4_col23\" class=\"data row4 col23\" >-0.24</td>\n",
              "                        <td id=\"T_b9722156_7e31_11ec_88fe_0242ac1c0002row4_col24\" class=\"data row4 col24\" >-0.34</td>\n",
              "            </tr>\n",
              "            <tr>\n",
              "                        <th id=\"T_b9722156_7e31_11ec_88fe_0242ac1c0002level0_row5\" class=\"row_heading level0 row5\" >WindGustSpeed</th>\n",
              "                        <td id=\"T_b9722156_7e31_11ec_88fe_0242ac1c0002row5_col0\" class=\"data row5 col0\" >0.11</td>\n",
              "                        <td id=\"T_b9722156_7e31_11ec_88fe_0242ac1c0002row5_col1\" class=\"data row5 col1\" >0.00</td>\n",
              "                        <td id=\"T_b9722156_7e31_11ec_88fe_0242ac1c0002row5_col2\" class=\"data row5 col2\" >0.11</td>\n",
              "                        <td id=\"T_b9722156_7e31_11ec_88fe_0242ac1c0002row5_col3\" class=\"data row5 col3\" >0.15</td>\n",
              "                        <td id=\"T_b9722156_7e31_11ec_88fe_0242ac1c0002row5_col4\" class=\"data row5 col4\" >-0.05</td>\n",
              "                        <td id=\"T_b9722156_7e31_11ec_88fe_0242ac1c0002row5_col5\" class=\"data row5 col5\" >1.00</td>\n",
              "                        <td id=\"T_b9722156_7e31_11ec_88fe_0242ac1c0002row5_col6\" class=\"data row5 col6\" >0.58</td>\n",
              "                        <td id=\"T_b9722156_7e31_11ec_88fe_0242ac1c0002row5_col7\" class=\"data row5 col7\" >0.65</td>\n",
              "                        <td id=\"T_b9722156_7e31_11ec_88fe_0242ac1c0002row5_col8\" class=\"data row5 col8\" >-0.14</td>\n",
              "                        <td id=\"T_b9722156_7e31_11ec_88fe_0242ac1c0002row5_col9\" class=\"data row5 col9\" >0.00</td>\n",
              "                        <td id=\"T_b9722156_7e31_11ec_88fe_0242ac1c0002row5_col10\" class=\"data row5 col10\" >-0.40</td>\n",
              "                        <td id=\"T_b9722156_7e31_11ec_88fe_0242ac1c0002row5_col11\" class=\"data row5 col11\" >-0.35</td>\n",
              "                        <td id=\"T_b9722156_7e31_11ec_88fe_0242ac1c0002row5_col12\" class=\"data row5 col12\" >0.09</td>\n",
              "                        <td id=\"T_b9722156_7e31_11ec_88fe_0242ac1c0002row5_col13\" class=\"data row5 col13\" >0.12</td>\n",
              "                        <td id=\"T_b9722156_7e31_11ec_88fe_0242ac1c0002row5_col14\" class=\"data row5 col14\" >0.06</td>\n",
              "                        <td id=\"T_b9722156_7e31_11ec_88fe_0242ac1c0002row5_col15\" class=\"data row5 col15\" >-0.04</td>\n",
              "                        <td id=\"T_b9722156_7e31_11ec_88fe_0242ac1c0002row5_col16\" class=\"data row5 col16\" >-0.05</td>\n",
              "                        <td id=\"T_b9722156_7e31_11ec_88fe_0242ac1c0002row5_col17\" class=\"data row5 col17\" >0.05</td>\n",
              "                        <td id=\"T_b9722156_7e31_11ec_88fe_0242ac1c0002row5_col18\" class=\"data row5 col18\" >-0.00</td>\n",
              "                        <td id=\"T_b9722156_7e31_11ec_88fe_0242ac1c0002row5_col19\" class=\"data row5 col19\" >0.12</td>\n",
              "                        <td id=\"T_b9722156_7e31_11ec_88fe_0242ac1c0002row5_col20\" class=\"data row5 col20\" >0.09</td>\n",
              "                        <td id=\"T_b9722156_7e31_11ec_88fe_0242ac1c0002row5_col21\" class=\"data row5 col21\" >-0.01</td>\n",
              "                        <td id=\"T_b9722156_7e31_11ec_88fe_0242ac1c0002row5_col22\" class=\"data row5 col22\" >0.12</td>\n",
              "                        <td id=\"T_b9722156_7e31_11ec_88fe_0242ac1c0002row5_col23\" class=\"data row5 col23\" >0.13</td>\n",
              "                        <td id=\"T_b9722156_7e31_11ec_88fe_0242ac1c0002row5_col24\" class=\"data row5 col24\" >0.19</td>\n",
              "            </tr>\n",
              "            <tr>\n",
              "                        <th id=\"T_b9722156_7e31_11ec_88fe_0242ac1c0002level0_row6\" class=\"row_heading level0 row6\" >WindSpeed9am</th>\n",
              "                        <td id=\"T_b9722156_7e31_11ec_88fe_0242ac1c0002row6_col0\" class=\"data row6 col0\" >0.11</td>\n",
              "                        <td id=\"T_b9722156_7e31_11ec_88fe_0242ac1c0002row6_col1\" class=\"data row6 col1\" >-0.07</td>\n",
              "                        <td id=\"T_b9722156_7e31_11ec_88fe_0242ac1c0002row6_col2\" class=\"data row6 col2\" >0.08</td>\n",
              "                        <td id=\"T_b9722156_7e31_11ec_88fe_0242ac1c0002row6_col3\" class=\"data row6 col3\" >0.07</td>\n",
              "                        <td id=\"T_b9722156_7e31_11ec_88fe_0242ac1c0002row6_col4\" class=\"data row6 col4\" >-0.07</td>\n",
              "                        <td id=\"T_b9722156_7e31_11ec_88fe_0242ac1c0002row6_col5\" class=\"data row6 col5\" >0.58</td>\n",
              "                        <td id=\"T_b9722156_7e31_11ec_88fe_0242ac1c0002row6_col6\" class=\"data row6 col6\" >1.00</td>\n",
              "                        <td id=\"T_b9722156_7e31_11ec_88fe_0242ac1c0002row6_col7\" class=\"data row6 col7\" >0.58</td>\n",
              "                        <td id=\"T_b9722156_7e31_11ec_88fe_0242ac1c0002row6_col8\" class=\"data row6 col8\" >-0.22</td>\n",
              "                        <td id=\"T_b9722156_7e31_11ec_88fe_0242ac1c0002row6_col9\" class=\"data row6 col9\" >0.02</td>\n",
              "                        <td id=\"T_b9722156_7e31_11ec_88fe_0242ac1c0002row6_col10\" class=\"data row6 col10\" >-0.18</td>\n",
              "                        <td id=\"T_b9722156_7e31_11ec_88fe_0242ac1c0002row6_col11\" class=\"data row6 col11\" >-0.13</td>\n",
              "                        <td id=\"T_b9722156_7e31_11ec_88fe_0242ac1c0002row6_col12\" class=\"data row6 col12\" >0.06</td>\n",
              "                        <td id=\"T_b9722156_7e31_11ec_88fe_0242ac1c0002row6_col13\" class=\"data row6 col13\" >0.10</td>\n",
              "                        <td id=\"T_b9722156_7e31_11ec_88fe_0242ac1c0002row6_col14\" class=\"data row6 col14\" >0.05</td>\n",
              "                        <td id=\"T_b9722156_7e31_11ec_88fe_0242ac1c0002row6_col15\" class=\"data row6 col15\" >-0.09</td>\n",
              "                        <td id=\"T_b9722156_7e31_11ec_88fe_0242ac1c0002row6_col16\" class=\"data row6 col16\" >-0.04</td>\n",
              "                        <td id=\"T_b9722156_7e31_11ec_88fe_0242ac1c0002row6_col17\" class=\"data row6 col17\" >0.04</td>\n",
              "                        <td id=\"T_b9722156_7e31_11ec_88fe_0242ac1c0002row6_col18\" class=\"data row6 col18\" >-0.01</td>\n",
              "                        <td id=\"T_b9722156_7e31_11ec_88fe_0242ac1c0002row6_col19\" class=\"data row6 col19\" >0.13</td>\n",
              "                        <td id=\"T_b9722156_7e31_11ec_88fe_0242ac1c0002row6_col20\" class=\"data row6 col20\" >0.01</td>\n",
              "                        <td id=\"T_b9722156_7e31_11ec_88fe_0242ac1c0002row6_col21\" class=\"data row6 col21\" >0.12</td>\n",
              "                        <td id=\"T_b9722156_7e31_11ec_88fe_0242ac1c0002row6_col22\" class=\"data row6 col22\" >0.03</td>\n",
              "                        <td id=\"T_b9722156_7e31_11ec_88fe_0242ac1c0002row6_col23\" class=\"data row6 col23\" >0.09</td>\n",
              "                        <td id=\"T_b9722156_7e31_11ec_88fe_0242ac1c0002row6_col24\" class=\"data row6 col24\" >0.07</td>\n",
              "            </tr>\n",
              "            <tr>\n",
              "                        <th id=\"T_b9722156_7e31_11ec_88fe_0242ac1c0002level0_row7\" class=\"row_heading level0 row7\" >WindSpeed3pm</th>\n",
              "                        <td id=\"T_b9722156_7e31_11ec_88fe_0242ac1c0002row7_col0\" class=\"data row7 col0\" >0.11</td>\n",
              "                        <td id=\"T_b9722156_7e31_11ec_88fe_0242ac1c0002row7_col1\" class=\"data row7 col1\" >0.02</td>\n",
              "                        <td id=\"T_b9722156_7e31_11ec_88fe_0242ac1c0002row7_col2\" class=\"data row7 col2\" >0.03</td>\n",
              "                        <td id=\"T_b9722156_7e31_11ec_88fe_0242ac1c0002row7_col3\" class=\"data row7 col3\" >0.09</td>\n",
              "                        <td id=\"T_b9722156_7e31_11ec_88fe_0242ac1c0002row7_col4\" class=\"data row7 col4\" >0.03</td>\n",
              "                        <td id=\"T_b9722156_7e31_11ec_88fe_0242ac1c0002row7_col5\" class=\"data row7 col5\" >0.65</td>\n",
              "                        <td id=\"T_b9722156_7e31_11ec_88fe_0242ac1c0002row7_col6\" class=\"data row7 col6\" >0.58</td>\n",
              "                        <td id=\"T_b9722156_7e31_11ec_88fe_0242ac1c0002row7_col7\" class=\"data row7 col7\" >1.00</td>\n",
              "                        <td id=\"T_b9722156_7e31_11ec_88fe_0242ac1c0002row7_col8\" class=\"data row7 col8\" >-0.15</td>\n",
              "                        <td id=\"T_b9722156_7e31_11ec_88fe_0242ac1c0002row7_col9\" class=\"data row7 col9\" >-0.00</td>\n",
              "                        <td id=\"T_b9722156_7e31_11ec_88fe_0242ac1c0002row7_col10\" class=\"data row7 col10\" >-0.23</td>\n",
              "                        <td id=\"T_b9722156_7e31_11ec_88fe_0242ac1c0002row7_col11\" class=\"data row7 col11\" >-0.21</td>\n",
              "                        <td id=\"T_b9722156_7e31_11ec_88fe_0242ac1c0002row7_col12\" class=\"data row7 col12\" >0.07</td>\n",
              "                        <td id=\"T_b9722156_7e31_11ec_88fe_0242ac1c0002row7_col13\" class=\"data row7 col13\" >0.06</td>\n",
              "                        <td id=\"T_b9722156_7e31_11ec_88fe_0242ac1c0002row7_col14\" class=\"data row7 col14\" >0.10</td>\n",
              "                        <td id=\"T_b9722156_7e31_11ec_88fe_0242ac1c0002row7_col15\" class=\"data row7 col15\" >-0.01</td>\n",
              "                        <td id=\"T_b9722156_7e31_11ec_88fe_0242ac1c0002row7_col16\" class=\"data row7 col16\" >-0.02</td>\n",
              "                        <td id=\"T_b9722156_7e31_11ec_88fe_0242ac1c0002row7_col17\" class=\"data row7 col17\" >0.05</td>\n",
              "                        <td id=\"T_b9722156_7e31_11ec_88fe_0242ac1c0002row7_col18\" class=\"data row7 col18\" >-0.01</td>\n",
              "                        <td id=\"T_b9722156_7e31_11ec_88fe_0242ac1c0002row7_col19\" class=\"data row7 col19\" >0.07</td>\n",
              "                        <td id=\"T_b9722156_7e31_11ec_88fe_0242ac1c0002row7_col20\" class=\"data row7 col20\" >0.04</td>\n",
              "                        <td id=\"T_b9722156_7e31_11ec_88fe_0242ac1c0002row7_col21\" class=\"data row7 col21\" >0.05</td>\n",
              "                        <td id=\"T_b9722156_7e31_11ec_88fe_0242ac1c0002row7_col22\" class=\"data row7 col22\" >0.05</td>\n",
              "                        <td id=\"T_b9722156_7e31_11ec_88fe_0242ac1c0002row7_col23\" class=\"data row7 col23\" >0.04</td>\n",
              "                        <td id=\"T_b9722156_7e31_11ec_88fe_0242ac1c0002row7_col24\" class=\"data row7 col24\" >0.03</td>\n",
              "            </tr>\n",
              "            <tr>\n",
              "                        <th id=\"T_b9722156_7e31_11ec_88fe_0242ac1c0002level0_row8\" class=\"row_heading level0 row8\" >Humidity9am</th>\n",
              "                        <td id=\"T_b9722156_7e31_11ec_88fe_0242ac1c0002row8_col0\" class=\"data row8 col0\" >-0.17</td>\n",
              "                        <td id=\"T_b9722156_7e31_11ec_88fe_0242ac1c0002row8_col1\" class=\"data row8 col1\" >-0.41</td>\n",
              "                        <td id=\"T_b9722156_7e31_11ec_88fe_0242ac1c0002row8_col2\" class=\"data row8 col2\" >0.26</td>\n",
              "                        <td id=\"T_b9722156_7e31_11ec_88fe_0242ac1c0002row8_col3\" class=\"data row8 col3\" >-0.40</td>\n",
              "                        <td id=\"T_b9722156_7e31_11ec_88fe_0242ac1c0002row8_col4\" class=\"data row8 col4\" >-0.36</td>\n",
              "                        <td id=\"T_b9722156_7e31_11ec_88fe_0242ac1c0002row8_col5\" class=\"data row8 col5\" >-0.14</td>\n",
              "                        <td id=\"T_b9722156_7e31_11ec_88fe_0242ac1c0002row8_col6\" class=\"data row8 col6\" >-0.22</td>\n",
              "                        <td id=\"T_b9722156_7e31_11ec_88fe_0242ac1c0002row8_col7\" class=\"data row8 col7\" >-0.15</td>\n",
              "                        <td id=\"T_b9722156_7e31_11ec_88fe_0242ac1c0002row8_col8\" class=\"data row8 col8\" >1.00</td>\n",
              "                        <td id=\"T_b9722156_7e31_11ec_88fe_0242ac1c0002row8_col9\" class=\"data row8 col9\" >0.59</td>\n",
              "                        <td id=\"T_b9722156_7e31_11ec_88fe_0242ac1c0002row8_col10\" class=\"data row8 col10\" >0.15</td>\n",
              "                        <td id=\"T_b9722156_7e31_11ec_88fe_0242ac1c0002row8_col11\" class=\"data row8 col11\" >0.17</td>\n",
              "                        <td id=\"T_b9722156_7e31_11ec_88fe_0242ac1c0002row8_col12\" class=\"data row8 col12\" >0.31</td>\n",
              "                        <td id=\"T_b9722156_7e31_11ec_88fe_0242ac1c0002row8_col13\" class=\"data row8 col13\" >0.24</td>\n",
              "                        <td id=\"T_b9722156_7e31_11ec_88fe_0242ac1c0002row8_col14\" class=\"data row8 col14\" >-0.39</td>\n",
              "                        <td id=\"T_b9722156_7e31_11ec_88fe_0242ac1c0002row8_col15\" class=\"data row8 col15\" >-0.40</td>\n",
              "                        <td id=\"T_b9722156_7e31_11ec_88fe_0242ac1c0002row8_col16\" class=\"data row8 col16\" >0.03</td>\n",
              "                        <td id=\"T_b9722156_7e31_11ec_88fe_0242ac1c0002row8_col17\" class=\"data row8 col17\" >-0.13</td>\n",
              "                        <td id=\"T_b9722156_7e31_11ec_88fe_0242ac1c0002row8_col18\" class=\"data row8 col18\" >0.02</td>\n",
              "                        <td id=\"T_b9722156_7e31_11ec_88fe_0242ac1c0002row8_col19\" class=\"data row8 col19\" >0.09</td>\n",
              "                        <td id=\"T_b9722156_7e31_11ec_88fe_0242ac1c0002row8_col20\" class=\"data row8 col20\" >0.03</td>\n",
              "                        <td id=\"T_b9722156_7e31_11ec_88fe_0242ac1c0002row8_col21\" class=\"data row8 col21\" >0.01</td>\n",
              "                        <td id=\"T_b9722156_7e31_11ec_88fe_0242ac1c0002row8_col22\" class=\"data row8 col22\" >-0.04</td>\n",
              "                        <td id=\"T_b9722156_7e31_11ec_88fe_0242ac1c0002row8_col23\" class=\"data row8 col23\" >0.37</td>\n",
              "                        <td id=\"T_b9722156_7e31_11ec_88fe_0242ac1c0002row8_col24\" class=\"data row8 col24\" >0.26</td>\n",
              "            </tr>\n",
              "            <tr>\n",
              "                        <th id=\"T_b9722156_7e31_11ec_88fe_0242ac1c0002level0_row9\" class=\"row_heading level0 row9\" >Humidity3pm</th>\n",
              "                        <td id=\"T_b9722156_7e31_11ec_88fe_0242ac1c0002row9_col0\" class=\"data row9 col0\" >0.18</td>\n",
              "                        <td id=\"T_b9722156_7e31_11ec_88fe_0242ac1c0002row9_col1\" class=\"data row9 col1\" >-0.31</td>\n",
              "                        <td id=\"T_b9722156_7e31_11ec_88fe_0242ac1c0002row9_col2\" class=\"data row9 col2\" >0.25</td>\n",
              "                        <td id=\"T_b9722156_7e31_11ec_88fe_0242ac1c0002row9_col3\" class=\"data row9 col3\" >-0.23</td>\n",
              "                        <td id=\"T_b9722156_7e31_11ec_88fe_0242ac1c0002row9_col4\" class=\"data row9 col4\" >-0.44</td>\n",
              "                        <td id=\"T_b9722156_7e31_11ec_88fe_0242ac1c0002row9_col5\" class=\"data row9 col5\" >0.00</td>\n",
              "                        <td id=\"T_b9722156_7e31_11ec_88fe_0242ac1c0002row9_col6\" class=\"data row9 col6\" >0.02</td>\n",
              "                        <td id=\"T_b9722156_7e31_11ec_88fe_0242ac1c0002row9_col7\" class=\"data row9 col7\" >-0.00</td>\n",
              "                        <td id=\"T_b9722156_7e31_11ec_88fe_0242ac1c0002row9_col8\" class=\"data row9 col8\" >0.59</td>\n",
              "                        <td id=\"T_b9722156_7e31_11ec_88fe_0242ac1c0002row9_col9\" class=\"data row9 col9\" >1.00</td>\n",
              "                        <td id=\"T_b9722156_7e31_11ec_88fe_0242ac1c0002row9_col10\" class=\"data row9 col10\" >-0.04</td>\n",
              "                        <td id=\"T_b9722156_7e31_11ec_88fe_0242ac1c0002row9_col11\" class=\"data row9 col11\" >0.01</td>\n",
              "                        <td id=\"T_b9722156_7e31_11ec_88fe_0242ac1c0002row9_col12\" class=\"data row9 col12\" >0.36</td>\n",
              "                        <td id=\"T_b9722156_7e31_11ec_88fe_0242ac1c0002row9_col13\" class=\"data row9 col13\" >0.39</td>\n",
              "                        <td id=\"T_b9722156_7e31_11ec_88fe_0242ac1c0002row9_col14\" class=\"data row9 col14\" >-0.01</td>\n",
              "                        <td id=\"T_b9722156_7e31_11ec_88fe_0242ac1c0002row9_col15\" class=\"data row9 col15\" >-0.39</td>\n",
              "                        <td id=\"T_b9722156_7e31_11ec_88fe_0242ac1c0002row9_col16\" class=\"data row9 col16\" >0.04</td>\n",
              "                        <td id=\"T_b9722156_7e31_11ec_88fe_0242ac1c0002row9_col17\" class=\"data row9 col17\" >-0.04</td>\n",
              "                        <td id=\"T_b9722156_7e31_11ec_88fe_0242ac1c0002row9_col18\" class=\"data row9 col18\" >0.02</td>\n",
              "                        <td id=\"T_b9722156_7e31_11ec_88fe_0242ac1c0002row9_col19\" class=\"data row9 col19\" >0.09</td>\n",
              "                        <td id=\"T_b9722156_7e31_11ec_88fe_0242ac1c0002row9_col20\" class=\"data row9 col20\" >-0.01</td>\n",
              "                        <td id=\"T_b9722156_7e31_11ec_88fe_0242ac1c0002row9_col21\" class=\"data row9 col21\" >0.06</td>\n",
              "                        <td id=\"T_b9722156_7e31_11ec_88fe_0242ac1c0002row9_col22\" class=\"data row9 col22\" >-0.13</td>\n",
              "                        <td id=\"T_b9722156_7e31_11ec_88fe_0242ac1c0002row9_col23\" class=\"data row9 col23\" >0.34</td>\n",
              "                        <td id=\"T_b9722156_7e31_11ec_88fe_0242ac1c0002row9_col24\" class=\"data row9 col24\" >0.43</td>\n",
              "            </tr>\n",
              "            <tr>\n",
              "                        <th id=\"T_b9722156_7e31_11ec_88fe_0242ac1c0002level0_row10\" class=\"row_heading level0 row10\" >Pressure9am</th>\n",
              "                        <td id=\"T_b9722156_7e31_11ec_88fe_0242ac1c0002row10_col0\" class=\"data row10 col0\" >-0.41</td>\n",
              "                        <td id=\"T_b9722156_7e31_11ec_88fe_0242ac1c0002row10_col1\" class=\"data row10 col1\" >-0.31</td>\n",
              "                        <td id=\"T_b9722156_7e31_11ec_88fe_0242ac1c0002row10_col2\" class=\"data row10 col2\" >-0.13</td>\n",
              "                        <td id=\"T_b9722156_7e31_11ec_88fe_0242ac1c0002row10_col3\" class=\"data row10 col3\" >-0.28</td>\n",
              "                        <td id=\"T_b9722156_7e31_11ec_88fe_0242ac1c0002row10_col4\" class=\"data row10 col4\" >0.02</td>\n",
              "                        <td id=\"T_b9722156_7e31_11ec_88fe_0242ac1c0002row10_col5\" class=\"data row10 col5\" >-0.40</td>\n",
              "                        <td id=\"T_b9722156_7e31_11ec_88fe_0242ac1c0002row10_col6\" class=\"data row10 col6\" >-0.18</td>\n",
              "                        <td id=\"T_b9722156_7e31_11ec_88fe_0242ac1c0002row10_col7\" class=\"data row10 col7\" >-0.23</td>\n",
              "                        <td id=\"T_b9722156_7e31_11ec_88fe_0242ac1c0002row10_col8\" class=\"data row10 col8\" >0.15</td>\n",
              "                        <td id=\"T_b9722156_7e31_11ec_88fe_0242ac1c0002row10_col9\" class=\"data row10 col9\" >-0.04</td>\n",
              "                        <td id=\"T_b9722156_7e31_11ec_88fe_0242ac1c0002row10_col10\" class=\"data row10 col10\" >1.00</td>\n",
              "                        <td id=\"T_b9722156_7e31_11ec_88fe_0242ac1c0002row10_col11\" class=\"data row10 col11\" >0.96</td>\n",
              "                        <td id=\"T_b9722156_7e31_11ec_88fe_0242ac1c0002row10_col12\" class=\"data row10 col12\" >-0.08</td>\n",
              "                        <td id=\"T_b9722156_7e31_11ec_88fe_0242ac1c0002row10_col13\" class=\"data row10 col13\" >-0.09</td>\n",
              "                        <td id=\"T_b9722156_7e31_11ec_88fe_0242ac1c0002row10_col14\" class=\"data row10 col14\" >-0.39</td>\n",
              "                        <td id=\"T_b9722156_7e31_11ec_88fe_0242ac1c0002row10_col15\" class=\"data row10 col15\" >-0.27</td>\n",
              "                        <td id=\"T_b9722156_7e31_11ec_88fe_0242ac1c0002row10_col16\" class=\"data row10 col16\" >0.03</td>\n",
              "                        <td id=\"T_b9722156_7e31_11ec_88fe_0242ac1c0002row10_col17\" class=\"data row10 col17\" >0.03</td>\n",
              "                        <td id=\"T_b9722156_7e31_11ec_88fe_0242ac1c0002row10_col18\" class=\"data row10 col18\" >-0.02</td>\n",
              "                        <td id=\"T_b9722156_7e31_11ec_88fe_0242ac1c0002row10_col19\" class=\"data row10 col19\" >-0.03</td>\n",
              "                        <td id=\"T_b9722156_7e31_11ec_88fe_0242ac1c0002row10_col20\" class=\"data row10 col20\" >-0.11</td>\n",
              "                        <td id=\"T_b9722156_7e31_11ec_88fe_0242ac1c0002row10_col21\" class=\"data row10 col21\" >-0.00</td>\n",
              "                        <td id=\"T_b9722156_7e31_11ec_88fe_0242ac1c0002row10_col22\" class=\"data row10 col22\" >-0.13</td>\n",
              "                        <td id=\"T_b9722156_7e31_11ec_88fe_0242ac1c0002row10_col23\" class=\"data row10 col23\" >-0.15</td>\n",
              "                        <td id=\"T_b9722156_7e31_11ec_88fe_0242ac1c0002row10_col24\" class=\"data row10 col24\" >-0.18</td>\n",
              "            </tr>\n",
              "            <tr>\n",
              "                        <th id=\"T_b9722156_7e31_11ec_88fe_0242ac1c0002level0_row11\" class=\"row_heading level0 row11\" >Pressure3pm</th>\n",
              "                        <td id=\"T_b9722156_7e31_11ec_88fe_0242ac1c0002row11_col0\" class=\"data row11 col0\" >-0.40</td>\n",
              "                        <td id=\"T_b9722156_7e31_11ec_88fe_0242ac1c0002row11_col1\" class=\"data row11 col1\" >-0.38</td>\n",
              "                        <td id=\"T_b9722156_7e31_11ec_88fe_0242ac1c0002row11_col2\" class=\"data row11 col2\" >-0.09</td>\n",
              "                        <td id=\"T_b9722156_7e31_11ec_88fe_0242ac1c0002row11_col3\" class=\"data row11 col3\" >-0.28</td>\n",
              "                        <td id=\"T_b9722156_7e31_11ec_88fe_0242ac1c0002row11_col4\" class=\"data row11 col4\" >-0.03</td>\n",
              "                        <td id=\"T_b9722156_7e31_11ec_88fe_0242ac1c0002row11_col5\" class=\"data row11 col5\" >-0.35</td>\n",
              "                        <td id=\"T_b9722156_7e31_11ec_88fe_0242ac1c0002row11_col6\" class=\"data row11 col6\" >-0.13</td>\n",
              "                        <td id=\"T_b9722156_7e31_11ec_88fe_0242ac1c0002row11_col7\" class=\"data row11 col7\" >-0.21</td>\n",
              "                        <td id=\"T_b9722156_7e31_11ec_88fe_0242ac1c0002row11_col8\" class=\"data row11 col8\" >0.17</td>\n",
              "                        <td id=\"T_b9722156_7e31_11ec_88fe_0242ac1c0002row11_col9\" class=\"data row11 col9\" >0.01</td>\n",
              "                        <td id=\"T_b9722156_7e31_11ec_88fe_0242ac1c0002row11_col10\" class=\"data row11 col10\" >0.96</td>\n",
              "                        <td id=\"T_b9722156_7e31_11ec_88fe_0242ac1c0002row11_col11\" class=\"data row11 col11\" >1.00</td>\n",
              "                        <td id=\"T_b9722156_7e31_11ec_88fe_0242ac1c0002row11_col12\" class=\"data row11 col12\" >-0.04</td>\n",
              "                        <td id=\"T_b9722156_7e31_11ec_88fe_0242ac1c0002row11_col13\" class=\"data row11 col13\" >-0.04</td>\n",
              "                        <td id=\"T_b9722156_7e31_11ec_88fe_0242ac1c0002row11_col14\" class=\"data row11 col14\" >-0.41</td>\n",
              "                        <td id=\"T_b9722156_7e31_11ec_88fe_0242ac1c0002row11_col15\" class=\"data row11 col15\" >-0.35</td>\n",
              "                        <td id=\"T_b9722156_7e31_11ec_88fe_0242ac1c0002row11_col16\" class=\"data row11 col16\" >0.03</td>\n",
              "                        <td id=\"T_b9722156_7e31_11ec_88fe_0242ac1c0002row11_col17\" class=\"data row11 col17\" >0.02</td>\n",
              "                        <td id=\"T_b9722156_7e31_11ec_88fe_0242ac1c0002row11_col18\" class=\"data row11 col18\" >-0.02</td>\n",
              "                        <td id=\"T_b9722156_7e31_11ec_88fe_0242ac1c0002row11_col19\" class=\"data row11 col19\" >-0.02</td>\n",
              "                        <td id=\"T_b9722156_7e31_11ec_88fe_0242ac1c0002row11_col20\" class=\"data row11 col20\" >-0.04</td>\n",
              "                        <td id=\"T_b9722156_7e31_11ec_88fe_0242ac1c0002row11_col21\" class=\"data row11 col21\" >0.05</td>\n",
              "                        <td id=\"T_b9722156_7e31_11ec_88fe_0242ac1c0002row11_col22\" class=\"data row11 col22\" >-0.05</td>\n",
              "                        <td id=\"T_b9722156_7e31_11ec_88fe_0242ac1c0002row11_col23\" class=\"data row11 col23\" >-0.08</td>\n",
              "                        <td id=\"T_b9722156_7e31_11ec_88fe_0242ac1c0002row11_col24\" class=\"data row11 col24\" >-0.17</td>\n",
              "            </tr>\n",
              "            <tr>\n",
              "                        <th id=\"T_b9722156_7e31_11ec_88fe_0242ac1c0002level0_row12\" class=\"row_heading level0 row12\" >Cloud9am</th>\n",
              "                        <td id=\"T_b9722156_7e31_11ec_88fe_0242ac1c0002row12_col0\" class=\"data row12 col0\" >0.12</td>\n",
              "                        <td id=\"T_b9722156_7e31_11ec_88fe_0242ac1c0002row12_col1\" class=\"data row12 col1\" >-0.18</td>\n",
              "                        <td id=\"T_b9722156_7e31_11ec_88fe_0242ac1c0002row12_col2\" class=\"data row12 col2\" >0.16</td>\n",
              "                        <td id=\"T_b9722156_7e31_11ec_88fe_0242ac1c0002row12_col3\" class=\"data row12 col3\" >-0.09</td>\n",
              "                        <td id=\"T_b9722156_7e31_11ec_88fe_0242ac1c0002row12_col4\" class=\"data row12 col4\" >-0.50</td>\n",
              "                        <td id=\"T_b9722156_7e31_11ec_88fe_0242ac1c0002row12_col5\" class=\"data row12 col5\" >0.09</td>\n",
              "                        <td id=\"T_b9722156_7e31_11ec_88fe_0242ac1c0002row12_col6\" class=\"data row12 col6\" >0.06</td>\n",
              "                        <td id=\"T_b9722156_7e31_11ec_88fe_0242ac1c0002row12_col7\" class=\"data row12 col7\" >0.07</td>\n",
              "                        <td id=\"T_b9722156_7e31_11ec_88fe_0242ac1c0002row12_col8\" class=\"data row12 col8\" >0.31</td>\n",
              "                        <td id=\"T_b9722156_7e31_11ec_88fe_0242ac1c0002row12_col9\" class=\"data row12 col9\" >0.36</td>\n",
              "                        <td id=\"T_b9722156_7e31_11ec_88fe_0242ac1c0002row12_col10\" class=\"data row12 col10\" >-0.08</td>\n",
              "                        <td id=\"T_b9722156_7e31_11ec_88fe_0242ac1c0002row12_col11\" class=\"data row12 col11\" >-0.04</td>\n",
              "                        <td id=\"T_b9722156_7e31_11ec_88fe_0242ac1c0002row12_col12\" class=\"data row12 col12\" >1.00</td>\n",
              "                        <td id=\"T_b9722156_7e31_11ec_88fe_0242ac1c0002row12_col13\" class=\"data row12 col13\" >0.58</td>\n",
              "                        <td id=\"T_b9722156_7e31_11ec_88fe_0242ac1c0002row12_col14\" class=\"data row12 col14\" >-0.04</td>\n",
              "                        <td id=\"T_b9722156_7e31_11ec_88fe_0242ac1c0002row12_col15\" class=\"data row12 col15\" >-0.19</td>\n",
              "                        <td id=\"T_b9722156_7e31_11ec_88fe_0242ac1c0002row12_col16\" class=\"data row12 col16\" >0.03</td>\n",
              "                        <td id=\"T_b9722156_7e31_11ec_88fe_0242ac1c0002row12_col17\" class=\"data row12 col17\" >-0.01</td>\n",
              "                        <td id=\"T_b9722156_7e31_11ec_88fe_0242ac1c0002row12_col18\" class=\"data row12 col18\" >0.01</td>\n",
              "                        <td id=\"T_b9722156_7e31_11ec_88fe_0242ac1c0002row12_col19\" class=\"data row12 col19\" >-0.11</td>\n",
              "                        <td id=\"T_b9722156_7e31_11ec_88fe_0242ac1c0002row12_col20\" class=\"data row12 col20\" >-0.02</td>\n",
              "                        <td id=\"T_b9722156_7e31_11ec_88fe_0242ac1c0002row12_col21\" class=\"data row12 col21\" >-0.00</td>\n",
              "                        <td id=\"T_b9722156_7e31_11ec_88fe_0242ac1c0002row12_col22\" class=\"data row12 col22\" >-0.00</td>\n",
              "                        <td id=\"T_b9722156_7e31_11ec_88fe_0242ac1c0002row12_col23\" class=\"data row12 col23\" >0.24</td>\n",
              "                        <td id=\"T_b9722156_7e31_11ec_88fe_0242ac1c0002row12_col24\" class=\"data row12 col24\" >0.25</td>\n",
              "            </tr>\n",
              "            <tr>\n",
              "                        <th id=\"T_b9722156_7e31_11ec_88fe_0242ac1c0002level0_row13\" class=\"row_heading level0 row13\" >Cloud3pm</th>\n",
              "                        <td id=\"T_b9722156_7e31_11ec_88fe_0242ac1c0002row13_col0\" class=\"data row13 col0\" >0.05</td>\n",
              "                        <td id=\"T_b9722156_7e31_11ec_88fe_0242ac1c0002row13_col1\" class=\"data row13 col1\" >-0.20</td>\n",
              "                        <td id=\"T_b9722156_7e31_11ec_88fe_0242ac1c0002row13_col2\" class=\"data row13 col2\" >0.13</td>\n",
              "                        <td id=\"T_b9722156_7e31_11ec_88fe_0242ac1c0002row13_col3\" class=\"data row13 col3\" >-0.13</td>\n",
              "                        <td id=\"T_b9722156_7e31_11ec_88fe_0242ac1c0002row13_col4\" class=\"data row13 col4\" >-0.54</td>\n",
              "                        <td id=\"T_b9722156_7e31_11ec_88fe_0242ac1c0002row13_col5\" class=\"data row13 col5\" >0.12</td>\n",
              "                        <td id=\"T_b9722156_7e31_11ec_88fe_0242ac1c0002row13_col6\" class=\"data row13 col6\" >0.10</td>\n",
              "                        <td id=\"T_b9722156_7e31_11ec_88fe_0242ac1c0002row13_col7\" class=\"data row13 col7\" >0.06</td>\n",
              "                        <td id=\"T_b9722156_7e31_11ec_88fe_0242ac1c0002row13_col8\" class=\"data row13 col8\" >0.24</td>\n",
              "                        <td id=\"T_b9722156_7e31_11ec_88fe_0242ac1c0002row13_col9\" class=\"data row13 col9\" >0.39</td>\n",
              "                        <td id=\"T_b9722156_7e31_11ec_88fe_0242ac1c0002row13_col10\" class=\"data row13 col10\" >-0.09</td>\n",
              "                        <td id=\"T_b9722156_7e31_11ec_88fe_0242ac1c0002row13_col11\" class=\"data row13 col11\" >-0.04</td>\n",
              "                        <td id=\"T_b9722156_7e31_11ec_88fe_0242ac1c0002row13_col12\" class=\"data row13 col12\" >0.58</td>\n",
              "                        <td id=\"T_b9722156_7e31_11ec_88fe_0242ac1c0002row13_col13\" class=\"data row13 col13\" >1.00</td>\n",
              "                        <td id=\"T_b9722156_7e31_11ec_88fe_0242ac1c0002row13_col14\" class=\"data row13 col14\" >-0.06</td>\n",
              "                        <td id=\"T_b9722156_7e31_11ec_88fe_0242ac1c0002row13_col15\" class=\"data row13 col15\" >-0.24</td>\n",
              "                        <td id=\"T_b9722156_7e31_11ec_88fe_0242ac1c0002row13_col16\" class=\"data row13 col16\" >0.02</td>\n",
              "                        <td id=\"T_b9722156_7e31_11ec_88fe_0242ac1c0002row13_col17\" class=\"data row13 col17\" >0.00</td>\n",
              "                        <td id=\"T_b9722156_7e31_11ec_88fe_0242ac1c0002row13_col18\" class=\"data row13 col18\" >0.00</td>\n",
              "                        <td id=\"T_b9722156_7e31_11ec_88fe_0242ac1c0002row13_col19\" class=\"data row13 col19\" >-0.10</td>\n",
              "                        <td id=\"T_b9722156_7e31_11ec_88fe_0242ac1c0002row13_col20\" class=\"data row13 col20\" >0.01</td>\n",
              "                        <td id=\"T_b9722156_7e31_11ec_88fe_0242ac1c0002row13_col21\" class=\"data row13 col21\" >-0.01</td>\n",
              "                        <td id=\"T_b9722156_7e31_11ec_88fe_0242ac1c0002row13_col22\" class=\"data row13 col22\" >0.02</td>\n",
              "                        <td id=\"T_b9722156_7e31_11ec_88fe_0242ac1c0002row13_col23\" class=\"data row13 col23\" >0.20</td>\n",
              "                        <td id=\"T_b9722156_7e31_11ec_88fe_0242ac1c0002row13_col24\" class=\"data row13 col24\" >0.31</td>\n",
              "            </tr>\n",
              "            <tr>\n",
              "                        <th id=\"T_b9722156_7e31_11ec_88fe_0242ac1c0002level0_row14\" class=\"row_heading level0 row14\" >Temp9am</th>\n",
              "                        <td id=\"T_b9722156_7e31_11ec_88fe_0242ac1c0002row14_col0\" class=\"data row14 col0\" >0.90</td>\n",
              "                        <td id=\"T_b9722156_7e31_11ec_88fe_0242ac1c0002row14_col1\" class=\"data row14 col1\" >0.87</td>\n",
              "                        <td id=\"T_b9722156_7e31_11ec_88fe_0242ac1c0002row14_col2\" class=\"data row14 col2\" >0.01</td>\n",
              "                        <td id=\"T_b9722156_7e31_11ec_88fe_0242ac1c0002row14_col3\" class=\"data row14 col3\" >0.46</td>\n",
              "                        <td id=\"T_b9722156_7e31_11ec_88fe_0242ac1c0002row14_col4\" class=\"data row14 col4\" >0.22</td>\n",
              "                        <td id=\"T_b9722156_7e31_11ec_88fe_0242ac1c0002row14_col5\" class=\"data row14 col5\" >0.06</td>\n",
              "                        <td id=\"T_b9722156_7e31_11ec_88fe_0242ac1c0002row14_col6\" class=\"data row14 col6\" >0.05</td>\n",
              "                        <td id=\"T_b9722156_7e31_11ec_88fe_0242ac1c0002row14_col7\" class=\"data row14 col7\" >0.10</td>\n",
              "                        <td id=\"T_b9722156_7e31_11ec_88fe_0242ac1c0002row14_col8\" class=\"data row14 col8\" >-0.39</td>\n",
              "                        <td id=\"T_b9722156_7e31_11ec_88fe_0242ac1c0002row14_col9\" class=\"data row14 col9\" >-0.01</td>\n",
              "                        <td id=\"T_b9722156_7e31_11ec_88fe_0242ac1c0002row14_col10\" class=\"data row14 col10\" >-0.39</td>\n",
              "                        <td id=\"T_b9722156_7e31_11ec_88fe_0242ac1c0002row14_col11\" class=\"data row14 col11\" >-0.41</td>\n",
              "                        <td id=\"T_b9722156_7e31_11ec_88fe_0242ac1c0002row14_col12\" class=\"data row14 col12\" >-0.04</td>\n",
              "                        <td id=\"T_b9722156_7e31_11ec_88fe_0242ac1c0002row14_col13\" class=\"data row14 col13\" >-0.06</td>\n",
              "                        <td id=\"T_b9722156_7e31_11ec_88fe_0242ac1c0002row14_col14\" class=\"data row14 col14\" >1.00</td>\n",
              "                        <td id=\"T_b9722156_7e31_11ec_88fe_0242ac1c0002row14_col15\" class=\"data row14 col15\" >0.83</td>\n",
              "                        <td id=\"T_b9722156_7e31_11ec_88fe_0242ac1c0002row14_col16\" class=\"data row14 col16\" >0.08</td>\n",
              "                        <td id=\"T_b9722156_7e31_11ec_88fe_0242ac1c0002row14_col17\" class=\"data row14 col17\" >-0.15</td>\n",
              "                        <td id=\"T_b9722156_7e31_11ec_88fe_0242ac1c0002row14_col18\" class=\"data row14 col18\" >0.01</td>\n",
              "                        <td id=\"T_b9722156_7e31_11ec_88fe_0242ac1c0002row14_col19\" class=\"data row14 col19\" >0.00</td>\n",
              "                        <td id=\"T_b9722156_7e31_11ec_88fe_0242ac1c0002row14_col20\" class=\"data row14 col20\" >-0.15</td>\n",
              "                        <td id=\"T_b9722156_7e31_11ec_88fe_0242ac1c0002row14_col21\" class=\"data row14 col21\" >-0.09</td>\n",
              "                        <td id=\"T_b9722156_7e31_11ec_88fe_0242ac1c0002row14_col22\" class=\"data row14 col22\" >-0.17</td>\n",
              "                        <td id=\"T_b9722156_7e31_11ec_88fe_0242ac1c0002row14_col23\" class=\"data row14 col23\" >-0.06</td>\n",
              "                        <td id=\"T_b9722156_7e31_11ec_88fe_0242ac1c0002row14_col24\" class=\"data row14 col24\" >0.01</td>\n",
              "            </tr>\n",
              "            <tr>\n",
              "                        <th id=\"T_b9722156_7e31_11ec_88fe_0242ac1c0002level0_row15\" class=\"row_heading level0 row15\" >Temp3pm</th>\n",
              "                        <td id=\"T_b9722156_7e31_11ec_88fe_0242ac1c0002row15_col0\" class=\"data row15 col0\" >0.68</td>\n",
              "                        <td id=\"T_b9722156_7e31_11ec_88fe_0242ac1c0002row15_col1\" class=\"data row15 col1\" >0.96</td>\n",
              "                        <td id=\"T_b9722156_7e31_11ec_88fe_0242ac1c0002row15_col2\" class=\"data row15 col2\" >-0.08</td>\n",
              "                        <td id=\"T_b9722156_7e31_11ec_88fe_0242ac1c0002row15_col3\" class=\"data row15 col3\" >0.47</td>\n",
              "                        <td id=\"T_b9722156_7e31_11ec_88fe_0242ac1c0002row15_col4\" class=\"data row15 col4\" >0.39</td>\n",
              "                        <td id=\"T_b9722156_7e31_11ec_88fe_0242ac1c0002row15_col5\" class=\"data row15 col5\" >-0.04</td>\n",
              "                        <td id=\"T_b9722156_7e31_11ec_88fe_0242ac1c0002row15_col6\" class=\"data row15 col6\" >-0.09</td>\n",
              "                        <td id=\"T_b9722156_7e31_11ec_88fe_0242ac1c0002row15_col7\" class=\"data row15 col7\" >-0.01</td>\n",
              "                        <td id=\"T_b9722156_7e31_11ec_88fe_0242ac1c0002row15_col8\" class=\"data row15 col8\" >-0.40</td>\n",
              "                        <td id=\"T_b9722156_7e31_11ec_88fe_0242ac1c0002row15_col9\" class=\"data row15 col9\" >-0.39</td>\n",
              "                        <td id=\"T_b9722156_7e31_11ec_88fe_0242ac1c0002row15_col10\" class=\"data row15 col10\" >-0.27</td>\n",
              "                        <td id=\"T_b9722156_7e31_11ec_88fe_0242ac1c0002row15_col11\" class=\"data row15 col11\" >-0.35</td>\n",
              "                        <td id=\"T_b9722156_7e31_11ec_88fe_0242ac1c0002row15_col12\" class=\"data row15 col12\" >-0.19</td>\n",
              "                        <td id=\"T_b9722156_7e31_11ec_88fe_0242ac1c0002row15_col13\" class=\"data row15 col13\" >-0.24</td>\n",
              "                        <td id=\"T_b9722156_7e31_11ec_88fe_0242ac1c0002row15_col14\" class=\"data row15 col14\" >0.83</td>\n",
              "                        <td id=\"T_b9722156_7e31_11ec_88fe_0242ac1c0002row15_col15\" class=\"data row15 col15\" >1.00</td>\n",
              "                        <td id=\"T_b9722156_7e31_11ec_88fe_0242ac1c0002row15_col16\" class=\"data row15 col16\" >0.07</td>\n",
              "                        <td id=\"T_b9722156_7e31_11ec_88fe_0242ac1c0002row15_col17\" class=\"data row15 col17\" >-0.21</td>\n",
              "                        <td id=\"T_b9722156_7e31_11ec_88fe_0242ac1c0002row15_col18\" class=\"data row15 col18\" >0.00</td>\n",
              "                        <td id=\"T_b9722156_7e31_11ec_88fe_0242ac1c0002row15_col19\" class=\"data row15 col19\" >-0.01</td>\n",
              "                        <td id=\"T_b9722156_7e31_11ec_88fe_0242ac1c0002row15_col20\" class=\"data row15 col20\" >-0.17</td>\n",
              "                        <td id=\"T_b9722156_7e31_11ec_88fe_0242ac1c0002row15_col21\" class=\"data row15 col21\" >-0.16</td>\n",
              "                        <td id=\"T_b9722156_7e31_11ec_88fe_0242ac1c0002row15_col22\" class=\"data row15 col22\" >-0.14</td>\n",
              "                        <td id=\"T_b9722156_7e31_11ec_88fe_0242ac1c0002row15_col23\" class=\"data row15 col23\" >-0.20</td>\n",
              "                        <td id=\"T_b9722156_7e31_11ec_88fe_0242ac1c0002row15_col24\" class=\"data row15 col24\" >-0.16</td>\n",
              "            </tr>\n",
              "            <tr>\n",
              "                        <th id=\"T_b9722156_7e31_11ec_88fe_0242ac1c0002level0_row16\" class=\"row_heading level0 row16\" >year</th>\n",
              "                        <td id=\"T_b9722156_7e31_11ec_88fe_0242ac1c0002row16_col0\" class=\"data row16 col0\" >0.07</td>\n",
              "                        <td id=\"T_b9722156_7e31_11ec_88fe_0242ac1c0002row16_col1\" class=\"data row16 col1\" >0.08</td>\n",
              "                        <td id=\"T_b9722156_7e31_11ec_88fe_0242ac1c0002row16_col2\" class=\"data row16 col2\" >-0.00</td>\n",
              "                        <td id=\"T_b9722156_7e31_11ec_88fe_0242ac1c0002row16_col3\" class=\"data row16 col3\" >0.02</td>\n",
              "                        <td id=\"T_b9722156_7e31_11ec_88fe_0242ac1c0002row16_col4\" class=\"data row16 col4\" >0.04</td>\n",
              "                        <td id=\"T_b9722156_7e31_11ec_88fe_0242ac1c0002row16_col5\" class=\"data row16 col5\" >-0.05</td>\n",
              "                        <td id=\"T_b9722156_7e31_11ec_88fe_0242ac1c0002row16_col6\" class=\"data row16 col6\" >-0.04</td>\n",
              "                        <td id=\"T_b9722156_7e31_11ec_88fe_0242ac1c0002row16_col7\" class=\"data row16 col7\" >-0.02</td>\n",
              "                        <td id=\"T_b9722156_7e31_11ec_88fe_0242ac1c0002row16_col8\" class=\"data row16 col8\" >0.03</td>\n",
              "                        <td id=\"T_b9722156_7e31_11ec_88fe_0242ac1c0002row16_col9\" class=\"data row16 col9\" >0.04</td>\n",
              "                        <td id=\"T_b9722156_7e31_11ec_88fe_0242ac1c0002row16_col10\" class=\"data row16 col10\" >0.03</td>\n",
              "                        <td id=\"T_b9722156_7e31_11ec_88fe_0242ac1c0002row16_col11\" class=\"data row16 col11\" >0.03</td>\n",
              "                        <td id=\"T_b9722156_7e31_11ec_88fe_0242ac1c0002row16_col12\" class=\"data row16 col12\" >0.03</td>\n",
              "                        <td id=\"T_b9722156_7e31_11ec_88fe_0242ac1c0002row16_col13\" class=\"data row16 col13\" >0.02</td>\n",
              "                        <td id=\"T_b9722156_7e31_11ec_88fe_0242ac1c0002row16_col14\" class=\"data row16 col14\" >0.08</td>\n",
              "                        <td id=\"T_b9722156_7e31_11ec_88fe_0242ac1c0002row16_col15\" class=\"data row16 col15\" >0.07</td>\n",
              "                        <td id=\"T_b9722156_7e31_11ec_88fe_0242ac1c0002row16_col16\" class=\"data row16 col16\" >1.00</td>\n",
              "                        <td id=\"T_b9722156_7e31_11ec_88fe_0242ac1c0002row16_col17\" class=\"data row16 col17\" >-0.14</td>\n",
              "                        <td id=\"T_b9722156_7e31_11ec_88fe_0242ac1c0002row16_col18\" class=\"data row16 col18\" >-0.01</td>\n",
              "                        <td id=\"T_b9722156_7e31_11ec_88fe_0242ac1c0002row16_col19\" class=\"data row16 col19\" >0.00</td>\n",
              "                        <td id=\"T_b9722156_7e31_11ec_88fe_0242ac1c0002row16_col20\" class=\"data row16 col20\" >-0.02</td>\n",
              "                        <td id=\"T_b9722156_7e31_11ec_88fe_0242ac1c0002row16_col21\" class=\"data row16 col21\" >0.00</td>\n",
              "                        <td id=\"T_b9722156_7e31_11ec_88fe_0242ac1c0002row16_col22\" class=\"data row16 col22\" >-0.00</td>\n",
              "                        <td id=\"T_b9722156_7e31_11ec_88fe_0242ac1c0002row16_col23\" class=\"data row16 col23\" >-0.02</td>\n",
              "                        <td id=\"T_b9722156_7e31_11ec_88fe_0242ac1c0002row16_col24\" class=\"data row16 col24\" >-0.02</td>\n",
              "            </tr>\n",
              "            <tr>\n",
              "                        <th id=\"T_b9722156_7e31_11ec_88fe_0242ac1c0002level0_row17\" class=\"row_heading level0 row17\" >month</th>\n",
              "                        <td id=\"T_b9722156_7e31_11ec_88fe_0242ac1c0002row17_col0\" class=\"data row17 col0\" >-0.22</td>\n",
              "                        <td id=\"T_b9722156_7e31_11ec_88fe_0242ac1c0002row17_col1\" class=\"data row17 col1\" >-0.19</td>\n",
              "                        <td id=\"T_b9722156_7e31_11ec_88fe_0242ac1c0002row17_col2\" class=\"data row17 col2\" >-0.04</td>\n",
              "                        <td id=\"T_b9722156_7e31_11ec_88fe_0242ac1c0002row17_col3\" class=\"data row17 col3\" >-0.04</td>\n",
              "                        <td id=\"T_b9722156_7e31_11ec_88fe_0242ac1c0002row17_col4\" class=\"data row17 col4\" >0.02</td>\n",
              "                        <td id=\"T_b9722156_7e31_11ec_88fe_0242ac1c0002row17_col5\" class=\"data row17 col5\" >0.05</td>\n",
              "                        <td id=\"T_b9722156_7e31_11ec_88fe_0242ac1c0002row17_col6\" class=\"data row17 col6\" >0.04</td>\n",
              "                        <td id=\"T_b9722156_7e31_11ec_88fe_0242ac1c0002row17_col7\" class=\"data row17 col7\" >0.05</td>\n",
              "                        <td id=\"T_b9722156_7e31_11ec_88fe_0242ac1c0002row17_col8\" class=\"data row17 col8\" >-0.13</td>\n",
              "                        <td id=\"T_b9722156_7e31_11ec_88fe_0242ac1c0002row17_col9\" class=\"data row17 col9\" >-0.04</td>\n",
              "                        <td id=\"T_b9722156_7e31_11ec_88fe_0242ac1c0002row17_col10\" class=\"data row17 col10\" >0.03</td>\n",
              "                        <td id=\"T_b9722156_7e31_11ec_88fe_0242ac1c0002row17_col11\" class=\"data row17 col11\" >0.02</td>\n",
              "                        <td id=\"T_b9722156_7e31_11ec_88fe_0242ac1c0002row17_col12\" class=\"data row17 col12\" >-0.01</td>\n",
              "                        <td id=\"T_b9722156_7e31_11ec_88fe_0242ac1c0002row17_col13\" class=\"data row17 col13\" >0.00</td>\n",
              "                        <td id=\"T_b9722156_7e31_11ec_88fe_0242ac1c0002row17_col14\" class=\"data row17 col14\" >-0.15</td>\n",
              "                        <td id=\"T_b9722156_7e31_11ec_88fe_0242ac1c0002row17_col15\" class=\"data row17 col15\" >-0.21</td>\n",
              "                        <td id=\"T_b9722156_7e31_11ec_88fe_0242ac1c0002row17_col16\" class=\"data row17 col16\" >-0.14</td>\n",
              "                        <td id=\"T_b9722156_7e31_11ec_88fe_0242ac1c0002row17_col17\" class=\"data row17 col17\" >1.00</td>\n",
              "                        <td id=\"T_b9722156_7e31_11ec_88fe_0242ac1c0002row17_col18\" class=\"data row17 col18\" >0.01</td>\n",
              "                        <td id=\"T_b9722156_7e31_11ec_88fe_0242ac1c0002row17_col19\" class=\"data row17 col19\" >-0.01</td>\n",
              "                        <td id=\"T_b9722156_7e31_11ec_88fe_0242ac1c0002row17_col20\" class=\"data row17 col20\" >0.03</td>\n",
              "                        <td id=\"T_b9722156_7e31_11ec_88fe_0242ac1c0002row17_col21\" class=\"data row17 col21\" >0.01</td>\n",
              "                        <td id=\"T_b9722156_7e31_11ec_88fe_0242ac1c0002row17_col22\" class=\"data row17 col22\" >0.02</td>\n",
              "                        <td id=\"T_b9722156_7e31_11ec_88fe_0242ac1c0002row17_col23\" class=\"data row17 col23\" >0.00</td>\n",
              "                        <td id=\"T_b9722156_7e31_11ec_88fe_0242ac1c0002row17_col24\" class=\"data row17 col24\" >0.00</td>\n",
              "            </tr>\n",
              "            <tr>\n",
              "                        <th id=\"T_b9722156_7e31_11ec_88fe_0242ac1c0002level0_row18\" class=\"row_heading level0 row18\" >day</th>\n",
              "                        <td id=\"T_b9722156_7e31_11ec_88fe_0242ac1c0002row18_col0\" class=\"data row18 col0\" >0.01</td>\n",
              "                        <td id=\"T_b9722156_7e31_11ec_88fe_0242ac1c0002row18_col1\" class=\"data row18 col1\" >0.01</td>\n",
              "                        <td id=\"T_b9722156_7e31_11ec_88fe_0242ac1c0002row18_col2\" class=\"data row18 col2\" >0.00</td>\n",
              "                        <td id=\"T_b9722156_7e31_11ec_88fe_0242ac1c0002row18_col3\" class=\"data row18 col3\" >0.00</td>\n",
              "                        <td id=\"T_b9722156_7e31_11ec_88fe_0242ac1c0002row18_col4\" class=\"data row18 col4\" >0.00</td>\n",
              "                        <td id=\"T_b9722156_7e31_11ec_88fe_0242ac1c0002row18_col5\" class=\"data row18 col5\" >-0.00</td>\n",
              "                        <td id=\"T_b9722156_7e31_11ec_88fe_0242ac1c0002row18_col6\" class=\"data row18 col6\" >-0.01</td>\n",
              "                        <td id=\"T_b9722156_7e31_11ec_88fe_0242ac1c0002row18_col7\" class=\"data row18 col7\" >-0.01</td>\n",
              "                        <td id=\"T_b9722156_7e31_11ec_88fe_0242ac1c0002row18_col8\" class=\"data row18 col8\" >0.02</td>\n",
              "                        <td id=\"T_b9722156_7e31_11ec_88fe_0242ac1c0002row18_col9\" class=\"data row18 col9\" >0.02</td>\n",
              "                        <td id=\"T_b9722156_7e31_11ec_88fe_0242ac1c0002row18_col10\" class=\"data row18 col10\" >-0.02</td>\n",
              "                        <td id=\"T_b9722156_7e31_11ec_88fe_0242ac1c0002row18_col11\" class=\"data row18 col11\" >-0.02</td>\n",
              "                        <td id=\"T_b9722156_7e31_11ec_88fe_0242ac1c0002row18_col12\" class=\"data row18 col12\" >0.01</td>\n",
              "                        <td id=\"T_b9722156_7e31_11ec_88fe_0242ac1c0002row18_col13\" class=\"data row18 col13\" >0.00</td>\n",
              "                        <td id=\"T_b9722156_7e31_11ec_88fe_0242ac1c0002row18_col14\" class=\"data row18 col14\" >0.01</td>\n",
              "                        <td id=\"T_b9722156_7e31_11ec_88fe_0242ac1c0002row18_col15\" class=\"data row18 col15\" >0.00</td>\n",
              "                        <td id=\"T_b9722156_7e31_11ec_88fe_0242ac1c0002row18_col16\" class=\"data row18 col16\" >-0.01</td>\n",
              "                        <td id=\"T_b9722156_7e31_11ec_88fe_0242ac1c0002row18_col17\" class=\"data row18 col17\" >0.01</td>\n",
              "                        <td id=\"T_b9722156_7e31_11ec_88fe_0242ac1c0002row18_col18\" class=\"data row18 col18\" >1.00</td>\n",
              "                        <td id=\"T_b9722156_7e31_11ec_88fe_0242ac1c0002row18_col19\" class=\"data row18 col19\" >-0.00</td>\n",
              "                        <td id=\"T_b9722156_7e31_11ec_88fe_0242ac1c0002row18_col20\" class=\"data row18 col20\" >0.00</td>\n",
              "                        <td id=\"T_b9722156_7e31_11ec_88fe_0242ac1c0002row18_col21\" class=\"data row18 col21\" >-0.01</td>\n",
              "                        <td id=\"T_b9722156_7e31_11ec_88fe_0242ac1c0002row18_col22\" class=\"data row18 col22\" >-0.01</td>\n",
              "                        <td id=\"T_b9722156_7e31_11ec_88fe_0242ac1c0002row18_col23\" class=\"data row18 col23\" >0.01</td>\n",
              "                        <td id=\"T_b9722156_7e31_11ec_88fe_0242ac1c0002row18_col24\" class=\"data row18 col24\" >0.01</td>\n",
              "            </tr>\n",
              "            <tr>\n",
              "                        <th id=\"T_b9722156_7e31_11ec_88fe_0242ac1c0002level0_row19\" class=\"row_heading level0 row19\" >Location</th>\n",
              "                        <td id=\"T_b9722156_7e31_11ec_88fe_0242ac1c0002row19_col0\" class=\"data row19 col0\" >0.08</td>\n",
              "                        <td id=\"T_b9722156_7e31_11ec_88fe_0242ac1c0002row19_col1\" class=\"data row19 col1\" >-0.01</td>\n",
              "                        <td id=\"T_b9722156_7e31_11ec_88fe_0242ac1c0002row19_col2\" class=\"data row19 col2\" >0.03</td>\n",
              "                        <td id=\"T_b9722156_7e31_11ec_88fe_0242ac1c0002row19_col3\" class=\"data row19 col3\" >0.01</td>\n",
              "                        <td id=\"T_b9722156_7e31_11ec_88fe_0242ac1c0002row19_col4\" class=\"data row19 col4\" >-0.03</td>\n",
              "                        <td id=\"T_b9722156_7e31_11ec_88fe_0242ac1c0002row19_col5\" class=\"data row19 col5\" >0.12</td>\n",
              "                        <td id=\"T_b9722156_7e31_11ec_88fe_0242ac1c0002row19_col6\" class=\"data row19 col6\" >0.13</td>\n",
              "                        <td id=\"T_b9722156_7e31_11ec_88fe_0242ac1c0002row19_col7\" class=\"data row19 col7\" >0.07</td>\n",
              "                        <td id=\"T_b9722156_7e31_11ec_88fe_0242ac1c0002row19_col8\" class=\"data row19 col8\" >0.09</td>\n",
              "                        <td id=\"T_b9722156_7e31_11ec_88fe_0242ac1c0002row19_col9\" class=\"data row19 col9\" >0.09</td>\n",
              "                        <td id=\"T_b9722156_7e31_11ec_88fe_0242ac1c0002row19_col10\" class=\"data row19 col10\" >-0.03</td>\n",
              "                        <td id=\"T_b9722156_7e31_11ec_88fe_0242ac1c0002row19_col11\" class=\"data row19 col11\" >-0.02</td>\n",
              "                        <td id=\"T_b9722156_7e31_11ec_88fe_0242ac1c0002row19_col12\" class=\"data row19 col12\" >-0.11</td>\n",
              "                        <td id=\"T_b9722156_7e31_11ec_88fe_0242ac1c0002row19_col13\" class=\"data row19 col13\" >-0.10</td>\n",
              "                        <td id=\"T_b9722156_7e31_11ec_88fe_0242ac1c0002row19_col14\" class=\"data row19 col14\" >0.00</td>\n",
              "                        <td id=\"T_b9722156_7e31_11ec_88fe_0242ac1c0002row19_col15\" class=\"data row19 col15\" >-0.01</td>\n",
              "                        <td id=\"T_b9722156_7e31_11ec_88fe_0242ac1c0002row19_col16\" class=\"data row19 col16\" >0.00</td>\n",
              "                        <td id=\"T_b9722156_7e31_11ec_88fe_0242ac1c0002row19_col17\" class=\"data row19 col17\" >-0.01</td>\n",
              "                        <td id=\"T_b9722156_7e31_11ec_88fe_0242ac1c0002row19_col18\" class=\"data row19 col18\" >-0.00</td>\n",
              "                        <td id=\"T_b9722156_7e31_11ec_88fe_0242ac1c0002row19_col19\" class=\"data row19 col19\" >1.00</td>\n",
              "                        <td id=\"T_b9722156_7e31_11ec_88fe_0242ac1c0002row19_col20\" class=\"data row19 col20\" >0.12</td>\n",
              "                        <td id=\"T_b9722156_7e31_11ec_88fe_0242ac1c0002row19_col21\" class=\"data row19 col21\" >0.02</td>\n",
              "                        <td id=\"T_b9722156_7e31_11ec_88fe_0242ac1c0002row19_col22\" class=\"data row19 col22\" >-0.03</td>\n",
              "                        <td id=\"T_b9722156_7e31_11ec_88fe_0242ac1c0002row19_col23\" class=\"data row19 col23\" >0.02</td>\n",
              "                        <td id=\"T_b9722156_7e31_11ec_88fe_0242ac1c0002row19_col24\" class=\"data row19 col24\" >0.02</td>\n",
              "            </tr>\n",
              "            <tr>\n",
              "                        <th id=\"T_b9722156_7e31_11ec_88fe_0242ac1c0002level0_row20\" class=\"row_heading level0 row20\" >WindGustDir</th>\n",
              "                        <td id=\"T_b9722156_7e31_11ec_88fe_0242ac1c0002row20_col0\" class=\"data row20 col0\" >-0.11</td>\n",
              "                        <td id=\"T_b9722156_7e31_11ec_88fe_0242ac1c0002row20_col1\" class=\"data row20 col1\" >-0.16</td>\n",
              "                        <td id=\"T_b9722156_7e31_11ec_88fe_0242ac1c0002row20_col2\" class=\"data row20 col2\" >0.02</td>\n",
              "                        <td id=\"T_b9722156_7e31_11ec_88fe_0242ac1c0002row20_col3\" class=\"data row20 col3\" >-0.06</td>\n",
              "                        <td id=\"T_b9722156_7e31_11ec_88fe_0242ac1c0002row20_col4\" class=\"data row20 col4\" >-0.02</td>\n",
              "                        <td id=\"T_b9722156_7e31_11ec_88fe_0242ac1c0002row20_col5\" class=\"data row20 col5\" >0.09</td>\n",
              "                        <td id=\"T_b9722156_7e31_11ec_88fe_0242ac1c0002row20_col6\" class=\"data row20 col6\" >0.01</td>\n",
              "                        <td id=\"T_b9722156_7e31_11ec_88fe_0242ac1c0002row20_col7\" class=\"data row20 col7\" >0.04</td>\n",
              "                        <td id=\"T_b9722156_7e31_11ec_88fe_0242ac1c0002row20_col8\" class=\"data row20 col8\" >0.03</td>\n",
              "                        <td id=\"T_b9722156_7e31_11ec_88fe_0242ac1c0002row20_col9\" class=\"data row20 col9\" >-0.01</td>\n",
              "                        <td id=\"T_b9722156_7e31_11ec_88fe_0242ac1c0002row20_col10\" class=\"data row20 col10\" >-0.11</td>\n",
              "                        <td id=\"T_b9722156_7e31_11ec_88fe_0242ac1c0002row20_col11\" class=\"data row20 col11\" >-0.04</td>\n",
              "                        <td id=\"T_b9722156_7e31_11ec_88fe_0242ac1c0002row20_col12\" class=\"data row20 col12\" >-0.02</td>\n",
              "                        <td id=\"T_b9722156_7e31_11ec_88fe_0242ac1c0002row20_col13\" class=\"data row20 col13\" >0.01</td>\n",
              "                        <td id=\"T_b9722156_7e31_11ec_88fe_0242ac1c0002row20_col14\" class=\"data row20 col14\" >-0.15</td>\n",
              "                        <td id=\"T_b9722156_7e31_11ec_88fe_0242ac1c0002row20_col15\" class=\"data row20 col15\" >-0.17</td>\n",
              "                        <td id=\"T_b9722156_7e31_11ec_88fe_0242ac1c0002row20_col16\" class=\"data row20 col16\" >-0.02</td>\n",
              "                        <td id=\"T_b9722156_7e31_11ec_88fe_0242ac1c0002row20_col17\" class=\"data row20 col17\" >0.03</td>\n",
              "                        <td id=\"T_b9722156_7e31_11ec_88fe_0242ac1c0002row20_col18\" class=\"data row20 col18\" >0.00</td>\n",
              "                        <td id=\"T_b9722156_7e31_11ec_88fe_0242ac1c0002row20_col19\" class=\"data row20 col19\" >0.12</td>\n",
              "                        <td id=\"T_b9722156_7e31_11ec_88fe_0242ac1c0002row20_col20\" class=\"data row20 col20\" >1.00</td>\n",
              "                        <td id=\"T_b9722156_7e31_11ec_88fe_0242ac1c0002row20_col21\" class=\"data row20 col21\" >0.23</td>\n",
              "                        <td id=\"T_b9722156_7e31_11ec_88fe_0242ac1c0002row20_col22\" class=\"data row20 col22\" >0.55</td>\n",
              "                        <td id=\"T_b9722156_7e31_11ec_88fe_0242ac1c0002row20_col23\" class=\"data row20 col23\" >0.09</td>\n",
              "                        <td id=\"T_b9722156_7e31_11ec_88fe_0242ac1c0002row20_col24\" class=\"data row20 col24\" >0.02</td>\n",
              "            </tr>\n",
              "            <tr>\n",
              "                        <th id=\"T_b9722156_7e31_11ec_88fe_0242ac1c0002level0_row21\" class=\"row_heading level0 row21\" >WindDir9am</th>\n",
              "                        <td id=\"T_b9722156_7e31_11ec_88fe_0242ac1c0002row21_col0\" class=\"data row21 col0\" >-0.02</td>\n",
              "                        <td id=\"T_b9722156_7e31_11ec_88fe_0242ac1c0002row21_col1\" class=\"data row21 col1\" >-0.16</td>\n",
              "                        <td id=\"T_b9722156_7e31_11ec_88fe_0242ac1c0002row21_col2\" class=\"data row21 col2\" >0.05</td>\n",
              "                        <td id=\"T_b9722156_7e31_11ec_88fe_0242ac1c0002row21_col3\" class=\"data row21 col3\" >-0.08</td>\n",
              "                        <td id=\"T_b9722156_7e31_11ec_88fe_0242ac1c0002row21_col4\" class=\"data row21 col4\" >-0.05</td>\n",
              "                        <td id=\"T_b9722156_7e31_11ec_88fe_0242ac1c0002row21_col5\" class=\"data row21 col5\" >-0.01</td>\n",
              "                        <td id=\"T_b9722156_7e31_11ec_88fe_0242ac1c0002row21_col6\" class=\"data row21 col6\" >0.12</td>\n",
              "                        <td id=\"T_b9722156_7e31_11ec_88fe_0242ac1c0002row21_col7\" class=\"data row21 col7\" >0.05</td>\n",
              "                        <td id=\"T_b9722156_7e31_11ec_88fe_0242ac1c0002row21_col8\" class=\"data row21 col8\" >0.01</td>\n",
              "                        <td id=\"T_b9722156_7e31_11ec_88fe_0242ac1c0002row21_col9\" class=\"data row21 col9\" >0.06</td>\n",
              "                        <td id=\"T_b9722156_7e31_11ec_88fe_0242ac1c0002row21_col10\" class=\"data row21 col10\" >-0.00</td>\n",
              "                        <td id=\"T_b9722156_7e31_11ec_88fe_0242ac1c0002row21_col11\" class=\"data row21 col11\" >0.05</td>\n",
              "                        <td id=\"T_b9722156_7e31_11ec_88fe_0242ac1c0002row21_col12\" class=\"data row21 col12\" >-0.00</td>\n",
              "                        <td id=\"T_b9722156_7e31_11ec_88fe_0242ac1c0002row21_col13\" class=\"data row21 col13\" >-0.01</td>\n",
              "                        <td id=\"T_b9722156_7e31_11ec_88fe_0242ac1c0002row21_col14\" class=\"data row21 col14\" >-0.09</td>\n",
              "                        <td id=\"T_b9722156_7e31_11ec_88fe_0242ac1c0002row21_col15\" class=\"data row21 col15\" >-0.16</td>\n",
              "                        <td id=\"T_b9722156_7e31_11ec_88fe_0242ac1c0002row21_col16\" class=\"data row21 col16\" >0.00</td>\n",
              "                        <td id=\"T_b9722156_7e31_11ec_88fe_0242ac1c0002row21_col17\" class=\"data row21 col17\" >0.01</td>\n",
              "                        <td id=\"T_b9722156_7e31_11ec_88fe_0242ac1c0002row21_col18\" class=\"data row21 col18\" >-0.01</td>\n",
              "                        <td id=\"T_b9722156_7e31_11ec_88fe_0242ac1c0002row21_col19\" class=\"data row21 col19\" >0.02</td>\n",
              "                        <td id=\"T_b9722156_7e31_11ec_88fe_0242ac1c0002row21_col20\" class=\"data row21 col20\" >0.23</td>\n",
              "                        <td id=\"T_b9722156_7e31_11ec_88fe_0242ac1c0002row21_col21\" class=\"data row21 col21\" >1.00</td>\n",
              "                        <td id=\"T_b9722156_7e31_11ec_88fe_0242ac1c0002row21_col22\" class=\"data row21 col22\" >0.12</td>\n",
              "                        <td id=\"T_b9722156_7e31_11ec_88fe_0242ac1c0002row21_col23\" class=\"data row21 col23\" >0.10</td>\n",
              "                        <td id=\"T_b9722156_7e31_11ec_88fe_0242ac1c0002row21_col24\" class=\"data row21 col24\" >-0.01</td>\n",
              "            </tr>\n",
              "            <tr>\n",
              "                        <th id=\"T_b9722156_7e31_11ec_88fe_0242ac1c0002level0_row22\" class=\"row_heading level0 row22\" >WindDir3pm</th>\n",
              "                        <td id=\"T_b9722156_7e31_11ec_88fe_0242ac1c0002row22_col0\" class=\"data row22 col0\" >-0.16</td>\n",
              "                        <td id=\"T_b9722156_7e31_11ec_88fe_0242ac1c0002row22_col1\" class=\"data row22 col1\" >-0.14</td>\n",
              "                        <td id=\"T_b9722156_7e31_11ec_88fe_0242ac1c0002row22_col2\" class=\"data row22 col2\" >0.02</td>\n",
              "                        <td id=\"T_b9722156_7e31_11ec_88fe_0242ac1c0002row22_col3\" class=\"data row22 col3\" >-0.02</td>\n",
              "                        <td id=\"T_b9722156_7e31_11ec_88fe_0242ac1c0002row22_col4\" class=\"data row22 col4\" >0.00</td>\n",
              "                        <td id=\"T_b9722156_7e31_11ec_88fe_0242ac1c0002row22_col5\" class=\"data row22 col5\" >0.12</td>\n",
              "                        <td id=\"T_b9722156_7e31_11ec_88fe_0242ac1c0002row22_col6\" class=\"data row22 col6\" >0.03</td>\n",
              "                        <td id=\"T_b9722156_7e31_11ec_88fe_0242ac1c0002row22_col7\" class=\"data row22 col7\" >0.05</td>\n",
              "                        <td id=\"T_b9722156_7e31_11ec_88fe_0242ac1c0002row22_col8\" class=\"data row22 col8\" >-0.04</td>\n",
              "                        <td id=\"T_b9722156_7e31_11ec_88fe_0242ac1c0002row22_col9\" class=\"data row22 col9\" >-0.13</td>\n",
              "                        <td id=\"T_b9722156_7e31_11ec_88fe_0242ac1c0002row22_col10\" class=\"data row22 col10\" >-0.13</td>\n",
              "                        <td id=\"T_b9722156_7e31_11ec_88fe_0242ac1c0002row22_col11\" class=\"data row22 col11\" >-0.05</td>\n",
              "                        <td id=\"T_b9722156_7e31_11ec_88fe_0242ac1c0002row22_col12\" class=\"data row22 col12\" >-0.00</td>\n",
              "                        <td id=\"T_b9722156_7e31_11ec_88fe_0242ac1c0002row22_col13\" class=\"data row22 col13\" >0.02</td>\n",
              "                        <td id=\"T_b9722156_7e31_11ec_88fe_0242ac1c0002row22_col14\" class=\"data row22 col14\" >-0.17</td>\n",
              "                        <td id=\"T_b9722156_7e31_11ec_88fe_0242ac1c0002row22_col15\" class=\"data row22 col15\" >-0.14</td>\n",
              "                        <td id=\"T_b9722156_7e31_11ec_88fe_0242ac1c0002row22_col16\" class=\"data row22 col16\" >-0.00</td>\n",
              "                        <td id=\"T_b9722156_7e31_11ec_88fe_0242ac1c0002row22_col17\" class=\"data row22 col17\" >0.02</td>\n",
              "                        <td id=\"T_b9722156_7e31_11ec_88fe_0242ac1c0002row22_col18\" class=\"data row22 col18\" >-0.01</td>\n",
              "                        <td id=\"T_b9722156_7e31_11ec_88fe_0242ac1c0002row22_col19\" class=\"data row22 col19\" >-0.03</td>\n",
              "                        <td id=\"T_b9722156_7e31_11ec_88fe_0242ac1c0002row22_col20\" class=\"data row22 col20\" >0.55</td>\n",
              "                        <td id=\"T_b9722156_7e31_11ec_88fe_0242ac1c0002row22_col21\" class=\"data row22 col21\" >0.12</td>\n",
              "                        <td id=\"T_b9722156_7e31_11ec_88fe_0242ac1c0002row22_col22\" class=\"data row22 col22\" >1.00</td>\n",
              "                        <td id=\"T_b9722156_7e31_11ec_88fe_0242ac1c0002row22_col23\" class=\"data row22 col23\" >0.07</td>\n",
              "                        <td id=\"T_b9722156_7e31_11ec_88fe_0242ac1c0002row22_col24\" class=\"data row22 col24\" >0.00</td>\n",
              "            </tr>\n",
              "            <tr>\n",
              "                        <th id=\"T_b9722156_7e31_11ec_88fe_0242ac1c0002level0_row23\" class=\"row_heading level0 row23\" >RainToday</th>\n",
              "                        <td id=\"T_b9722156_7e31_11ec_88fe_0242ac1c0002row23_col0\" class=\"data row23 col0\" >0.08</td>\n",
              "                        <td id=\"T_b9722156_7e31_11ec_88fe_0242ac1c0002row23_col1\" class=\"data row23 col1\" >-0.20</td>\n",
              "                        <td id=\"T_b9722156_7e31_11ec_88fe_0242ac1c0002row23_col2\" class=\"data row23 col2\" >0.51</td>\n",
              "                        <td id=\"T_b9722156_7e31_11ec_88fe_0242ac1c0002row23_col3\" class=\"data row23 col3\" >-0.16</td>\n",
              "                        <td id=\"T_b9722156_7e31_11ec_88fe_0242ac1c0002row23_col4\" class=\"data row23 col4\" >-0.24</td>\n",
              "                        <td id=\"T_b9722156_7e31_11ec_88fe_0242ac1c0002row23_col5\" class=\"data row23 col5\" >0.13</td>\n",
              "                        <td id=\"T_b9722156_7e31_11ec_88fe_0242ac1c0002row23_col6\" class=\"data row23 col6\" >0.09</td>\n",
              "                        <td id=\"T_b9722156_7e31_11ec_88fe_0242ac1c0002row23_col7\" class=\"data row23 col7\" >0.04</td>\n",
              "                        <td id=\"T_b9722156_7e31_11ec_88fe_0242ac1c0002row23_col8\" class=\"data row23 col8\" >0.37</td>\n",
              "                        <td id=\"T_b9722156_7e31_11ec_88fe_0242ac1c0002row23_col9\" class=\"data row23 col9\" >0.34</td>\n",
              "                        <td id=\"T_b9722156_7e31_11ec_88fe_0242ac1c0002row23_col10\" class=\"data row23 col10\" >-0.15</td>\n",
              "                        <td id=\"T_b9722156_7e31_11ec_88fe_0242ac1c0002row23_col11\" class=\"data row23 col11\" >-0.08</td>\n",
              "                        <td id=\"T_b9722156_7e31_11ec_88fe_0242ac1c0002row23_col12\" class=\"data row23 col12\" >0.24</td>\n",
              "                        <td id=\"T_b9722156_7e31_11ec_88fe_0242ac1c0002row23_col13\" class=\"data row23 col13\" >0.20</td>\n",
              "                        <td id=\"T_b9722156_7e31_11ec_88fe_0242ac1c0002row23_col14\" class=\"data row23 col14\" >-0.06</td>\n",
              "                        <td id=\"T_b9722156_7e31_11ec_88fe_0242ac1c0002row23_col15\" class=\"data row23 col15\" >-0.20</td>\n",
              "                        <td id=\"T_b9722156_7e31_11ec_88fe_0242ac1c0002row23_col16\" class=\"data row23 col16\" >-0.02</td>\n",
              "                        <td id=\"T_b9722156_7e31_11ec_88fe_0242ac1c0002row23_col17\" class=\"data row23 col17\" >0.00</td>\n",
              "                        <td id=\"T_b9722156_7e31_11ec_88fe_0242ac1c0002row23_col18\" class=\"data row23 col18\" >0.01</td>\n",
              "                        <td id=\"T_b9722156_7e31_11ec_88fe_0242ac1c0002row23_col19\" class=\"data row23 col19\" >0.02</td>\n",
              "                        <td id=\"T_b9722156_7e31_11ec_88fe_0242ac1c0002row23_col20\" class=\"data row23 col20\" >0.09</td>\n",
              "                        <td id=\"T_b9722156_7e31_11ec_88fe_0242ac1c0002row23_col21\" class=\"data row23 col21\" >0.10</td>\n",
              "                        <td id=\"T_b9722156_7e31_11ec_88fe_0242ac1c0002row23_col22\" class=\"data row23 col22\" >0.07</td>\n",
              "                        <td id=\"T_b9722156_7e31_11ec_88fe_0242ac1c0002row23_col23\" class=\"data row23 col23\" >1.00</td>\n",
              "                        <td id=\"T_b9722156_7e31_11ec_88fe_0242ac1c0002row23_col24\" class=\"data row23 col24\" >0.30</td>\n",
              "            </tr>\n",
              "            <tr>\n",
              "                        <th id=\"T_b9722156_7e31_11ec_88fe_0242ac1c0002level0_row24\" class=\"row_heading level0 row24\" >RainTomorrow</th>\n",
              "                        <td id=\"T_b9722156_7e31_11ec_88fe_0242ac1c0002row24_col0\" class=\"data row24 col0\" >0.11</td>\n",
              "                        <td id=\"T_b9722156_7e31_11ec_88fe_0242ac1c0002row24_col1\" class=\"data row24 col1\" >-0.12</td>\n",
              "                        <td id=\"T_b9722156_7e31_11ec_88fe_0242ac1c0002row24_col2\" class=\"data row24 col2\" >0.22</td>\n",
              "                        <td id=\"T_b9722156_7e31_11ec_88fe_0242ac1c0002row24_col3\" class=\"data row24 col3\" >-0.08</td>\n",
              "                        <td id=\"T_b9722156_7e31_11ec_88fe_0242ac1c0002row24_col4\" class=\"data row24 col4\" >-0.34</td>\n",
              "                        <td id=\"T_b9722156_7e31_11ec_88fe_0242ac1c0002row24_col5\" class=\"data row24 col5\" >0.19</td>\n",
              "                        <td id=\"T_b9722156_7e31_11ec_88fe_0242ac1c0002row24_col6\" class=\"data row24 col6\" >0.07</td>\n",
              "                        <td id=\"T_b9722156_7e31_11ec_88fe_0242ac1c0002row24_col7\" class=\"data row24 col7\" >0.03</td>\n",
              "                        <td id=\"T_b9722156_7e31_11ec_88fe_0242ac1c0002row24_col8\" class=\"data row24 col8\" >0.26</td>\n",
              "                        <td id=\"T_b9722156_7e31_11ec_88fe_0242ac1c0002row24_col9\" class=\"data row24 col9\" >0.43</td>\n",
              "                        <td id=\"T_b9722156_7e31_11ec_88fe_0242ac1c0002row24_col10\" class=\"data row24 col10\" >-0.18</td>\n",
              "                        <td id=\"T_b9722156_7e31_11ec_88fe_0242ac1c0002row24_col11\" class=\"data row24 col11\" >-0.17</td>\n",
              "                        <td id=\"T_b9722156_7e31_11ec_88fe_0242ac1c0002row24_col12\" class=\"data row24 col12\" >0.25</td>\n",
              "                        <td id=\"T_b9722156_7e31_11ec_88fe_0242ac1c0002row24_col13\" class=\"data row24 col13\" >0.31</td>\n",
              "                        <td id=\"T_b9722156_7e31_11ec_88fe_0242ac1c0002row24_col14\" class=\"data row24 col14\" >0.01</td>\n",
              "                        <td id=\"T_b9722156_7e31_11ec_88fe_0242ac1c0002row24_col15\" class=\"data row24 col15\" >-0.16</td>\n",
              "                        <td id=\"T_b9722156_7e31_11ec_88fe_0242ac1c0002row24_col16\" class=\"data row24 col16\" >-0.02</td>\n",
              "                        <td id=\"T_b9722156_7e31_11ec_88fe_0242ac1c0002row24_col17\" class=\"data row24 col17\" >0.00</td>\n",
              "                        <td id=\"T_b9722156_7e31_11ec_88fe_0242ac1c0002row24_col18\" class=\"data row24 col18\" >0.01</td>\n",
              "                        <td id=\"T_b9722156_7e31_11ec_88fe_0242ac1c0002row24_col19\" class=\"data row24 col19\" >0.02</td>\n",
              "                        <td id=\"T_b9722156_7e31_11ec_88fe_0242ac1c0002row24_col20\" class=\"data row24 col20\" >0.02</td>\n",
              "                        <td id=\"T_b9722156_7e31_11ec_88fe_0242ac1c0002row24_col21\" class=\"data row24 col21\" >-0.01</td>\n",
              "                        <td id=\"T_b9722156_7e31_11ec_88fe_0242ac1c0002row24_col22\" class=\"data row24 col22\" >0.00</td>\n",
              "                        <td id=\"T_b9722156_7e31_11ec_88fe_0242ac1c0002row24_col23\" class=\"data row24 col23\" >0.30</td>\n",
              "                        <td id=\"T_b9722156_7e31_11ec_88fe_0242ac1c0002row24_col24\" class=\"data row24 col24\" >1.00</td>\n",
              "            </tr>\n",
              "    </tbody></table>"
            ],
            "text/plain": [
              "<pandas.io.formats.style.Styler at 0x7fc41e3eef10>"
            ]
          },
          "metadata": {},
          "execution_count": 35
        },
        {
          "output_type": "display_data",
          "data": {
            "text/plain": [
              "<Figure size 1872x1872 with 0 Axes>"
            ]
          },
          "metadata": {}
        }
      ]
    },
    {
      "cell_type": "code",
      "source": [
        "df.head()"
      ],
      "metadata": {
        "id": "7B2Sca_Je4Fn",
        "outputId": "58dc7199-5a4f-4ef0-bd92-2cd3cdd9d585",
        "colab": {
          "base_uri": "https://localhost:8080/",
          "height": 270
        }
      },
      "execution_count": 39,
      "outputs": [
        {
          "output_type": "execute_result",
          "data": {
            "text/html": [
              "\n",
              "  <div id=\"df-3c974733-c9ce-485c-abcc-0b9670994335\">\n",
              "    <div class=\"colab-df-container\">\n",
              "      <div>\n",
              "<style scoped>\n",
              "    .dataframe tbody tr th:only-of-type {\n",
              "        vertical-align: middle;\n",
              "    }\n",
              "\n",
              "    .dataframe tbody tr th {\n",
              "        vertical-align: top;\n",
              "    }\n",
              "\n",
              "    .dataframe thead th {\n",
              "        text-align: right;\n",
              "    }\n",
              "</style>\n",
              "<table border=\"1\" class=\"dataframe\">\n",
              "  <thead>\n",
              "    <tr style=\"text-align: right;\">\n",
              "      <th></th>\n",
              "      <th>MinTemp</th>\n",
              "      <th>MaxTemp</th>\n",
              "      <th>Rainfall</th>\n",
              "      <th>Evaporation</th>\n",
              "      <th>Sunshine</th>\n",
              "      <th>WindGustSpeed</th>\n",
              "      <th>WindSpeed9am</th>\n",
              "      <th>WindSpeed3pm</th>\n",
              "      <th>Humidity9am</th>\n",
              "      <th>Humidity3pm</th>\n",
              "      <th>Pressure9am</th>\n",
              "      <th>Pressure3pm</th>\n",
              "      <th>Cloud9am</th>\n",
              "      <th>Cloud3pm</th>\n",
              "      <th>Temp9am</th>\n",
              "      <th>Temp3pm</th>\n",
              "      <th>year</th>\n",
              "      <th>month</th>\n",
              "      <th>day</th>\n",
              "      <th>Location</th>\n",
              "      <th>WindGustDir</th>\n",
              "      <th>WindDir9am</th>\n",
              "      <th>WindDir3pm</th>\n",
              "      <th>RainToday</th>\n",
              "      <th>RainTomorrow</th>\n",
              "    </tr>\n",
              "  </thead>\n",
              "  <tbody>\n",
              "    <tr>\n",
              "      <th>0</th>\n",
              "      <td>13.2</td>\n",
              "      <td>23.5</td>\n",
              "      <td>0.0</td>\n",
              "      <td>4.6</td>\n",
              "      <td>8.5</td>\n",
              "      <td>37.0</td>\n",
              "      <td>6.0</td>\n",
              "      <td>19.0</td>\n",
              "      <td>50.0</td>\n",
              "      <td>24.0</td>\n",
              "      <td>1018.2</td>\n",
              "      <td>1015.8</td>\n",
              "      <td>3.0</td>\n",
              "      <td>4.0</td>\n",
              "      <td>21.8</td>\n",
              "      <td>30.6</td>\n",
              "      <td>2008</td>\n",
              "      <td>12</td>\n",
              "      <td>1</td>\n",
              "      <td>5</td>\n",
              "      <td>10</td>\n",
              "      <td>7</td>\n",
              "      <td>7</td>\n",
              "      <td>0</td>\n",
              "      <td>0</td>\n",
              "    </tr>\n",
              "    <tr>\n",
              "      <th>1</th>\n",
              "      <td>13.5</td>\n",
              "      <td>32.2</td>\n",
              "      <td>0.0</td>\n",
              "      <td>4.6</td>\n",
              "      <td>8.5</td>\n",
              "      <td>37.0</td>\n",
              "      <td>11.0</td>\n",
              "      <td>19.0</td>\n",
              "      <td>67.0</td>\n",
              "      <td>59.0</td>\n",
              "      <td>1018.2</td>\n",
              "      <td>1015.8</td>\n",
              "      <td>5.0</td>\n",
              "      <td>0.0</td>\n",
              "      <td>17.8</td>\n",
              "      <td>25.4</td>\n",
              "      <td>2008</td>\n",
              "      <td>12</td>\n",
              "      <td>2</td>\n",
              "      <td>5</td>\n",
              "      <td>10</td>\n",
              "      <td>3</td>\n",
              "      <td>4</td>\n",
              "      <td>0</td>\n",
              "      <td>0</td>\n",
              "    </tr>\n",
              "    <tr>\n",
              "      <th>2</th>\n",
              "      <td>16.2</td>\n",
              "      <td>32.2</td>\n",
              "      <td>0.0</td>\n",
              "      <td>4.6</td>\n",
              "      <td>8.5</td>\n",
              "      <td>37.0</td>\n",
              "      <td>2.0</td>\n",
              "      <td>2.0</td>\n",
              "      <td>74.0</td>\n",
              "      <td>26.0</td>\n",
              "      <td>1018.2</td>\n",
              "      <td>1015.8</td>\n",
              "      <td>4.0</td>\n",
              "      <td>4.0</td>\n",
              "      <td>22.2</td>\n",
              "      <td>32.0</td>\n",
              "      <td>2008</td>\n",
              "      <td>12</td>\n",
              "      <td>3</td>\n",
              "      <td>5</td>\n",
              "      <td>10</td>\n",
              "      <td>3</td>\n",
              "      <td>9</td>\n",
              "      <td>0</td>\n",
              "      <td>0</td>\n",
              "    </tr>\n",
              "    <tr>\n",
              "      <th>3</th>\n",
              "      <td>19.2</td>\n",
              "      <td>24.0</td>\n",
              "      <td>0.0</td>\n",
              "      <td>4.6</td>\n",
              "      <td>8.5</td>\n",
              "      <td>37.0</td>\n",
              "      <td>22.0</td>\n",
              "      <td>22.0</td>\n",
              "      <td>66.0</td>\n",
              "      <td>61.0</td>\n",
              "      <td>1018.2</td>\n",
              "      <td>1015.8</td>\n",
              "      <td>7.0</td>\n",
              "      <td>5.0</td>\n",
              "      <td>20.4</td>\n",
              "      <td>23.0</td>\n",
              "      <td>2008</td>\n",
              "      <td>12</td>\n",
              "      <td>4</td>\n",
              "      <td>5</td>\n",
              "      <td>10</td>\n",
              "      <td>9</td>\n",
              "      <td>9</td>\n",
              "      <td>0</td>\n",
              "      <td>0</td>\n",
              "    </tr>\n",
              "    <tr>\n",
              "      <th>4</th>\n",
              "      <td>18.8</td>\n",
              "      <td>30.2</td>\n",
              "      <td>0.0</td>\n",
              "      <td>4.6</td>\n",
              "      <td>8.5</td>\n",
              "      <td>37.0</td>\n",
              "      <td>4.0</td>\n",
              "      <td>17.0</td>\n",
              "      <td>85.0</td>\n",
              "      <td>52.0</td>\n",
              "      <td>1018.2</td>\n",
              "      <td>1015.8</td>\n",
              "      <td>8.0</td>\n",
              "      <td>5.0</td>\n",
              "      <td>20.0</td>\n",
              "      <td>21.9</td>\n",
              "      <td>2008</td>\n",
              "      <td>12</td>\n",
              "      <td>5</td>\n",
              "      <td>5</td>\n",
              "      <td>10</td>\n",
              "      <td>4</td>\n",
              "      <td>9</td>\n",
              "      <td>0</td>\n",
              "      <td>0</td>\n",
              "    </tr>\n",
              "  </tbody>\n",
              "</table>\n",
              "</div>\n",
              "      <button class=\"colab-df-convert\" onclick=\"convertToInteractive('df-3c974733-c9ce-485c-abcc-0b9670994335')\"\n",
              "              title=\"Convert this dataframe to an interactive table.\"\n",
              "              style=\"display:none;\">\n",
              "        \n",
              "  <svg xmlns=\"http://www.w3.org/2000/svg\" height=\"24px\"viewBox=\"0 0 24 24\"\n",
              "       width=\"24px\">\n",
              "    <path d=\"M0 0h24v24H0V0z\" fill=\"none\"/>\n",
              "    <path d=\"M18.56 5.44l.94 2.06.94-2.06 2.06-.94-2.06-.94-.94-2.06-.94 2.06-2.06.94zm-11 1L8.5 8.5l.94-2.06 2.06-.94-2.06-.94L8.5 2.5l-.94 2.06-2.06.94zm10 10l.94 2.06.94-2.06 2.06-.94-2.06-.94-.94-2.06-.94 2.06-2.06.94z\"/><path d=\"M17.41 7.96l-1.37-1.37c-.4-.4-.92-.59-1.43-.59-.52 0-1.04.2-1.43.59L10.3 9.45l-7.72 7.72c-.78.78-.78 2.05 0 2.83L4 21.41c.39.39.9.59 1.41.59.51 0 1.02-.2 1.41-.59l7.78-7.78 2.81-2.81c.8-.78.8-2.07 0-2.86zM5.41 20L4 18.59l7.72-7.72 1.47 1.35L5.41 20z\"/>\n",
              "  </svg>\n",
              "      </button>\n",
              "      \n",
              "  <style>\n",
              "    .colab-df-container {\n",
              "      display:flex;\n",
              "      flex-wrap:wrap;\n",
              "      gap: 12px;\n",
              "    }\n",
              "\n",
              "    .colab-df-convert {\n",
              "      background-color: #E8F0FE;\n",
              "      border: none;\n",
              "      border-radius: 50%;\n",
              "      cursor: pointer;\n",
              "      display: none;\n",
              "      fill: #1967D2;\n",
              "      height: 32px;\n",
              "      padding: 0 0 0 0;\n",
              "      width: 32px;\n",
              "    }\n",
              "\n",
              "    .colab-df-convert:hover {\n",
              "      background-color: #E2EBFA;\n",
              "      box-shadow: 0px 1px 2px rgba(60, 64, 67, 0.3), 0px 1px 3px 1px rgba(60, 64, 67, 0.15);\n",
              "      fill: #174EA6;\n",
              "    }\n",
              "\n",
              "    [theme=dark] .colab-df-convert {\n",
              "      background-color: #3B4455;\n",
              "      fill: #D2E3FC;\n",
              "    }\n",
              "\n",
              "    [theme=dark] .colab-df-convert:hover {\n",
              "      background-color: #434B5C;\n",
              "      box-shadow: 0px 1px 3px 1px rgba(0, 0, 0, 0.15);\n",
              "      filter: drop-shadow(0px 1px 2px rgba(0, 0, 0, 0.3));\n",
              "      fill: #FFFFFF;\n",
              "    }\n",
              "  </style>\n",
              "\n",
              "      <script>\n",
              "        const buttonEl =\n",
              "          document.querySelector('#df-3c974733-c9ce-485c-abcc-0b9670994335 button.colab-df-convert');\n",
              "        buttonEl.style.display =\n",
              "          google.colab.kernel.accessAllowed ? 'block' : 'none';\n",
              "\n",
              "        async function convertToInteractive(key) {\n",
              "          const element = document.querySelector('#df-3c974733-c9ce-485c-abcc-0b9670994335');\n",
              "          const dataTable =\n",
              "            await google.colab.kernel.invokeFunction('convertToInteractive',\n",
              "                                                     [key], {});\n",
              "          if (!dataTable) return;\n",
              "\n",
              "          const docLinkHtml = 'Like what you see? Visit the ' +\n",
              "            '<a target=\"_blank\" href=https://colab.research.google.com/notebooks/data_table.ipynb>data table notebook</a>'\n",
              "            + ' to learn more about interactive tables.';\n",
              "          element.innerHTML = '';\n",
              "          dataTable['output_type'] = 'display_data';\n",
              "          await google.colab.output.renderOutput(dataTable, element);\n",
              "          const docLink = document.createElement('div');\n",
              "          docLink.innerHTML = docLinkHtml;\n",
              "          element.appendChild(docLink);\n",
              "        }\n",
              "      </script>\n",
              "    </div>\n",
              "  </div>\n",
              "  "
            ],
            "text/plain": [
              "   MinTemp  MaxTemp  Rainfall  ...  WindDir3pm  RainToday  RainTomorrow\n",
              "0     13.2     23.5       0.0  ...           7          0             0\n",
              "1     13.5     32.2       0.0  ...           4          0             0\n",
              "2     16.2     32.2       0.0  ...           9          0             0\n",
              "3     19.2     24.0       0.0  ...           9          0             0\n",
              "4     18.8     30.2       0.0  ...           9          0             0\n",
              "\n",
              "[5 rows x 25 columns]"
            ]
          },
          "metadata": {},
          "execution_count": 39
        }
      ]
    },
    {
      "cell_type": "markdown",
      "source": [
        "à premiere vue il y a plusieure (rectangles de même couleurs rouges ) justifiant qu'il y a une grosses corélation entres les variables:\n",
        "\n",
        "\n",
        "*   Temp9am, MinTemp\n",
        "*   Temp3pm, MaxTemp,\n",
        "concernant les temperature est logique vue que les temperatures les basses sont souvent le matin et les temperatures sont souvent vers midi\n",
        "*   Pressure9am et Pressure3pm \n",
        "\n",
        "\n"
      ],
      "metadata": {
        "id": "HvhZKKwfXj5E"
      }
    },
    {
      "cell_type": "markdown",
      "metadata": {
        "id": "V_XPVtKETWwl"
      },
      "source": [
        "## Obtenir facilement X et y"
      ]
    },
    {
      "cell_type": "code",
      "execution_count": 10,
      "metadata": {
        "pycharm": {
          "name": "#%%\n"
        },
        "id": "EjM-_zlaTWwl"
      },
      "outputs": [],
      "source": [
        "def get_x_y(my_dataset):\n",
        "\n",
        "    X = my_dataset.drop([\"RainTomorrow\"], axis=1)\n",
        "    y = my_dataset[\"RainTomorrow\"]\n",
        "    \n",
        "    return X, y"
      ]
    },
    {
      "cell_type": "markdown",
      "metadata": {
        "id": "CoWuu7oBTWwm"
      },
      "source": [
        "## Standarsiation de la donnée"
      ]
    },
    {
      "cell_type": "code",
      "execution_count": 11,
      "metadata": {
        "id": "CHruVw4eTWwm"
      },
      "outputs": [],
      "source": [
        "from sklearn.preprocessing import MinMaxScaler\n",
        "\n",
        "# on applique la standardisation sur X pour que la meme moyenne soit utilisée pour les prochains traitements\n",
        "scaler = MinMaxScaler()\n",
        "X, y = get_x_y(df)\n",
        "X_scaled = scaler.fit_transform(X)"
      ]
    },
    {
      "cell_type": "markdown",
      "metadata": {
        "id": "OpX25AoCTWwm"
      },
      "source": [
        "## Recherche des data abbérantes"
      ]
    },
    {
      "cell_type": "markdown",
      "metadata": {
        "id": "pPC88jWETWwm"
      },
      "source": [
        "On recherche les outliers"
      ]
    },
    {
      "cell_type": "code",
      "execution_count": 12,
      "metadata": {
        "colab": {
          "base_uri": "https://localhost:8080/",
          "height": 0
        },
        "id": "170SYrcnTWwm",
        "outputId": "5ac836ed-ab4b-45f3-99d5-7da44a524741"
      },
      "outputs": [
        {
          "output_type": "display_data",
          "data": {
            "image/png": "[encoded data removed]",
            "text/plain": [
              "<Figure size 576x576 with 1 Axes>"
            ]
          },
          "metadata": {
            "needs_background": "light"
          }
        }
      ],
      "source": [
        "df_explore = pd.DataFrame(X_scaled, columns=X.columns)\n",
        "df_explore.boxplot(figsize=(8, 8))\n",
        "plt.xticks(rotation=90);"
      ]
    },
    {
      "cell_type": "markdown",
      "metadata": {
        "id": "OEtg_6xQTWwn"
      },
      "source": [
        "On remarque qu'on a énormément d'outliers sur Rainfall"
      ]
    },
    {
      "cell_type": "code",
      "execution_count": 13,
      "metadata": {
        "colab": {
          "base_uri": "https://localhost:8080/",
          "height": 0
        },
        "id": "vSCWQzjxTWwn",
        "outputId": "8e2be700-b07c-4b64-b5be-3ebb44bcad6a"
      },
      "outputs": [
        {
          "output_type": "display_data",
          "data": {
            "image/png": "[encoded data removed]",
            "text/plain": [
              "<Figure size 432x288 with 1 Axes>"
            ]
          },
          "metadata": {
            "needs_background": "light"
          }
        }
      ],
      "source": [
        "plt.boxplot(df_explore[\"Rainfall\"]);"
      ]
    },
    {
      "cell_type": "markdown",
      "metadata": {
        "id": "oK_wUkcRTWwn"
      },
      "source": [
        "Ces outliers ne sont pas des valeurs irréalistes, elles peuvent correspondre à une tempête par exemple. Cependant ces valeurs risques de perturber le modèle. On retire donc les outliers de cette variable"
      ]
    },
    {
      "cell_type": "markdown",
      "metadata": {
        "id": "T_TZ7jnhTWwn"
      },
      "source": [
        "### utilisation de la méthode 1.5 IQR: Inter Quartile Range."
      ]
    },
    {
      "cell_type": "markdown",
      "metadata": {
        "id": "Ik18XpXITWwn"
      },
      "source": [
        "On va retirer tout ce qui est en dehors de 1.5 IQR par rapport à la médiane"
      ]
    },
    {
      "cell_type": "code",
      "execution_count": 14,
      "metadata": {
        "id": "qwActyfCTWwn"
      },
      "outputs": [],
      "source": [
        "rainfall = df_explore[\"Rainfall\"]\n",
        "q3 = np.quantile(rainfall, 0.75)\n",
        "q1 = np.quantile(rainfall, 0.25)\n",
        "\n",
        "iqr = q3 - q1\n",
        "\n",
        "upper_bound = q3 + 1.5 * iqr\n",
        "lower_bound = q1 - 1.5 * iqr\n",
        "\n",
        "rainfall_wo_outliers = df_explore[(rainfall <= lower_bound) | (rainfall >= upper_bound)][\"Rainfall\"]"
      ]
    },
    {
      "cell_type": "code",
      "execution_count": 15,
      "metadata": {
        "colab": {
          "base_uri": "https://localhost:8080/",
          "height": 0
        },
        "id": "IhwbpoleTWwo",
        "outputId": "34f0004d-24cb-4bb8-efcd-30abc8a9f22c"
      },
      "outputs": [
        {
          "output_type": "display_data",
          "data": {
            "image/png": "[encoded data removed]",
            "text/plain": [
              "<Figure size 432x288 with 1 Axes>"
            ]
          },
          "metadata": {
            "needs_background": "light"
          }
        }
      ],
      "source": [
        "plt.boxplot(rainfall_wo_outliers);"
      ]
    },
    {
      "cell_type": "markdown",
      "metadata": {
        "id": "rUlc4V7NTWwo"
      },
      "source": [
        "On recréé le dataframe sans les lignes des outliers de rainfall"
      ]
    },
    {
      "cell_type": "markdown",
      "metadata": {
        "pycharm": {
          "name": "#%% md\n"
        },
        "id": "850nCRUrTWwo"
      },
      "source": [
        "# Premiere regression logistique"
      ]
    },
    {
      "cell_type": "code",
      "execution_count": 16,
      "metadata": {
        "colab": {
          "base_uri": "https://localhost:8080/"
        },
        "id": "MG7WlUg0TWwo",
        "outputId": "fba4169b-3f87-4ea3-be67-afa9bccc9c11"
      },
      "outputs": [
        {
          "output_type": "execute_result",
          "data": {
            "text/plain": [
              "(5209, 25)"
            ]
          },
          "metadata": {},
          "execution_count": 16
        }
      ],
      "source": [
        "df_wo_out = df[(rainfall <= lower_bound) | (rainfall >= upper_bound)]\n",
        "df_wo_out.shape"
      ]
    },
    {
      "cell_type": "code",
      "execution_count": 17,
      "metadata": {
        "pycharm": {
          "name": "#%%\n"
        },
        "id": "Cz09pJuUTWwo"
      },
      "outputs": [],
      "source": [
        "from sklearn.model_selection import train_test_split\n",
        "\n",
        "X_wo_out, y_wo_out = get_x_y(df_wo_out)\n",
        "\n",
        "X_wo_out_train, X_wo_out_test, y_wo_out_train, y_wo_out_test = train_test_split(X_wo_out, y_wo_out, test_size=0.25, random_state=1)"
      ]
    },
    {
      "cell_type": "code",
      "execution_count": 18,
      "metadata": {
        "pycharm": {
          "name": "#%%\n"
        },
        "id": "-HKXEAhzTWwo"
      },
      "outputs": [],
      "source": [
        "from sklearn.linear_model import LogisticRegression\n",
        "\n",
        "lr = LogisticRegression(max_iter=1000)\n",
        "X_wo_out_train_scaled = scaler.fit_transform(X_wo_out_train)\n",
        "\n",
        "lr.fit(X_wo_out_train_scaled, y_wo_out_train)\n",
        "\n",
        "X_wo_out_test_scaled = scaler.fit_transform(X_wo_out_test)\n",
        "prediction = lr.predict(X_wo_out_test_scaled)"
      ]
    },
    {
      "cell_type": "code",
      "execution_count": 19,
      "metadata": {
        "colab": {
          "base_uri": "https://localhost:8080/"
        },
        "id": "y9aqa4lkTWwp",
        "outputId": "fc8d19b5-b4c3-47b4-b262-36517c0998cf"
      },
      "outputs": [
        {
          "output_type": "execute_result",
          "data": {
            "text/plain": [
              "0.7373056675945389"
            ]
          },
          "metadata": {},
          "execution_count": 19
        }
      ],
      "source": [
        "from sklearn.metrics import balanced_accuracy_score, confusion_matrix, classification_report\n",
        "\n",
        "balanced_accuracy_score(y_wo_out_test, prediction)"
      ]
    },
    {
      "cell_type": "code",
      "execution_count": 20,
      "metadata": {
        "colab": {
          "base_uri": "https://localhost:8080/"
        },
        "id": "VOkuJfvUTWwp",
        "outputId": "fcea79c9-5064-4749-bf12-d9da51c9b58d"
      },
      "outputs": [
        {
          "output_type": "execute_result",
          "data": {
            "text/plain": [
              "array([[0.83045977, 0.16954023],\n",
              "       [0.35584843, 0.64415157]])"
            ]
          },
          "metadata": {},
          "execution_count": 20
        }
      ],
      "source": [
        "confusion_matrix(y_wo_out_test, prediction, normalize=\"true\")"
      ]
    },
    {
      "cell_type": "code",
      "execution_count": 21,
      "metadata": {
        "colab": {
          "base_uri": "https://localhost:8080/"
        },
        "id": "52VzPGOBTWwp",
        "outputId": "45da8ec6-b5b5-4ede-bb25-5105361067d2"
      },
      "outputs": [
        {
          "output_type": "stream",
          "name": "stdout",
          "text": [
            "              precision    recall  f1-score   support\n",
            "\n",
            "           0       0.73      0.83      0.78       696\n",
            "           1       0.77      0.64      0.70       607\n",
            "\n",
            "    accuracy                           0.74      1303\n",
            "   macro avg       0.75      0.74      0.74      1303\n",
            "weighted avg       0.75      0.74      0.74      1303\n",
            "\n"
          ]
        }
      ],
      "source": [
        "print(classification_report(y_wo_out_test, prediction))"
      ]
    },
    {
      "cell_type": "markdown",
      "metadata": {
        "id": "VcxiyBjCTWwp"
      },
      "source": [
        "# Première conclusion"
      ]
    },
    {
      "cell_type": "markdown",
      "metadata": {
        "id": "xgq0OA6tTWwp"
      },
      "source": [
        "On voit que le modèle arrive à bien prédire les négatifs par contre un peu moins les positifs. Il y a un désequilibre de classe mais pas très prononcé. Le désequilibre était beaucoup plus prononcé avant la suppression des outliers de Rainfall."
      ]
    },
    {
      "cell_type": "code",
      "execution_count": 22,
      "metadata": {
        "colab": {
          "base_uri": "https://localhost:8080/"
        },
        "id": "q2xhUUv4TWwp",
        "outputId": "ab777d00-bcad-456f-8d64-80b2bbbaf897"
      },
      "outputs": [
        {
          "output_type": "execute_result",
          "data": {
            "text/plain": [
              "0    0.536354\n",
              "1    0.463646\n",
              "Name: RainTomorrow, dtype: float64"
            ]
          },
          "metadata": {},
          "execution_count": 22
        }
      ],
      "source": [
        "y_wo_out_train.value_counts(normalize=True)"
      ]
    },
    {
      "cell_type": "code",
      "execution_count": 23,
      "metadata": {
        "colab": {
          "base_uri": "https://localhost:8080/",
          "height": 0
        },
        "id": "aWZtXXPlTWwq",
        "outputId": "5ef3f895-a0c4-4dda-fe65-cfd74ae881bb"
      },
      "outputs": [
        {
          "output_type": "display_data",
          "data": {
            "image/png": "[encoded data removed]",
            "text/plain": [
              "<Figure size 432x288 with 1 Axes>"
            ]
          },
          "metadata": {
            "needs_background": "light"
          }
        }
      ],
      "source": [
        "y_wo_out_train.value_counts().plot(kind='bar');"
      ]
    },
    {
      "cell_type": "markdown",
      "metadata": {
        "id": "UwptlAq8TWwq"
      },
      "source": [
        "La cellule précédente confirme l'idée du léger désequilibre de classes lorsqu'on retire les outliers."
      ]
    },
    {
      "cell_type": "code",
      "execution_count": 24,
      "metadata": {
        "colab": {
          "base_uri": "https://localhost:8080/",
          "height": 0
        },
        "id": "0jUS5j0uTWwq",
        "outputId": "eac558aa-3ce1-48a8-c700-acb99d2a1079"
      },
      "outputs": [
        {
          "output_type": "display_data",
          "data": {
            "image/png": "[encoded data removed]",
            "text/plain": [
              "<Figure size 432x288 with 1 Axes>"
            ]
          },
          "metadata": {
            "needs_background": "light"
          }
        }
      ],
      "source": [
        "X, y = get_x_y(df)\n",
        "X_train, X_test, y_train, y_test = train_test_split(X, y, test_size=0.25, random_state=1)\n",
        "y_train.value_counts().plot(kind='bar');"
      ]
    },
    {
      "cell_type": "markdown",
      "metadata": {
        "id": "HfEALdAETWwq"
      },
      "source": [
        "Le desequilibre de classe est beaucoup plus prononcé si on avait pas retiré les outliers de la classe positive"
      ]
    },
    {
      "cell_type": "markdown",
      "metadata": {
        "id": "KT2TJJ3gTWwq"
      },
      "source": [
        "# Reglage du pb de desequilibre de classe ( à utiliser si on fait déjà la suppression des outliers de Rainfall ?)"
      ]
    },
    {
      "cell_type": "markdown",
      "metadata": {
        "id": "iyMUUzjnTWwq"
      },
      "source": [
        "On va rééchantilloner et réduire la taille des données de la classe majoritaire, i.e la classe negative"
      ]
    },
    {
      "cell_type": "code",
      "execution_count": 25,
      "metadata": {
        "id": "iv71PIa2TWwq"
      },
      "outputs": [],
      "source": [
        "def resample(my_dataset):\n",
        "    \n",
        "\n",
        "    indexes_negatives = my_dataset[my_dataset[\"RainTomorrow\"] == 0].index\n",
        "    indexes_positives = my_dataset[my_dataset[\"RainTomorrow\"] == 1].index\n",
        "    \n",
        "    df_negative_resample =  my_dataset.loc[indexes_negatives].sample(n=indexes_positives.shape[0], random_state=1)\n",
        "    df_positive = my_dataset.loc[indexes_positives]\n",
        "    df_resample = pd.concat([df_negative_resample, df_positive])\n",
        "    \n",
        "    return df_resample"
      ]
    },
    {
      "cell_type": "markdown",
      "metadata": {
        "id": "WPP_LD3XTWwq"
      },
      "source": [
        "---"
      ]
    },
    {
      "cell_type": "markdown",
      "metadata": {
        "id": "XdsCQVqYTWwr"
      },
      "source": [
        "Tout ce qui suit n'est pas à jour"
      ]
    },
    {
      "cell_type": "code",
      "execution_count": 25,
      "metadata": {
        "id": "7Mmr6DcQTWwr"
      },
      "outputs": [],
      "source": [
        ""
      ]
    },
    {
      "cell_type": "markdown",
      "metadata": {
        "id": "clUIVKZXTWwr"
      },
      "source": [
        "# On retente l'algo sur le dataset resample"
      ]
    },
    {
      "cell_type": "code",
      "execution_count": 26,
      "metadata": {
        "pycharm": {
          "name": "#%%\n"
        },
        "colab": {
          "base_uri": "https://localhost:8080/",
          "height": 166
        },
        "id": "BXMs13cMTWwr",
        "outputId": "d8421417-b810-4be8-e9cd-4cc9e00f2491"
      },
      "outputs": [
        {
          "output_type": "error",
          "ename": "NameError",
          "evalue": "ignored",
          "traceback": [
            "\u001b[0;31m---------------------------------------------------------------------------\u001b[0m",
            "\u001b[0;31mNameError\u001b[0m                                 Traceback (most recent call last)",
            "\u001b[0;32m<ipython-input-26-b3a8a2bfd491>\u001b[0m in \u001b[0;36m<module>\u001b[0;34m()\u001b[0m\n\u001b[0;32m----> 1\u001b[0;31m \u001b[0mX\u001b[0m\u001b[0;34m,\u001b[0m \u001b[0my\u001b[0m \u001b[0;34m=\u001b[0m \u001b[0mget_x_y\u001b[0m\u001b[0;34m(\u001b[0m\u001b[0mresample\u001b[0m\u001b[0;34m(\u001b[0m\u001b[0mdataset\u001b[0m\u001b[0;34m)\u001b[0m\u001b[0;34m)\u001b[0m\u001b[0;34m\u001b[0m\u001b[0;34m\u001b[0m\u001b[0m\n\u001b[0m",
            "\u001b[0;31mNameError\u001b[0m: name 'dataset' is not defined"
          ]
        }
      ],
      "source": [
        "X, y = get_x_y(resample(dataset))"
      ]
    },
    {
      "cell_type": "code",
      "execution_count": null,
      "metadata": {
        "id": "Jjh9OAVQTWwr"
      },
      "outputs": [],
      "source": [
        "y.value_counts().plot(kind='bar');"
      ]
    },
    {
      "cell_type": "code",
      "execution_count": null,
      "metadata": {
        "pycharm": {
          "name": "#%%\n"
        },
        "id": "_WJybNcLTWwr"
      },
      "outputs": [],
      "source": [
        "X_train, X_test, y_train, y_test = train_test_split(X, y, test_size=0.25)"
      ]
    },
    {
      "cell_type": "code",
      "execution_count": null,
      "metadata": {
        "id": "lJZZOUc7TWwr"
      },
      "outputs": [],
      "source": [
        "# on applique la standardisation sur X_train pour que la meme moyenne soit utilisée pour les prochains traitements\n",
        "scaler = StandardScaler()\n",
        "X_train_scaled = scaler.fit_transform(X_train)"
      ]
    },
    {
      "cell_type": "code",
      "execution_count": null,
      "metadata": {
        "id": "cCkHtRk-TWwr"
      },
      "outputs": [],
      "source": [
        "# on refait la prediction mais avec les données standardisées\n",
        "lr = LogisticRegression()\n",
        "lr.fit(X_train_scaled, y_train)"
      ]
    },
    {
      "cell_type": "code",
      "execution_count": null,
      "metadata": {
        "id": "hXNgwv1BTWwr"
      },
      "outputs": [],
      "source": [
        "# on va appliquer notre modèle sur les X_test\n",
        "# avant ça il faut standardiser les data de test avec le scaler qui a déjà la moyenne des valeurs d'entrainement\n",
        "X_test_scaled = scaler.transform(X_test)"
      ]
    },
    {
      "cell_type": "code",
      "execution_count": null,
      "metadata": {
        "id": "D2rgtgifTWwr"
      },
      "outputs": [],
      "source": [
        "prediction_from_scaled = lr.predict(X_test_scaled)"
      ]
    },
    {
      "cell_type": "code",
      "execution_count": null,
      "metadata": {
        "id": "z4Zab6QQTWws"
      },
      "outputs": [],
      "source": [
        "accuracy_score(y_test, prediction_from_scaled)"
      ]
    },
    {
      "cell_type": "code",
      "execution_count": null,
      "metadata": {
        "id": "7_i6End1TWws"
      },
      "outputs": [],
      "source": [
        "confusion_matrix(y_test, prediction_from_scaled, normalize=\"true\")"
      ]
    },
    {
      "cell_type": "code",
      "execution_count": null,
      "metadata": {
        "id": "6yp241YdTWws"
      },
      "outputs": [],
      "source": [
        "print(classification_report(y_test, prediction_from_scaled))"
      ]
    },
    {
      "cell_type": "markdown",
      "metadata": {
        "id": "-g-t4D1STWws"
      },
      "source": [
        "On a un f1 score moins bon pour la classe negative mais nettement meilleur pour la classe positive. Les prédictions sont mieux réparties."
      ]
    },
    {
      "cell_type": "markdown",
      "metadata": {
        "id": "W4F6JiHtTWws"
      },
      "source": [
        "# Selection de variables (feature selection)"
      ]
    },
    {
      "cell_type": "markdown",
      "metadata": {
        "id": "fvtdiBt5TWws"
      },
      "source": [
        "On cherche les variables utiles. Pour ça on va créer un selecteur qui va selectioner les variables qui ont le score le plus élevé de chi2 qui est la correlation entre les variables de X et la target y"
      ]
    },
    {
      "cell_type": "code",
      "execution_count": null,
      "metadata": {
        "id": "C_IxdvuCTWws"
      },
      "outputs": [],
      "source": [
        "from sklearn.feature_selection import SelectKBest, chi2"
      ]
    },
    {
      "cell_type": "code",
      "execution_count": null,
      "metadata": {
        "id": "YT-MEwxdTWws"
      },
      "outputs": [],
      "source": [
        "from sklearn.preprocessing import MinMaxScaler\n",
        "scaler = MinMaxScaler()\n",
        "X_scaled = scaler.fit_transform(X)"
      ]
    },
    {
      "cell_type": "code",
      "execution_count": null,
      "metadata": {
        "id": "xI48kiXhTWws"
      },
      "outputs": [],
      "source": [
        "selector = SelectKBest(chi2, k=10)"
      ]
    },
    {
      "cell_type": "code",
      "execution_count": null,
      "metadata": {
        "id": "rk6-nPTATWwt"
      },
      "outputs": [],
      "source": [
        "selector.fit_transform(X_scaled, y)"
      ]
    },
    {
      "cell_type": "code",
      "execution_count": null,
      "metadata": {
        "scrolled": true,
        "id": "gT4bG6lpTWwt"
      },
      "outputs": [],
      "source": [
        "X_less = X.loc[:,selector.get_support()]\n",
        "pd.Series(chi2(X_less, y)[0], index=X_less.columns).plot(kind='bar')"
      ]
    },
    {
      "cell_type": "markdown",
      "metadata": {
        "id": "dmeF5LgOTWwt"
      },
      "source": [
        "Humidity3pm et Rainfall sont les variables qui influent le plus la target y"
      ]
    },
    {
      "cell_type": "code",
      "execution_count": null,
      "metadata": {
        "pycharm": {
          "name": "#%%\n"
        },
        "id": "97Ak5hh7TWwt"
      },
      "outputs": [],
      "source": [
        "X_train, X_test, y_train, y_test = train_test_split(X_less, y, test_size=0.25, random_state=1)"
      ]
    },
    {
      "cell_type": "code",
      "execution_count": null,
      "metadata": {
        "id": "i2x-B3ubTWwt"
      },
      "outputs": [],
      "source": [
        "# on applique la standardisation sur X_train pour que la meme moyenne soit utilisée pour les prochains traitements\n",
        "scaler = StandardScaler()\n",
        "X_train_scaled = scaler.fit_transform(X_train)"
      ]
    },
    {
      "cell_type": "code",
      "execution_count": null,
      "metadata": {
        "id": "VR0fCs_4TWwt"
      },
      "outputs": [],
      "source": [
        "# on refait la prediction mais avec les données standardisées\n",
        "lr = LogisticRegression()\n",
        "lr.fit(X_train_scaled, y_train)"
      ]
    },
    {
      "cell_type": "code",
      "execution_count": null,
      "metadata": {
        "id": "Me5rIjTcTWwt"
      },
      "outputs": [],
      "source": [
        "# on va appliquer notre modèle sur les X_test\n",
        "# avant ça il faut standardiser les data de test avec le scaler qui a déjà la moyenne des valeurs d'entrainement\n",
        "X_test_scaled = scaler.transform(X_test)"
      ]
    },
    {
      "cell_type": "code",
      "execution_count": null,
      "metadata": {
        "id": "6ca8trlFTWwt"
      },
      "outputs": [],
      "source": [
        "prediction_from_scaled = lr.predict(X_test_scaled)"
      ]
    },
    {
      "cell_type": "code",
      "execution_count": null,
      "metadata": {
        "id": "1NMu_0YxTWwt"
      },
      "outputs": [],
      "source": [
        "accuracy_score(y_test, prediction_from_scaled)"
      ]
    },
    {
      "cell_type": "code",
      "execution_count": null,
      "metadata": {
        "id": "OhkMUHtgTWwu"
      },
      "outputs": [],
      "source": [
        "confusion_matrix(y_test, prediction_from_scaled, normalize=\"true\")"
      ]
    },
    {
      "cell_type": "code",
      "execution_count": null,
      "metadata": {
        "id": "gim7ij_0TWwu"
      },
      "outputs": [],
      "source": [
        "print(classification_report(y_test, prediction_from_scaled))"
      ]
    },
    {
      "cell_type": "markdown",
      "metadata": {
        "id": "4pLDmuG7TWwu"
      },
      "source": [
        "Avec les 10 première variables dont le test du chi2 est le plus élévé on obtient les même résultats qu'avec toutes les variables, donc seules les 10 premieres sont importantes."
      ]
    },
    {
      "cell_type": "markdown",
      "metadata": {
        "id": "f3iJQDcETWwu"
      },
      "source": [
        "# Test avec PCA"
      ]
    },
    {
      "cell_type": "code",
      "execution_count": null,
      "metadata": {
        "id": "EtoBp5XsTWwu"
      },
      "outputs": [],
      "source": [
        "X, y = get_x_y(dataset)"
      ]
    },
    {
      "cell_type": "code",
      "execution_count": null,
      "metadata": {
        "id": "elwvOfSSTWwu"
      },
      "outputs": [],
      "source": [
        "from sklearn.decomposition import PCA"
      ]
    },
    {
      "cell_type": "code",
      "execution_count": null,
      "metadata": {
        "id": "2FS0-KqDTWwu"
      },
      "outputs": [],
      "source": [
        "liste = []\n",
        "for i in range(1, 15):\n",
        "    pca = PCA(n_components=i)\n",
        "    pca.fit_transform(X)\n",
        "    liste.append(sum(pca.explained_variance_ratio_))\n",
        "plt.hlines(0.95, 1, 15)\n",
        "plt.plot(liste)"
      ]
    },
    {
      "cell_type": "markdown",
      "metadata": {
        "id": "BRRIy2KnTWwu"
      },
      "source": [
        "le graphe ci dessus confirme que 9 composantes principales suffisent à expliquer 95% de la variance globale"
      ]
    },
    {
      "cell_type": "code",
      "execution_count": null,
      "metadata": {
        "id": "UaX5clhaTWwu"
      },
      "outputs": [],
      "source": [
        "scaler = MinMaxScaler()\n",
        "X_scaled = scaler.fit_transform(X)\n",
        "\n",
        "pca = PCA(n_components=9)\n",
        "\n",
        "# nouvelles variables\n",
        "X_scaled_pca = pca.fit_transform(X_scaled)"
      ]
    },
    {
      "cell_type": "code",
      "execution_count": null,
      "metadata": {
        "id": "T5E5CHRETWwu"
      },
      "outputs": [],
      "source": [
        "print(\" Nombre de dimensions:\",pca.n_components_)\n",
        "print(\"Pourcentage de variance expliquée par chaque dimension:\\n \\n\")\n",
        "\n",
        "for i in range(9):\n",
        "    \n",
        "    print(f\"Dimension {i}: {pca.explained_variance_ratio_[i]}\")"
      ]
    },
    {
      "cell_type": "code",
      "execution_count": null,
      "metadata": {
        "id": "CVbgv3dXTWwv"
      },
      "outputs": [],
      "source": [
        "X_train, X_test, y_train, y_test = train_test_split(X_scaled_pca, y, test_size=0.25, random_state=1)"
      ]
    },
    {
      "cell_type": "code",
      "execution_count": null,
      "metadata": {
        "id": "7tFG1eiyTWwv"
      },
      "outputs": [],
      "source": [
        "lr = LogisticRegression()\n",
        "lr.fit(X_train, y_train)"
      ]
    },
    {
      "cell_type": "code",
      "execution_count": null,
      "metadata": {
        "id": "mq9ftrnkTWwv"
      },
      "outputs": [],
      "source": [
        "X_test_scaled = scaler.fit_transform(X_test)"
      ]
    },
    {
      "cell_type": "code",
      "execution_count": null,
      "metadata": {
        "id": "y0l-b_AkTWwv"
      },
      "outputs": [],
      "source": [
        "prediction = lr.predict(X_test_scaled)"
      ]
    },
    {
      "cell_type": "code",
      "execution_count": null,
      "metadata": {
        "id": "GTfEqKcXTWwv"
      },
      "outputs": [],
      "source": [
        "print(classification_report(y_test, prediction))"
      ]
    }
  ],
  "metadata": {
    "interpreter": {
      "hash": "31f2aee4e71d21fbe5cf8b01ff0e069b9275f58929596ceb00d14d90e3e16cd6"
    },
    "kernelspec": {
      "display_name": "Python 3 (ipykernel)",
      "language": "python",
      "name": "python3"
    },
    "language_info": {
      "codemirror_mode": {
        "name": "ipython",
        "version": 3
      },
      "file_extension": ".py",
      "mimetype": "text/x-python",
      "name": "python",
      "nbconvert_exporter": "python",
      "pygments_lexer": "ipython3",
      "version": "3.8.9"
    },
    "colab": {
      "name": "projectRains_v2.ipynb",
      "provenance": []
    }
  },
  "nbformat": 4,
  "nbformat_minor": 0
}